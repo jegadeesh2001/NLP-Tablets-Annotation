{
  "cells": [
    {
      "cell_type": "markdown",
      "metadata": {
        "id": "view-in-github",
        "colab_type": "text"
      },
      "source": [
        "<a href=\"https://colab.research.google.com/github/jegadeesh2001/NLP-Tablets-Annotation/blob/main/NER_TRAINING.ipynb\" target=\"_parent\"><img src=\"https://colab.research.google.com/assets/colab-badge.svg\" alt=\"Open In Colab\"/></a>"
      ]
    },
    {
      "cell_type": "code",
      "execution_count": null,
      "metadata": {
        "colab": {
          "base_uri": "https://localhost:8080/"
        },
        "id": "P6XqrBd1nE1a",
        "outputId": "e55f686c-ecaf-43d9-aeaa-7705567959f8"
      },
      "outputs": [
        {
          "output_type": "stream",
          "name": "stdout",
          "text": [
            "/usr/local/lib/python3.9/dist-packages/torch/cuda/__init__.py:497: UserWarning: Can't initialize NVML\n",
            "  warnings.warn(\"Can't initialize NVML\")\n",
            "2023-03-23 03:14:30.386110: I tensorflow/core/platform/cpu_feature_guard.cc:193] This TensorFlow binary is optimized with oneAPI Deep Neural Network Library (oneDNN) to use the following CPU instructions in performance-critical operations:  AVX2 FMA\n",
            "To enable them in other operations, rebuild TensorFlow with the appropriate compiler flags.\n",
            "2023-03-23 03:14:31.943118: W tensorflow/compiler/xla/stream_executor/platform/default/dso_loader.cc:64] Could not load dynamic library 'libnvinfer.so.7'; dlerror: libnvinfer.so.7: cannot open shared object file: No such file or directory; LD_LIBRARY_PATH: /usr/local/nvidia/lib:/usr/local/nvidia/lib64\n",
            "2023-03-23 03:14:31.943385: W tensorflow/compiler/xla/stream_executor/platform/default/dso_loader.cc:64] Could not load dynamic library 'libnvinfer_plugin.so.7'; dlerror: libnvinfer_plugin.so.7: cannot open shared object file: No such file or directory; LD_LIBRARY_PATH: /usr/local/nvidia/lib:/usr/local/nvidia/lib64\n",
            "2023-03-23 03:14:31.943414: W tensorflow/compiler/tf2tensorrt/utils/py_utils.cc:38] TF-TRT Warning: Cannot dlopen some TensorRT libraries. If you would like to use Nvidia GPU with TensorRT, please make sure the missing libraries mentioned above are installed properly.\n",
            "2023-03-23 03:14:38.388706: E tensorflow/compiler/xla/stream_executor/cuda/cuda_driver.cc:267] failed call to cuInit: CUDA_ERROR_NO_DEVICE: no CUDA-capable device is detected\n",
            "\u001b[2K     \u001b[90m━━━━━━━━━━━━━━━━━━━━━━━━━━━━━━━━━━━━━━━\u001b[0m \u001b[32m587.7/587.7 MB\u001b[0m \u001b[31m2.0 MB/s\u001b[0m eta \u001b[36m0:00:00\u001b[0m\n",
            "\u001b[?25h\u001b[38;5;2m✔ Download and installation successful\u001b[0m\n",
            "You can now load the package via spacy.load('en_core_web_lg')\n"
          ]
        }
      ],
      "source": [
        "!python -m spacy download en_core_web_lg -q"
      ]
    },
    {
      "cell_type": "code",
      "execution_count": null,
      "metadata": {
        "colab": {
          "base_uri": "https://localhost:8080/"
        },
        "id": "DD4krB5XnDUI",
        "outputId": "5bcc7573-693d-4e61-f96c-1bde6a890ba3"
      },
      "outputs": [
        {
          "output_type": "stream",
          "name": "stderr",
          "text": [
            "[nltk_data] Downloading package punkt to /root/nltk_data...\n",
            "[nltk_data]   Unzipping tokenizers/punkt.zip.\n",
            "[nltk_data] Downloading package words to /root/nltk_data...\n",
            "[nltk_data]   Unzipping corpora/words.zip.\n"
          ]
        }
      ],
      "source": [
        "import urllib\n",
        "import numpy as np\n",
        "import pandas as pd\n",
        "from google.colab.patches import cv2_imshow\n",
        "import nltk\n",
        "nltk.download('punkt')\n",
        "nltk.download('words')\n",
        "from nltk.metrics.distance  import edit_distance\n",
        "from nltk.corpus import words\n",
        "from nltk import word_tokenize\n",
        "import itertools"
      ]
    },
    {
      "cell_type": "code",
      "execution_count": null,
      "metadata": {
        "id": "aZ_tk4_Hm161"
      },
      "outputs": [],
      "source": [
        "def get_plain_vocabluary(column):\n",
        "    df=med_df[[column]]\n",
        "    df.dropna(inplace=True)\n",
        "    sentencess = [word_tokenize(sentence[column]) for index, sentence in df.iterrows()]\n",
        "    mergesentences = list(itertools.chain.from_iterable(sentencess))\n",
        "    plainvocabulary = list(set(mergesentences))\n",
        "    return plainvocabulary\n",
        "  \n",
        "\n",
        "def spelling_correction(sentence):\n",
        "    splittedsentence = word_tokenize(sentence)\n",
        "    for i,word in enumerate(splittedsentence):\n",
        "        word=word.lower() \n",
        "        if (word.lower() not in valsLower and  word.isalpha()):\n",
        "        \n",
        "            try:\n",
        "      \n",
        "              temp = [(edit_distance(word, w),w) for w in valsLower if w[0]==word[0]]\n",
        "              \n",
        "              splittedsentence[i] = sorted(temp, key = lambda val:val[0])[0][1]\n",
        "            except:\n",
        "          \n",
        "              splittedsentence[i] = word\n",
        "        else:\n",
        "            splittedsentence[i] = word\n",
        "    return ' '.join(splittedsentence)"
      ]
    },
    {
      "cell_type": "code",
      "execution_count": null,
      "metadata": {
        "id": "c-dEPuqZujeC"
      },
      "outputs": [],
      "source": [
        "import numpy as np\n",
        "\n",
        "def minimum_edit_distance(source, target):\n",
        "    m, n = len(source), len(target)\n",
        "    dp = np.zeros((m+1, n+1), dtype=int)\n",
        "    \n",
        "    \n",
        "    for i in range(m+1):\n",
        "        dp[i, 0] = i\n",
        "    for j in range(n+1):\n",
        "        dp[0, j] = j\n",
        "    \n",
        "    # Fill in the DP table\n",
        "    for i in range(1, m+1):\n",
        "        for j in range(1, n+1):\n",
        "            if source[i-1] == target[j-1]:\n",
        "                dp[i, j] = dp[i-1, j-1]\n",
        "            else:\n",
        "                dp[i, j] = min(dp[i-1, j-1]+1, dp[i-1, j]+1, dp[i, j-1]+1)\n",
        "    \n",
        "    return dp[m, n]\n",
        "\n",
        "def time_optimized_spelling_correction(word, word_list):\n",
        "    min_distance = float('inf')\n",
        "    correct_word = word\n",
        "    for w in correct_words:\n",
        "      if word[0]==w[0]:\n",
        "        distance = minimum_edit_distance(word, w)\n",
        "        if distance < min_distance:\n",
        "            min_distance = distance\n",
        "            correct_word = w\n",
        "    return correct_word\n",
        "\n",
        "# input_word = \"babana\"\n",
        "# corrected_word = time_optimized_spelling_correction(input_word, word_list)\n",
        "# print(\"Corrected word:\", corrected_word)\n",
        "\n",
        "\n",
        "def spelling_correction_alter(sentence):\n",
        "    splittedsentence = word_tokenize(sentence)\n",
        "    for i,word in enumerate(splittedsentence):\n",
        "        word=word.lower() \n",
        "        if (word.lower() not in valsLower and  word.isalpha()):\n",
        "        \n",
        "            try:\n",
        "      \n",
        "              \n",
        "              splittedsentence[i] = time_optimized_spelling_correction(word,correct_words)\n",
        "            except:\n",
        "          \n",
        "              splittedsentence[i] = word\n",
        "        else:\n",
        "            splittedsentence[i] = word\n",
        "    return ' '.join(splittedsentence)\n"
      ]
    },
    {
      "cell_type": "code",
      "execution_count": null,
      "metadata": {
        "colab": {
          "base_uri": "https://localhost:8080/"
        },
        "id": "nARlHbJKh0yl",
        "outputId": "e981de49-1585-4ffa-c3b4-2cddb721ec28"
      },
      "outputs": [
        {
          "name": "stderr",
          "output_type": "stream",
          "text": [
            "/usr/local/lib/python3.8/dist-packages/pandas/util/_decorators.py:311: SettingWithCopyWarning: \n",
            "A value is trying to be set on a copy of a slice from a DataFrame\n",
            "\n",
            "See the caveats in the documentation: https://pandas.pydata.org/pandas-docs/stable/user_guide/indexing.html#returning-a-view-versus-a-copy\n",
            "  return func(*args, **kwargs)\n"
          ]
        }
      ],
      "source": [
        "med_df=pd.read_csv('/content/drive/MyDrive/A_Z_medicines_dataset_of_India.csv')\n",
        "tab_name=set(get_plain_vocabluary(\"name\"))\n",
        "manf=set(get_plain_vocabluary(\"manufacturer_name\"))\n",
        "short_chem=set(get_plain_vocabluary(\"short_composition1\"))\n",
        "long_chem=set(get_plain_vocabluary(\"short_composition2\"))\n"
      ]
    },
    {
      "cell_type": "code",
      "execution_count": null,
      "metadata": {
        "id": "1KigytmyiE6a"
      },
      "outputs": [],
      "source": [
        "correct_words = words.words()\n",
        "correct_words.extend(tab_name)\n",
        "correct_words.extend(manf)\n",
        "correct_words.extend(short_chem)\n",
        "correct_words.extend(long_chem)"
      ]
    },
    {
      "cell_type": "code",
      "execution_count": null,
      "metadata": {
        "id": "r-ORux5ok8OW"
      },
      "outputs": [],
      "source": [
        "valsLower = [item.lower() for item in correct_words]"
      ]
    },
    {
      "cell_type": "code",
      "execution_count": null,
      "metadata": {
        "id": "dmVxZfTqtQq7"
      },
      "outputs": [],
      "source": [
        "sent=pd.read_csv('/content/liver_text_data.csv')"
      ]
    },
    {
      "cell_type": "code",
      "execution_count": null,
      "metadata": {
        "colab": {
          "base_uri": "https://localhost:8080/",
          "height": 423
        },
        "id": "hlAy_FaMtnsW",
        "outputId": "0b97e2e4-150c-4e63-83d9-ed9e39c65a89"
      },
      "outputs": [
        {
          "data": {
            "text/html": [
              "\n",
              "  <div id=\"df-21f402d4-e39e-4071-b74d-f5f6563531ce\">\n",
              "    <div class=\"colab-df-container\">\n",
              "      <div>\n",
              "<style scoped>\n",
              "    .dataframe tbody tr th:only-of-type {\n",
              "        vertical-align: middle;\n",
              "    }\n",
              "\n",
              "    .dataframe tbody tr th {\n",
              "        vertical-align: top;\n",
              "    }\n",
              "\n",
              "    .dataframe thead th {\n",
              "        text-align: right;\n",
              "    }\n",
              "</style>\n",
              "<table border=\"1\" class=\"dataframe\">\n",
              "  <thead>\n",
              "    <tr style=\"text-align: right;\">\n",
              "      <th></th>\n",
              "      <th>Unnamed: 0</th>\n",
              "      <th>link</th>\n",
              "      <th>text</th>\n",
              "    </tr>\n",
              "  </thead>\n",
              "  <tbody>\n",
              "    <tr>\n",
              "      <th>0</th>\n",
              "      <td>0</td>\n",
              "      <td>https://www.netmeds.com/images/product-v1/600x...</td>\n",
              "      <td>Ademetionine Tablets 400 mg Adefresh-400 T-400...</td>\n",
              "    </tr>\n",
              "    <tr>\n",
              "      <th>1</th>\n",
              "      <td>1</td>\n",
              "      <td>https://www.netmeds.com/images/product-v1/600x...</td>\n",
              "      <td>Composition: MfgLic.No.110/UA/SC/P-2006&amp;110/UA...</td>\n",
              "    </tr>\n",
              "    <tr>\n",
              "      <th>2</th>\n",
              "      <td>2</td>\n",
              "      <td>https://www.netmeds.com/images/product-v1/600x...</td>\n",
              "      <td>Marketednce ASCENTRA Di   Ascentra 8/4Frnds Co...</td>\n",
              "    </tr>\n",
              "    <tr>\n",
              "      <th>3</th>\n",
              "      <td>3</td>\n",
              "      <td>https://www.netmeds.com/images/product-v1/600x...</td>\n",
              "      <td>SHNOWOE starta R0o Adenomnac 121% Manotactured...</td>\n",
              "    </tr>\n",
              "    <tr>\n",
              "      <th>4</th>\n",
              "      <td>4</td>\n",
              "      <td>https://www.netmeds.com/images/product-v1/600x...</td>\n",
              "      <td>Metadoxine Tablets ALCOLIV each uncoataotablet...</td>\n",
              "    </tr>\n",
              "    <tr>\n",
              "      <th>...</th>\n",
              "      <td>...</td>\n",
              "      <td>...</td>\n",
              "      <td>...</td>\n",
              "    </tr>\n",
              "    <tr>\n",
              "      <th>86</th>\n",
              "      <td>86</td>\n",
              "      <td>https://www.netmeds.com/images/product-v1/600x...</td>\n",
              "      <td>torasoxine wRnine L-asparate.Jaune.Pvndoxine H...</td>\n",
              "    </tr>\n",
              "    <tr>\n",
              "      <th>87</th>\n",
              "      <td>87</td>\n",
              "      <td>https://www.netmeds.com/images/product-v1/600x...</td>\n",
              "      <td>Uodeoxychotic Acid ipi50 mg Usibon-15 ColourTi...</td>\n",
              "    </tr>\n",
              "    <tr>\n",
              "      <th>88</th>\n",
              "      <td>88</td>\n",
              "      <td>https://www.netmeds.com/images/product-v1/600x...</td>\n",
              "      <td>Colour:Titanium Dioxide IP Made in India by: M...</td>\n",
              "    </tr>\n",
              "    <tr>\n",
              "      <th>89</th>\n",
              "      <td>89</td>\n",
              "      <td>https://www.netmeds.com/images/product-v1/600x...</td>\n",
              "      <td>Each film-coated tablet contains: Ursodeoxycho...</td>\n",
              "    </tr>\n",
              "    <tr>\n",
              "      <th>90</th>\n",
              "      <td>90</td>\n",
              "      <td>https://www.netmeds.com/images/product-v1/600x...</td>\n",
              "      <td>MackncodbyOrRedybonatoclec Led CobaOoCNbM IBOL...</td>\n",
              "    </tr>\n",
              "  </tbody>\n",
              "</table>\n",
              "<p>91 rows × 3 columns</p>\n",
              "</div>\n",
              "      <button class=\"colab-df-convert\" onclick=\"convertToInteractive('df-21f402d4-e39e-4071-b74d-f5f6563531ce')\"\n",
              "              title=\"Convert this dataframe to an interactive table.\"\n",
              "              style=\"display:none;\">\n",
              "        \n",
              "  <svg xmlns=\"http://www.w3.org/2000/svg\" height=\"24px\"viewBox=\"0 0 24 24\"\n",
              "       width=\"24px\">\n",
              "    <path d=\"M0 0h24v24H0V0z\" fill=\"none\"/>\n",
              "    <path d=\"M18.56 5.44l.94 2.06.94-2.06 2.06-.94-2.06-.94-.94-2.06-.94 2.06-2.06.94zm-11 1L8.5 8.5l.94-2.06 2.06-.94-2.06-.94L8.5 2.5l-.94 2.06-2.06.94zm10 10l.94 2.06.94-2.06 2.06-.94-2.06-.94-.94-2.06-.94 2.06-2.06.94z\"/><path d=\"M17.41 7.96l-1.37-1.37c-.4-.4-.92-.59-1.43-.59-.52 0-1.04.2-1.43.59L10.3 9.45l-7.72 7.72c-.78.78-.78 2.05 0 2.83L4 21.41c.39.39.9.59 1.41.59.51 0 1.02-.2 1.41-.59l7.78-7.78 2.81-2.81c.8-.78.8-2.07 0-2.86zM5.41 20L4 18.59l7.72-7.72 1.47 1.35L5.41 20z\"/>\n",
              "  </svg>\n",
              "      </button>\n",
              "      \n",
              "  <style>\n",
              "    .colab-df-container {\n",
              "      display:flex;\n",
              "      flex-wrap:wrap;\n",
              "      gap: 12px;\n",
              "    }\n",
              "\n",
              "    .colab-df-convert {\n",
              "      background-color: #E8F0FE;\n",
              "      border: none;\n",
              "      border-radius: 50%;\n",
              "      cursor: pointer;\n",
              "      display: none;\n",
              "      fill: #1967D2;\n",
              "      height: 32px;\n",
              "      padding: 0 0 0 0;\n",
              "      width: 32px;\n",
              "    }\n",
              "\n",
              "    .colab-df-convert:hover {\n",
              "      background-color: #E2EBFA;\n",
              "      box-shadow: 0px 1px 2px rgba(60, 64, 67, 0.3), 0px 1px 3px 1px rgba(60, 64, 67, 0.15);\n",
              "      fill: #174EA6;\n",
              "    }\n",
              "\n",
              "    [theme=dark] .colab-df-convert {\n",
              "      background-color: #3B4455;\n",
              "      fill: #D2E3FC;\n",
              "    }\n",
              "\n",
              "    [theme=dark] .colab-df-convert:hover {\n",
              "      background-color: #434B5C;\n",
              "      box-shadow: 0px 1px 3px 1px rgba(0, 0, 0, 0.15);\n",
              "      filter: drop-shadow(0px 1px 2px rgba(0, 0, 0, 0.3));\n",
              "      fill: #FFFFFF;\n",
              "    }\n",
              "  </style>\n",
              "\n",
              "      <script>\n",
              "        const buttonEl =\n",
              "          document.querySelector('#df-21f402d4-e39e-4071-b74d-f5f6563531ce button.colab-df-convert');\n",
              "        buttonEl.style.display =\n",
              "          google.colab.kernel.accessAllowed ? 'block' : 'none';\n",
              "\n",
              "        async function convertToInteractive(key) {\n",
              "          const element = document.querySelector('#df-21f402d4-e39e-4071-b74d-f5f6563531ce');\n",
              "          const dataTable =\n",
              "            await google.colab.kernel.invokeFunction('convertToInteractive',\n",
              "                                                     [key], {});\n",
              "          if (!dataTable) return;\n",
              "\n",
              "          const docLinkHtml = 'Like what you see? Visit the ' +\n",
              "            '<a target=\"_blank\" href=https://colab.research.google.com/notebooks/data_table.ipynb>data table notebook</a>'\n",
              "            + ' to learn more about interactive tables.';\n",
              "          element.innerHTML = '';\n",
              "          dataTable['output_type'] = 'display_data';\n",
              "          await google.colab.output.renderOutput(dataTable, element);\n",
              "          const docLink = document.createElement('div');\n",
              "          docLink.innerHTML = docLinkHtml;\n",
              "          element.appendChild(docLink);\n",
              "        }\n",
              "      </script>\n",
              "    </div>\n",
              "  </div>\n",
              "  "
            ],
            "text/plain": [
              "    Unnamed: 0                                               link  \\\n",
              "0            0  https://www.netmeds.com/images/product-v1/600x...   \n",
              "1            1  https://www.netmeds.com/images/product-v1/600x...   \n",
              "2            2  https://www.netmeds.com/images/product-v1/600x...   \n",
              "3            3  https://www.netmeds.com/images/product-v1/600x...   \n",
              "4            4  https://www.netmeds.com/images/product-v1/600x...   \n",
              "..         ...                                                ...   \n",
              "86          86  https://www.netmeds.com/images/product-v1/600x...   \n",
              "87          87  https://www.netmeds.com/images/product-v1/600x...   \n",
              "88          88  https://www.netmeds.com/images/product-v1/600x...   \n",
              "89          89  https://www.netmeds.com/images/product-v1/600x...   \n",
              "90          90  https://www.netmeds.com/images/product-v1/600x...   \n",
              "\n",
              "                                                 text  \n",
              "0   Ademetionine Tablets 400 mg Adefresh-400 T-400...  \n",
              "1   Composition: MfgLic.No.110/UA/SC/P-2006&110/UA...  \n",
              "2   Marketednce ASCENTRA Di   Ascentra 8/4Frnds Co...  \n",
              "3   SHNOWOE starta R0o Adenomnac 121% Manotactured...  \n",
              "4   Metadoxine Tablets ALCOLIV each uncoataotablet...  \n",
              "..                                                ...  \n",
              "86  torasoxine wRnine L-asparate.Jaune.Pvndoxine H...  \n",
              "87  Uodeoxychotic Acid ipi50 mg Usibon-15 ColourTi...  \n",
              "88  Colour:Titanium Dioxide IP Made in India by: M...  \n",
              "89  Each film-coated tablet contains: Ursodeoxycho...  \n",
              "90  MackncodbyOrRedybonatoclec Led CobaOoCNbM IBOL...  \n",
              "\n",
              "[91 rows x 3 columns]"
            ]
          },
          "execution_count": 8,
          "metadata": {},
          "output_type": "execute_result"
        }
      ],
      "source": [
        "sent"
      ]
    },
    {
      "cell_type": "code",
      "execution_count": null,
      "metadata": {
        "id": "Lohw_FeXxpK-"
      },
      "outputs": [],
      "source": [
        "val=spelling_correction(sent.text.values[1])"
      ]
    },
    {
      "cell_type": "code",
      "execution_count": null,
      "metadata": {
        "colab": {
          "base_uri": "https://localhost:8080/",
          "height": 109
        },
        "id": "pHEIxv1o3JVC",
        "outputId": "cd967d4e-f79c-40ed-8a18-9c86dcd6aaa0"
      },
      "outputs": [
        {
          "data": {
            "application/vnd.google.colaboratory.intrinsic+json": {
              "type": "string"
            },
            "text/plain": [
              "'Composition: MfgLic.No.110/UA/SC/P-2006&110/UA/2006 Each Enteric coated tablet contains Batch No. Ademetionine 1.4 butane disulfonate (SD4 Eq.to Ademetionine lon 400mg. Mfg.Date Jfa Excipients q.s. Exp.Date: Colour:Red Oxide of Iron  f M.R.P.. Dosage :As directed by the Physician Store in a cool & dry place Per 10Tablets 1 Protect from light. Incl.of all taxes Keep the medicine out of reach of children CAUTION: Not to be sold by retail without the prescription of a Registered Medical Practitioner Marketed in Indi by ASCENTRA Manufactured by :Sufford Laboratories Pvt.Ltd A An ISO 9001:2015.14001:2015.OHSAS 18001:2007 GMP Ascentra 83/4,Friends Colony.Balluput 143.Raipur Ind.AreaBhagwanpurRooree,UK Dehrad:n-248001UK Email:ho.stafford2016@gmail.com'"
            ]
          },
          "execution_count": 12,
          "metadata": {},
          "output_type": "execute_result"
        }
      ],
      "source": [
        "sent.text.values[1]"
      ]
    },
    {
      "cell_type": "code",
      "execution_count": null,
      "metadata": {
        "colab": {
          "base_uri": "https://localhost:8080/",
          "height": 109
        },
        "id": "MBNYTIYyxj5P",
        "outputId": "ee9a674b-54e3-4bc6-e32a-bbafd981411c"
      },
      "outputs": [
        {
          "data": {
            "application/vnd.google.colaboratory.intrinsic+json": {
              "type": "string"
            },
            "text/plain": [
              "'composition : mfglic.no.110/ua/sc/p-2006 & 110/ua/2006 each enteric coated tablet contain batch no . ademetionine 1.4 butane disulphonate ( sd4 eq.to ademetionine lon 400mg . mfg.date j excipient q.s . exp.date : colour : red oxide of iron f m.r.p .. dosage : as directed by the physician store in a cool & dry place per 10tablets 1 protect from light . incl.of all tabes keep the medicine out of reach of children caution : not to be sold by retail without the prescription of a registered medical practitioner marketer in indi by ascent manufacture by : subform laboratories pvt.ltd a an iso 9001:2015.14001:2015.ohsas 18001:2007 gmp ascent 83/4 , friends colony.balluput 143.raipur ind.areabhagwanpurrooree , u dead : n-248001uk earl : ho.stafford2016 @ gmail.com'"
            ]
          },
          "execution_count": 10,
          "metadata": {},
          "output_type": "execute_result"
        }
      ],
      "source": [
        "val"
      ]
    },
    {
      "cell_type": "code",
      "execution_count": null,
      "metadata": {
        "colab": {
          "background_save": true
        },
        "id": "a2MRTk1rtuT5"
      },
      "outputs": [],
      "source": [
        "sent['text']=sent['text'].apply(spelling_correction_alter)"
      ]
    },
    {
      "cell_type": "code",
      "execution_count": null,
      "metadata": {
        "colab": {
          "base_uri": "https://localhost:8080/",
          "height": 519
        },
        "id": "bMYoPu3kxtmo",
        "outputId": "c8c5fa05-b522-4994-af15-aeb1cbca1fc3"
      },
      "outputs": [
        {
          "data": {
            "text/html": [
              "\n",
              "  <div id=\"df-45e77375-2a5d-467c-b34b-d03a72df5e42\">\n",
              "    <div class=\"colab-df-container\">\n",
              "      <div>\n",
              "<style scoped>\n",
              "    .dataframe tbody tr th:only-of-type {\n",
              "        vertical-align: middle;\n",
              "    }\n",
              "\n",
              "    .dataframe tbody tr th {\n",
              "        vertical-align: top;\n",
              "    }\n",
              "\n",
              "    .dataframe thead th {\n",
              "        text-align: right;\n",
              "    }\n",
              "</style>\n",
              "<table border=\"1\" class=\"dataframe\">\n",
              "  <thead>\n",
              "    <tr style=\"text-align: right;\">\n",
              "      <th></th>\n",
              "      <th>Unnamed: 0</th>\n",
              "      <th>link</th>\n",
              "      <th>text</th>\n",
              "    </tr>\n",
              "  </thead>\n",
              "  <tbody>\n",
              "    <tr>\n",
              "      <th>0</th>\n",
              "      <td>0</td>\n",
              "      <td>https://www.netmeds.com/images/product-v1/600x...</td>\n",
              "      <td>memantine hydrocharidaceous warning : to be so...</td>\n",
              "    </tr>\n",
              "    <tr>\n",
              "      <th>1</th>\n",
              "      <td>1</td>\n",
              "      <td>https://www.netmeds.com/images/product-v1/600x...</td>\n",
              "      <td>memantine hydrochloride ip ... 5 mg donepezil ...</td>\n",
              "    </tr>\n",
              "    <tr>\n",
              "      <th>2</th>\n",
              "      <td>2</td>\n",
              "      <td>https://www.netmeds.com/images/product-v1/600x...</td>\n",
              "      <td>composition : warning each film coated tablet ...</td>\n",
              "    </tr>\n",
              "    <tr>\n",
              "      <th>3</th>\n",
              "      <td>3</td>\n",
              "      <td>https://www.netmeds.com/images/product-v1/600x...</td>\n",
              "      <td>citicoline sodium inequivalent to mfg.lic.no.1...</td>\n",
              "    </tr>\n",
              "    <tr>\n",
              "      <th>4</th>\n",
              "      <td>4</td>\n",
              "      <td>https://www.netmeds.com/images/product-v1/600x...</td>\n",
              "      <td>peracit mfg.lic.no . : nl-mnb/2016/192 batch n...</td>\n",
              "    </tr>\n",
              "    <tr>\n",
              "      <th>5</th>\n",
              "      <td>5</td>\n",
              "      <td>https://www.netmeds.com/images/product-v1/600x...</td>\n",
              "      <td>2x7 tablets jean-christophe i.p.10mg ebixa10 m...</td>\n",
              "    </tr>\n",
              "    <tr>\n",
              "      <th>6</th>\n",
              "      <td>6</td>\n",
              "      <td>https://www.netmeds.com/images/product-v1/600x...</td>\n",
              "      <td>aknerzi5 mo.l no.12a2010 ach film cheatable co...</td>\n",
              "    </tr>\n",
              "    <tr>\n",
              "      <th>7</th>\n",
              "      <td>7</td>\n",
              "      <td>https://www.netmeds.com/images/product-v1/600x...</td>\n",
              "      <td>cu.tociucoiir sned excipient geocetam nondipht...</td>\n",
              "    </tr>\n",
              "    <tr>\n",
              "      <th>8</th>\n",
              "      <td>8</td>\n",
              "      <td>https://www.netmeds.com/images/product-v1/600x...</td>\n",
              "      <td>each film coated tablet contain citicoline sod...</td>\n",
              "    </tr>\n",
              "    <tr>\n",
              "      <th>9</th>\n",
              "      <td>9</td>\n",
              "      <td>https://www.netmeds.com/images/product-v1/600x...</td>\n",
              "      <td>cetist anticalligraphic citistar-pm 10 tablets...</td>\n",
              "    </tr>\n",
              "    <tr>\n",
              "      <th>10</th>\n",
              "      <td>10</td>\n",
              "      <td>https://www.netmeds.com/images/product-v1/600x...</td>\n",
              "      <td>siocin cool &amp; displace elaa.south sikkim-73713...</td>\n",
              "    </tr>\n",
              "    <tr>\n",
              "      <th>11</th>\n",
              "      <td>11</td>\n",
              "      <td>https://www.netmeds.com/images/product-v1/600x...</td>\n",
              "      <td>r 10tablets superinscription ondee aes10 drug-...</td>\n",
              "    </tr>\n",
              "    <tr>\n",
              "      <th>12</th>\n",
              "      <td>12</td>\n",
              "      <td>https://www.netmeds.com/images/product-v1/600x...</td>\n",
              "      <td>naiveness</td>\n",
              "    </tr>\n",
              "    <tr>\n",
              "      <th>13</th>\n",
              "      <td>13</td>\n",
              "      <td>https://www.netmeds.com/images/product-v1/600x...</td>\n",
              "      <td>px 10 tablets caution : keep out of reach of c...</td>\n",
              "    </tr>\n",
              "    <tr>\n",
              "      <th>14</th>\n",
              "      <td>14</td>\n",
              "      <td>https://www.netmeds.com/images/product-v1/600x...</td>\n",
              "      <td>visage unreel u u rubrician . 800cilipram800ci...</td>\n",
              "    </tr>\n",
              "  </tbody>\n",
              "</table>\n",
              "</div>\n",
              "      <button class=\"colab-df-convert\" onclick=\"convertToInteractive('df-45e77375-2a5d-467c-b34b-d03a72df5e42')\"\n",
              "              title=\"Convert this dataframe to an interactive table.\"\n",
              "              style=\"display:none;\">\n",
              "        \n",
              "  <svg xmlns=\"http://www.w3.org/2000/svg\" height=\"24px\"viewBox=\"0 0 24 24\"\n",
              "       width=\"24px\">\n",
              "    <path d=\"M0 0h24v24H0V0z\" fill=\"none\"/>\n",
              "    <path d=\"M18.56 5.44l.94 2.06.94-2.06 2.06-.94-2.06-.94-.94-2.06-.94 2.06-2.06.94zm-11 1L8.5 8.5l.94-2.06 2.06-.94-2.06-.94L8.5 2.5l-.94 2.06-2.06.94zm10 10l.94 2.06.94-2.06 2.06-.94-2.06-.94-.94-2.06-.94 2.06-2.06.94z\"/><path d=\"M17.41 7.96l-1.37-1.37c-.4-.4-.92-.59-1.43-.59-.52 0-1.04.2-1.43.59L10.3 9.45l-7.72 7.72c-.78.78-.78 2.05 0 2.83L4 21.41c.39.39.9.59 1.41.59.51 0 1.02-.2 1.41-.59l7.78-7.78 2.81-2.81c.8-.78.8-2.07 0-2.86zM5.41 20L4 18.59l7.72-7.72 1.47 1.35L5.41 20z\"/>\n",
              "  </svg>\n",
              "      </button>\n",
              "      \n",
              "  <style>\n",
              "    .colab-df-container {\n",
              "      display:flex;\n",
              "      flex-wrap:wrap;\n",
              "      gap: 12px;\n",
              "    }\n",
              "\n",
              "    .colab-df-convert {\n",
              "      background-color: #E8F0FE;\n",
              "      border: none;\n",
              "      border-radius: 50%;\n",
              "      cursor: pointer;\n",
              "      display: none;\n",
              "      fill: #1967D2;\n",
              "      height: 32px;\n",
              "      padding: 0 0 0 0;\n",
              "      width: 32px;\n",
              "    }\n",
              "\n",
              "    .colab-df-convert:hover {\n",
              "      background-color: #E2EBFA;\n",
              "      box-shadow: 0px 1px 2px rgba(60, 64, 67, 0.3), 0px 1px 3px 1px rgba(60, 64, 67, 0.15);\n",
              "      fill: #174EA6;\n",
              "    }\n",
              "\n",
              "    [theme=dark] .colab-df-convert {\n",
              "      background-color: #3B4455;\n",
              "      fill: #D2E3FC;\n",
              "    }\n",
              "\n",
              "    [theme=dark] .colab-df-convert:hover {\n",
              "      background-color: #434B5C;\n",
              "      box-shadow: 0px 1px 3px 1px rgba(0, 0, 0, 0.15);\n",
              "      filter: drop-shadow(0px 1px 2px rgba(0, 0, 0, 0.3));\n",
              "      fill: #FFFFFF;\n",
              "    }\n",
              "  </style>\n",
              "\n",
              "      <script>\n",
              "        const buttonEl =\n",
              "          document.querySelector('#df-45e77375-2a5d-467c-b34b-d03a72df5e42 button.colab-df-convert');\n",
              "        buttonEl.style.display =\n",
              "          google.colab.kernel.accessAllowed ? 'block' : 'none';\n",
              "\n",
              "        async function convertToInteractive(key) {\n",
              "          const element = document.querySelector('#df-45e77375-2a5d-467c-b34b-d03a72df5e42');\n",
              "          const dataTable =\n",
              "            await google.colab.kernel.invokeFunction('convertToInteractive',\n",
              "                                                     [key], {});\n",
              "          if (!dataTable) return;\n",
              "\n",
              "          const docLinkHtml = 'Like what you see? Visit the ' +\n",
              "            '<a target=\"_blank\" href=https://colab.research.google.com/notebooks/data_table.ipynb>data table notebook</a>'\n",
              "            + ' to learn more about interactive tables.';\n",
              "          element.innerHTML = '';\n",
              "          dataTable['output_type'] = 'display_data';\n",
              "          await google.colab.output.renderOutput(dataTable, element);\n",
              "          const docLink = document.createElement('div');\n",
              "          docLink.innerHTML = docLinkHtml;\n",
              "          element.appendChild(docLink);\n",
              "        }\n",
              "      </script>\n",
              "    </div>\n",
              "  </div>\n",
              "  "
            ],
            "text/plain": [
              "    Unnamed: 0                                               link  \\\n",
              "0            0  https://www.netmeds.com/images/product-v1/600x...   \n",
              "1            1  https://www.netmeds.com/images/product-v1/600x...   \n",
              "2            2  https://www.netmeds.com/images/product-v1/600x...   \n",
              "3            3  https://www.netmeds.com/images/product-v1/600x...   \n",
              "4            4  https://www.netmeds.com/images/product-v1/600x...   \n",
              "5            5  https://www.netmeds.com/images/product-v1/600x...   \n",
              "6            6  https://www.netmeds.com/images/product-v1/600x...   \n",
              "7            7  https://www.netmeds.com/images/product-v1/600x...   \n",
              "8            8  https://www.netmeds.com/images/product-v1/600x...   \n",
              "9            9  https://www.netmeds.com/images/product-v1/600x...   \n",
              "10          10  https://www.netmeds.com/images/product-v1/600x...   \n",
              "11          11  https://www.netmeds.com/images/product-v1/600x...   \n",
              "12          12  https://www.netmeds.com/images/product-v1/600x...   \n",
              "13          13  https://www.netmeds.com/images/product-v1/600x...   \n",
              "14          14  https://www.netmeds.com/images/product-v1/600x...   \n",
              "\n",
              "                                                 text  \n",
              "0   memantine hydrocharidaceous warning : to be so...  \n",
              "1   memantine hydrochloride ip ... 5 mg donepezil ...  \n",
              "2   composition : warning each film coated tablet ...  \n",
              "3   citicoline sodium inequivalent to mfg.lic.no.1...  \n",
              "4   peracit mfg.lic.no . : nl-mnb/2016/192 batch n...  \n",
              "5   2x7 tablets jean-christophe i.p.10mg ebixa10 m...  \n",
              "6   aknerzi5 mo.l no.12a2010 ach film cheatable co...  \n",
              "7   cu.tociucoiir sned excipient geocetam nondipht...  \n",
              "8   each film coated tablet contain citicoline sod...  \n",
              "9   cetist anticalligraphic citistar-pm 10 tablets...  \n",
              "10  siocin cool & displace elaa.south sikkim-73713...  \n",
              "11  r 10tablets superinscription ondee aes10 drug-...  \n",
              "12                                          naiveness  \n",
              "13  px 10 tablets caution : keep out of reach of c...  \n",
              "14  visage unreel u u rubrician . 800cilipram800ci...  "
            ]
          },
          "execution_count": 11,
          "metadata": {},
          "output_type": "execute_result"
        }
      ],
      "source": [
        "sent"
      ]
    },
    {
      "cell_type": "code",
      "execution_count": null,
      "metadata": {
        "id": "X61UPJBnzC7d"
      },
      "outputs": [],
      "source": [
        "sent.to_csv('Full-data.csv')"
      ]
    },
    {
      "cell_type": "code",
      "execution_count": null,
      "metadata": {
        "id": "5YN0AxKUyF4T"
      },
      "outputs": [],
      "source": [
        "train_df=sent['text']"
      ]
    },
    {
      "cell_type": "code",
      "execution_count": null,
      "metadata": {
        "id": "jSSkkkv2yJc_"
      },
      "outputs": [],
      "source": [
        "train_df.to_csv('traind_data.csv')"
      ]
    },
    {
      "cell_type": "code",
      "execution_count": null,
      "metadata": {
        "colab": {
          "base_uri": "https://localhost:8080/"
        },
        "id": "ZY2DwBlEzgLX",
        "outputId": "238508d9-e2e8-4866-fcff-2b726878c363"
      },
      "outputs": [
        {
          "output_type": "stream",
          "name": "stdout",
          "text": [
            "Looking in indexes: https://pypi.org/simple, https://us-python.pkg.dev/colab-wheels/public/simple/\n",
            "Requirement already satisfied: spacy[transformers] in /usr/local/lib/python3.9/dist-packages (3.5.1)\n",
            "Requirement already satisfied: smart-open<7.0.0,>=5.2.1 in /usr/local/lib/python3.9/dist-packages (from spacy[transformers]) (6.3.0)\n",
            "Requirement already satisfied: thinc<8.2.0,>=8.1.8 in /usr/local/lib/python3.9/dist-packages (from spacy[transformers]) (8.1.9)\n",
            "Requirement already satisfied: catalogue<2.1.0,>=2.0.6 in /usr/local/lib/python3.9/dist-packages (from spacy[transformers]) (2.0.8)\n",
            "Requirement already satisfied: cymem<2.1.0,>=2.0.2 in /usr/local/lib/python3.9/dist-packages (from spacy[transformers]) (2.0.7)\n",
            "Requirement already satisfied: spacy-legacy<3.1.0,>=3.0.11 in /usr/local/lib/python3.9/dist-packages (from spacy[transformers]) (3.0.12)\n",
            "Requirement already satisfied: pydantic!=1.8,!=1.8.1,<1.11.0,>=1.7.4 in /usr/local/lib/python3.9/dist-packages (from spacy[transformers]) (1.10.6)\n",
            "Requirement already satisfied: langcodes<4.0.0,>=3.2.0 in /usr/local/lib/python3.9/dist-packages (from spacy[transformers]) (3.3.0)\n",
            "Requirement already satisfied: packaging>=20.0 in /usr/local/lib/python3.9/dist-packages (from spacy[transformers]) (23.0)\n",
            "Requirement already satisfied: jinja2 in /usr/local/lib/python3.9/dist-packages (from spacy[transformers]) (3.1.2)\n",
            "Requirement already satisfied: setuptools in /usr/local/lib/python3.9/dist-packages (from spacy[transformers]) (67.6.0)\n",
            "Requirement already satisfied: wasabi<1.2.0,>=0.9.1 in /usr/local/lib/python3.9/dist-packages (from spacy[transformers]) (1.1.1)\n",
            "Requirement already satisfied: srsly<3.0.0,>=2.4.3 in /usr/local/lib/python3.9/dist-packages (from spacy[transformers]) (2.4.6)\n",
            "Requirement already satisfied: typer<0.8.0,>=0.3.0 in /usr/local/lib/python3.9/dist-packages (from spacy[transformers]) (0.7.0)\n",
            "Requirement already satisfied: tqdm<5.0.0,>=4.38.0 in /usr/local/lib/python3.9/dist-packages (from spacy[transformers]) (4.65.0)\n",
            "Requirement already satisfied: numpy>=1.15.0 in /usr/local/lib/python3.9/dist-packages (from spacy[transformers]) (1.22.4)\n",
            "Requirement already satisfied: pathy>=0.10.0 in /usr/local/lib/python3.9/dist-packages (from spacy[transformers]) (0.10.1)\n",
            "Requirement already satisfied: murmurhash<1.1.0,>=0.28.0 in /usr/local/lib/python3.9/dist-packages (from spacy[transformers]) (1.0.9)\n",
            "Requirement already satisfied: spacy-loggers<2.0.0,>=1.0.0 in /usr/local/lib/python3.9/dist-packages (from spacy[transformers]) (1.0.4)\n",
            "Requirement already satisfied: preshed<3.1.0,>=3.0.2 in /usr/local/lib/python3.9/dist-packages (from spacy[transformers]) (3.0.8)\n",
            "Requirement already satisfied: requests<3.0.0,>=2.13.0 in /usr/local/lib/python3.9/dist-packages (from spacy[transformers]) (2.27.1)\n",
            "Collecting spacy-transformers<1.3.0,>=1.1.2\n",
            "  Downloading spacy_transformers-1.2.2-cp39-cp39-manylinux_2_17_x86_64.manylinux2014_x86_64.whl (192 kB)\n",
            "\u001b[2K     \u001b[90m━━━━━━━━━━━━━━━━━━━━━━━━━━━━━━━━━━━━━━\u001b[0m \u001b[32m192.1/192.1 KB\u001b[0m \u001b[31m12.0 MB/s\u001b[0m eta \u001b[36m0:00:00\u001b[0m\n",
            "\u001b[?25hRequirement already satisfied: typing-extensions>=4.2.0 in /usr/local/lib/python3.9/dist-packages (from pydantic!=1.8,!=1.8.1,<1.11.0,>=1.7.4->spacy[transformers]) (4.5.0)\n",
            "Requirement already satisfied: urllib3<1.27,>=1.21.1 in /usr/local/lib/python3.9/dist-packages (from requests<3.0.0,>=2.13.0->spacy[transformers]) (1.26.15)\n",
            "Requirement already satisfied: certifi>=2017.4.17 in /usr/local/lib/python3.9/dist-packages (from requests<3.0.0,>=2.13.0->spacy[transformers]) (2022.12.7)\n",
            "Requirement already satisfied: idna<4,>=2.5 in /usr/local/lib/python3.9/dist-packages (from requests<3.0.0,>=2.13.0->spacy[transformers]) (3.4)\n",
            "Requirement already satisfied: charset-normalizer~=2.0.0 in /usr/local/lib/python3.9/dist-packages (from requests<3.0.0,>=2.13.0->spacy[transformers]) (2.0.12)\n",
            "Requirement already satisfied: torch>=1.8.0 in /usr/local/lib/python3.9/dist-packages (from spacy-transformers<1.3.0,>=1.1.2->spacy[transformers]) (1.13.1+cu116)\n",
            "Collecting transformers<4.27.0,>=3.4.0\n",
            "  Downloading transformers-4.26.1-py3-none-any.whl (6.3 MB)\n",
            "\u001b[2K     \u001b[90m━━━━━━━━━━━━━━━━━━━━━━━━━━━━━━━━━━━━━━━━\u001b[0m \u001b[32m6.3/6.3 MB\u001b[0m \u001b[31m68.7 MB/s\u001b[0m eta \u001b[36m0:00:00\u001b[0m\n",
            "\u001b[?25hCollecting spacy-alignments<1.0.0,>=0.7.2\n",
            "  Downloading spacy_alignments-0.9.0-cp39-cp39-manylinux_2_17_x86_64.manylinux2014_x86_64.whl (1.2 MB)\n",
            "\u001b[2K     \u001b[90m━━━━━━━━━━━━━━━━━━━━━━━━━━━━━━━━━━━━━━━━\u001b[0m \u001b[32m1.2/1.2 MB\u001b[0m \u001b[31m58.8 MB/s\u001b[0m eta \u001b[36m0:00:00\u001b[0m\n",
            "\u001b[?25hRequirement already satisfied: blis<0.8.0,>=0.7.8 in /usr/local/lib/python3.9/dist-packages (from thinc<8.2.0,>=8.1.8->spacy[transformers]) (0.7.9)\n",
            "Requirement already satisfied: confection<1.0.0,>=0.0.1 in /usr/local/lib/python3.9/dist-packages (from thinc<8.2.0,>=8.1.8->spacy[transformers]) (0.0.4)\n",
            "Requirement already satisfied: click<9.0.0,>=7.1.1 in /usr/local/lib/python3.9/dist-packages (from typer<0.8.0,>=0.3.0->spacy[transformers]) (8.1.3)\n",
            "Requirement already satisfied: MarkupSafe>=2.0 in /usr/local/lib/python3.9/dist-packages (from jinja2->spacy[transformers]) (2.1.2)\n",
            "Requirement already satisfied: filelock in /usr/local/lib/python3.9/dist-packages (from transformers<4.27.0,>=3.4.0->spacy-transformers<1.3.0,>=1.1.2->spacy[transformers]) (3.10.0)\n",
            "Requirement already satisfied: regex!=2019.12.17 in /usr/local/lib/python3.9/dist-packages (from transformers<4.27.0,>=3.4.0->spacy-transformers<1.3.0,>=1.1.2->spacy[transformers]) (2022.10.31)\n",
            "Requirement already satisfied: pyyaml>=5.1 in /usr/local/lib/python3.9/dist-packages (from transformers<4.27.0,>=3.4.0->spacy-transformers<1.3.0,>=1.1.2->spacy[transformers]) (6.0)\n",
            "Collecting huggingface-hub<1.0,>=0.11.0\n",
            "  Downloading huggingface_hub-0.13.3-py3-none-any.whl (199 kB)\n",
            "\u001b[2K     \u001b[90m━━━━━━━━━━━━━━━━━━━━━━━━━━━━━━━━━━━━━━\u001b[0m \u001b[32m199.8/199.8 KB\u001b[0m \u001b[31m20.7 MB/s\u001b[0m eta \u001b[36m0:00:00\u001b[0m\n",
            "\u001b[?25hCollecting tokenizers!=0.11.3,<0.14,>=0.11.1\n",
            "  Downloading tokenizers-0.13.2-cp39-cp39-manylinux_2_17_x86_64.manylinux2014_x86_64.whl (7.6 MB)\n",
            "\u001b[2K     \u001b[90m━━━━━━━━━━━━━━━━━━━━━━━━━━━━━━━━━━━━━━━━\u001b[0m \u001b[32m7.6/7.6 MB\u001b[0m \u001b[31m76.0 MB/s\u001b[0m eta \u001b[36m0:00:00\u001b[0m\n",
            "\u001b[?25hInstalling collected packages: tokenizers, spacy-alignments, huggingface-hub, transformers, spacy-transformers\n",
            "Successfully installed huggingface-hub-0.13.3 spacy-alignments-0.9.0 spacy-transformers-1.2.2 tokenizers-0.13.2 transformers-4.26.1\n"
          ]
        }
      ],
      "source": [
        "!pip install spacy[transformers]"
      ]
    },
    {
      "cell_type": "code",
      "execution_count": null,
      "metadata": {
        "colab": {
          "base_uri": "https://localhost:8080/"
        },
        "id": "4gVStzif93rh",
        "outputId": "6a9f579d-9fa6-4efb-e860-26e7feedb1f5"
      },
      "outputs": [
        {
          "output_type": "stream",
          "name": "stdout",
          "text": [
            "{'content': 'r 10tablets superinscription ondee aes10 drug-caution not to be sold boreal without the prescription outriggered aricep10 medical practitioner elsa mfg.licno:0t/yp/ap/2016/f/cc/r composition tidemark owner by ea col toko japan ec m coated tablet contain donepezilrydroohioridelp10mg valedictorian marketer t : excipient s. eisai pharmaceuticals lydia private limited chlorion oxide yellow and titanium dioxx piotno.95.97.98124126 dosage : as directed by the physician rammy pharma cityzen } storage : store below 30c . parawada-531019 , vajrasana district . protect from moisture . andhra pradeep , inca keep out of reach o children , code no . :1000022459 aricep10aricep10 aricep10aricep10', 'seen_by': [{'annotator': '19pd15@psgtech.ac.in', 'annotator_id': 1}], 'comments': [], 'metadata': {'': 11}, 'example_id': '0140675d-cf15-466e-a07c-2c557bbe2cc9', 'annotations': [{'end': 282, 'tag': 'COMPONENT', 'start': 254, 'value': 'donepezilrydroohioridelp10mg', 'tag_id': '00810b2d-2f10-4a4f-b2bf-b6f4707e0381', 'correct': None, 'reviewed': False, 'example_id': '0140675d-cf15-466e-a07c-2c557bbe2cc9', 'annotated_by': [{'annotator': '19pd15@psgtech.ac.in', 'timestamp': '2023-02-11T14:27:38.119+00:00', 'annotator_id': 1}], 'definition_id': '6c5fb767-2680-47f9-a926-bb5198d1a30d', 'tagged_token_id': '0ae03c92-8d59-473b-b018-4948bbe9d518'}, {'end': 682, 'tag': 'NAME', 'start': 674, 'value': 'aricep10', 'tag_id': 'b61f9f74-97dc-4643-914a-121efc28645a', 'correct': None, 'reviewed': False, 'example_id': '0140675d-cf15-466e-a07c-2c557bbe2cc9', 'annotated_by': [{'annotator': '19pd15@psgtech.ac.in', 'timestamp': '2023-02-11T14:28:02.446+00:00', 'annotator_id': 1}], 'definition_id': '6c5fb767-2680-47f9-a926-bb5198d1a30d', 'tagged_token_id': '4ac4768f-43be-48ff-b8ed-8047099491e0'}, {'end': 665, 'tag': 'NAME', 'start': 657, 'value': 'aricep10', 'tag_id': 'b61f9f74-97dc-4643-914a-121efc28645a', 'correct': None, 'reviewed': False, 'example_id': '0140675d-cf15-466e-a07c-2c557bbe2cc9', 'annotated_by': [{'annotator': '19pd15@psgtech.ac.in', 'timestamp': '2023-02-11T14:27:59.091+00:00', 'annotator_id': 1}], 'definition_id': '6c5fb767-2680-47f9-a926-bb5198d1a30d', 'tagged_token_id': 'c07fb51f-9226-40a6-b16a-ddb91e95f664'}, {'end': 690, 'tag': 'NAME', 'start': 682, 'value': 'aricep10', 'tag_id': 'b61f9f74-97dc-4643-914a-121efc28645a', 'correct': None, 'reviewed': False, 'example_id': '0140675d-cf15-466e-a07c-2c557bbe2cc9', 'annotated_by': [{'annotator': '19pd15@psgtech.ac.in', 'timestamp': '2023-02-11T14:28:04.343+00:00', 'annotator_id': 1}], 'definition_id': '6c5fb767-2680-47f9-a926-bb5198d1a30d', 'tagged_token_id': '91748ceb-3e53-4041-a451-56c56601f2f4'}, {'end': 319, 'tag': 'COMPONENT', 'start': 310, 'value': 'excipient', 'tag_id': '00810b2d-2f10-4a4f-b2bf-b6f4707e0381', 'correct': None, 'reviewed': False, 'example_id': '0140675d-cf15-466e-a07c-2c557bbe2cc9', 'annotated_by': [{'annotator': '19pd15@psgtech.ac.in', 'timestamp': '2023-02-11T14:27:39.853+00:00', 'annotator_id': 1}], 'definition_id': '6c5fb767-2680-47f9-a926-bb5198d1a30d', 'tagged_token_id': '64454673-f673-4b74-a6db-ecf1dbb1aec2'}, {'end': 673, 'tag': 'NAME', 'start': 665, 'value': 'aricep10', 'tag_id': 'b61f9f74-97dc-4643-914a-121efc28645a', 'correct': None, 'reviewed': False, 'example_id': '0140675d-cf15-466e-a07c-2c557bbe2cc9', 'annotated_by': [{'annotator': '19pd15@psgtech.ac.in', 'timestamp': '2023-02-11T14:28:00.763+00:00', 'annotator_id': 1}], 'definition_id': '6c5fb767-2680-47f9-a926-bb5198d1a30d', 'tagged_token_id': '2ca8e627-f245-42b3-a295-4899e4b43e12'}, {'end': 121, 'tag': 'NAME', 'start': 113, 'value': 'aricep10', 'tag_id': 'b61f9f74-97dc-4643-914a-121efc28645a', 'correct': None, 'reviewed': False, 'example_id': '0140675d-cf15-466e-a07c-2c557bbe2cc9', 'annotated_by': [{'annotator': '19pd15@psgtech.ac.in', 'timestamp': '2023-02-11T14:27:31.343+00:00', 'annotator_id': 1}], 'definition_id': '6c5fb767-2680-47f9-a926-bb5198d1a30d', 'tagged_token_id': '33f9d4a1-c9d2-4696-a476-10fbb7f66d64'}, {'end': 344, 'tag': 'MANUFACTURER', 'start': 323, 'value': 'eisai pharmaceuticals', 'tag_id': '29f01fce-4d7a-4ab7-bf4d-f3bd777789f2', 'correct': None, 'reviewed': False, 'example_id': '0140675d-cf15-466e-a07c-2c557bbe2cc9', 'annotated_by': [{'annotator': '19pd15@psgtech.ac.in', 'timestamp': '2023-02-11T14:27:50.439+00:00', 'annotator_id': 1}], 'definition_id': '6c5fb767-2680-47f9-a926-bb5198d1a30d', 'tagged_token_id': 'f4a97ca0-3e16-4e6e-8db6-aa92d9b1cda7'}], 'classifications': []}\n"
          ]
        }
      ],
      "source": [
        "import json\n",
        " \n",
        "with open('/content/bys_annotations.json', 'r') as f:\n",
        "    data = json.load(f)\n",
        "    \n",
        "print(data['examples'][0])"
      ]
    },
    {
      "cell_type": "code",
      "source": [
        "import json\n",
        " \n",
        "with open('/content/liver_data_annotations.json', 'r') as f:\n",
        "    liver_data = json.load(f)\n",
        "    \n",
        "print(liver_data['examples'][0])"
      ],
      "metadata": {
        "colab": {
          "base_uri": "https://localhost:8080/"
        },
        "id": "kI1zduCXtd4j",
        "outputId": "3a9ee294-184b-4862-d562-108af33859c5"
      },
      "execution_count": 38,
      "outputs": [
        {
          "output_type": "stream",
          "name": "stdout",
          "text": [
            "{'content': 'OCANASH 5 contains Obeticholic acid which belongs to the group of medicines called Farnesoid X receptor agonists. It is used to treat primary biliary cholangitis (also known as primary biliary cirrhosis) in adults, either by itself or together with other medicine (called ursodeoxycholic acid).', 'seen_by': [{'annotator': '19pd15@psgtech.ac.in', 'annotator_id': 1}], 'comments': [], 'metadata': {'': 36, 'link': 'https://www.netmeds.com/prescriptions/ocanash-5-tablet-10s', 'tablet_name': \"OCANASH 5 Tablet 10's\"}, 'example_id': '74364000-ba13-4ba2-8b39-61a74f6ff0e6', 'annotations': [{'end': 35, 'tag': 'COMPONENT', 'start': 19, 'value': 'Obeticholic acid', 'tag_id': 'e0e81e6c-6d6d-4aef-885c-720919879183', 'correct': None, 'reviewed': False, 'example_id': '74364000-ba13-4ba2-8b39-61a74f6ff0e6', 'annotated_by': [{'annotator': '19pd15@psgtech.ac.in', 'timestamp': '2023-02-12T12:56:08.167+00:00', 'annotator_id': 1}], 'definition_id': '3962a1c7-c642-49b8-b684-e10b45b5586b', 'tagged_token_id': '9d0098a2-18d7-4710-811a-a39a5c7a45b2'}, {'end': 9, 'tag': 'NAME', 'start': 0, 'value': 'OCANASH 5', 'tag_id': '7a6c30e9-7ca1-4075-9aa5-09277b2c6a20', 'correct': None, 'reviewed': False, 'example_id': '74364000-ba13-4ba2-8b39-61a74f6ff0e6', 'annotated_by': [{'annotator': '19pd15@psgtech.ac.in', 'timestamp': '2023-02-12T12:56:04.455+00:00', 'annotator_id': 1}], 'definition_id': '3962a1c7-c642-49b8-b684-e10b45b5586b', 'tagged_token_id': 'b8e65685-acbf-42bc-9614-909fc1fdd06b'}], 'classifications': []}\n"
          ]
        }
      ]
    },
    {
      "cell_type": "code",
      "execution_count": 39,
      "metadata": {
        "colab": {
          "base_uri": "https://localhost:8080/"
        },
        "id": "vNrSbjrS-Bzf",
        "outputId": "bc489771-4213-4fd9-e15d-0554339b3e00"
      },
      "outputs": [
        {
          "output_type": "stream",
          "name": "stdout",
          "text": [
            "{'text': 'OCANASH 5 contains Obeticholic acid which belongs to the group of medicines called Farnesoid X receptor agonists. It is used to treat primary biliary cholangitis (also known as primary biliary cirrhosis) in adults, either by itself or together with other medicine (called ursodeoxycholic acid).', 'entities': [(19, 35, 'COMPONENT'), (0, 9, 'NAME')]}\n"
          ]
        }
      ],
      "source": [
        "testing_data = {'classes' : ['Name', \"Components\", \"Manufacturer\"], 'annotations' : []}\n",
        "for example in liver_data['examples']:\n",
        "  temp_dict = {}\n",
        "  temp_dict['text'] = example['content']\n",
        "  temp_dict['entities'] = []\n",
        "  for annotation in example['annotations']:\n",
        "    start = annotation['start']\n",
        "    end = annotation['end']\n",
        "    label = annotation['tag'].upper()\n",
        "    temp_dict['entities'].append((start, end, label))\n",
        "  testing_data['annotations'].append(temp_dict)\n",
        "  \n",
        "print(testing_data['annotations'][0])"
      ]
    },
    {
      "cell_type": "code",
      "execution_count": null,
      "metadata": {
        "colab": {
          "base_uri": "https://localhost:8080/"
        },
        "id": "1PCxL1fWHWaK",
        "outputId": "a5327a58-6d8b-4431-e497-773fcdf77aff"
      },
      "outputs": [
        {
          "output_type": "execute_result",
          "data": {
            "text/plain": [
              "{'classes': ['Name', 'Components', 'Manufacturer'],\n",
              " 'annotations': [{'text': 'r 10tablets superinscription ondee aes10 drug-caution not to be sold boreal without the prescription outriggered aricep10 medical practitioner elsa mfg.licno:0t/yp/ap/2016/f/cc/r composition tidemark owner by ea col toko japan ec m coated tablet contain donepezilrydroohioridelp10mg valedictorian marketer t : excipient s. eisai pharmaceuticals lydia private limited chlorion oxide yellow and titanium dioxx piotno.95.97.98124126 dosage : as directed by the physician rammy pharma cityzen } storage : store below 30c . parawada-531019 , vajrasana district . protect from moisture . andhra pradeep , inca keep out of reach o children , code no . :1000022459 aricep10aricep10 aricep10aricep10',\n",
              "   'entities': [(254, 282, 'COMPONENT'),\n",
              "    (674, 682, 'NAME'),\n",
              "    (657, 665, 'NAME'),\n",
              "    (682, 690, 'NAME'),\n",
              "    (310, 319, 'COMPONENT'),\n",
              "    (665, 673, 'NAME'),\n",
              "    (113, 121, 'NAME'),\n",
              "    (323, 344, 'MANUFACTURER')]},\n",
              "  {'text': 'px 10 tablets caution : keep out of reach of children donepezil hydrochloride 5mg and smokestone pretexted foliature at temperature not exceeding30c . memantine hydrochloride 5mg tablets schedule h prescription drug caution : not to de sold belait without terpinol registered medical practitioner aricep-mm m.l.no . :07/vpiap/2010/ficc compositional film coated tablet contain eisai code no.1000019777 donepezil hydrochloride ip5mg tm : tidemark of eisai memantine hydrochloride ip s mg manufacture by : excipient .... o.s eisai pharmaceuticals india private limited collectarium dioxide , ron oxide red plot nos.96.97.98.124 & 126 , rammy fd & callow . pharma city ( sez ) .parawada-s31019 dosage directed by the physician vajrasana andhra praesidio aricep-mm aricep-mm aricep-m',\n",
              "   'entities': [(151, 178, 'COMPONENT'),\n",
              "    (523, 544, 'MANUFACTURER'),\n",
              "    (771, 779, 'NAME'),\n",
              "    (504, 513, 'COMPONENT'),\n",
              "    (751, 759, 'NAME'),\n",
              "    (54, 81, 'COMPONENT'),\n",
              "    (761, 769, 'NAME')]},\n",
              "  {'text': 'memantine hydrocharidaceous warning : to be sold by admenta10 retail on the prescription of a neurologist only each film coated tablet contain : registered trade mark excipient q.s . inanimated in india by colback oxide of iron sun pharma laboratories id dosage : as directed by the neurologist plot no.107-108 store at room temperature nami block.p.o.ranipool pretexted footlight admixture east-sikkim-737135 admenta10admenta10admenta10',\n",
              "   'entities': [(52, 61, 'NAME'),\n",
              "    (228, 251, 'MANUFACTURER'),\n",
              "    (167, 176, 'COMPONENT'),\n",
              "    (0, 27, 'COMPONENT')]},\n",
              "  {'text': \"memantine hydrochloride ip ... 5 mg donepezil hydrochloride ip ... 5 mg excipient . ... q.s colometric oxide red usp-nf ( red oxide of iron ) dosage : as directed by the physician schedule h prescription drug-caution not lo ba sold by rejail without ne prescription c a read medical practitioner . store below 25 ' c . pretexted from light & moisture made in india by : alkem health science a unit of alkem laboratories limited.unil-2 samardung.karek block p.o . : namthang.south sikhism -737 137 marketer by : alkem alkem laboratories ltd alkem house.senapati banat mag pf26363 lower parel.mumbai-400013 -registered trade mark please reach us at -contactalkem.com memantine hydrochloride 5 mg ano donepezil hydrochloride 5mg tablets donep-m ' each film-coated tablet contain : memantine hydrochloride ip ... 5 mg donepezil hydrochloride ip .... 5 mg excipient . .. q.s colometric oxide red usp-nf ( red oxide of iron ) dosage : as directed by the physician schedule h prescription drug-caution of a reclothe medical practicer store below 25 ' c , pretexted from light & moisture made in india by .\",\n",
              "   'entities': [(401, 419, 'MANUFACTURER'),\n",
              "    (814, 850, 'COMPONENT'),\n",
              "    (72, 81, 'COMPONENT'),\n",
              "    (665, 741, 'NAME'),\n",
              "    (778, 813, 'COMPONENT'),\n",
              "    (851, 860, 'COMPONENT')]},\n",
              "  {'text': 'citicoline sodium inequivalent to mfg.lic.no.15/ua2006 h citicoline 500 mg storax-500 colour : titanifluoride ip excipient : q.s . manufacture by : disease directed by the neurologist . intas store in a cool & dry place intas pharmaceuticals.ltd . protect from light . selaqui.dehradun-248197.india keep out of reach of children 80 446 0 8609468 citicoline tablets 500mg warning be sold by storax-500 retail on telescriptor of a neurologist ondy each film coated tablet contain citicoline sodium equivalent to mfg.lic.no.15/ua/2006 citicoline 500mg collectarium dioxide ip torax-500 excipient : q.s . manufacture by disease directed by the neurologist store in a cool & displace intas dermaceuticals',\n",
              "   'entities': [(75, 85, 'NAME'),\n",
              "    (113, 122, 'COMPONENT'),\n",
              "    (0, 17, 'COMPONENT'),\n",
              "    (532, 548, 'COMPONENT'),\n",
              "    (583, 592, 'COMPONENT'),\n",
              "    (478, 495, 'COMPONENT'),\n",
              "    (390, 400, 'NAME'),\n",
              "    (220, 241, 'MANUFACTURER')]},\n",
              "  {'text': 'peracit mfg.lic.no . : nl-mnb/2016/192 batch no . : mfg.date : composition exp.date each film coated tablet contain m.r.p . : citicoline sodium ip per 10 tablets eq.to citicoline 500mg incl.of all tabes piracetam ip 800 mg a ins excipient q.s . colour : titanium dioxide ip marketer by : usr dosage : as directed by the physician storage : store in a cool , dry & dark place below unremedied 25c.protect from light , heat & moisture an iso 9001:2015 certified company ) 43.skyline indra hub.b/h intas pharma maida pata , changar , taluka : sanand keep medicine out of reach of children district : ahmedabad-382220 e-mailusrremediesgmail.com improper storage may deteriorate the product websitewww.usrremecies.com tidemark under registration schedule h prescription drug-caution mfd.bysymbiosis pharmaceuticals pvt.lid.plant-3 not to be sold by retail without the prescription of a en iso9001:2003 & who gmp compliant co . registered medical practitioner plant at : tikur road , kala amb-173030h.p corp.office : siket road , kala amb-173030h.p',\n",
              "   'entities': [(784, 809, 'MANUFACTURER'),\n",
              "    (168, 184, 'COMPONENT'),\n",
              "    (229, 238, 'COMPONENT'),\n",
              "    (0, 7, 'NAME'),\n",
              "    (126, 143, 'COMPONENT')]},\n",
              "  {'text': 'visage unreel u u rubrician . 800cilipram800cilipra store in a cool , dry & dark place 72heo cee keep out of reach of children . sadh naga hyderabads00 018 rx citicoline & piracetam tablets cilipram 800 800 sheepcrook drug.oaution composition : oditus each film coated tablet contain : ritardando citicoline sodium ip mfg.lic.no.68/ua2009 eq.to citicoline .500 mg piracetam ip .. manufacture babasco heath seres pv lid 800 mg ( a who-gmp cetrifed company ) excipient .... plot no.79.80.secaiie.sidculhadwar-249403 cilipram800 q.s . colour titanium dioxide ip marketer by : dosage : as directed by the physician heterocercality store in a cool , dry & dark place . 7hero cooree keep out of reach of children . sanai nag hydeabd-500 018 rx 008 citicoline & piracetam tablets',\n",
              "   'entities': [(457, 466, 'COMPONENT'),\n",
              "    (190, 202, 'NAME'),\n",
              "    (364, 376, 'COMPONENT'),\n",
              "    (297, 314, 'COMPONENT'),\n",
              "    (392, 418, 'MANUFACTURER'),\n",
              "    (297, 317, 'COMPONENT'),\n",
              "    (33, 44, 'NAME')]},\n",
              "  {'text': \"composition : warning each film coated tablet contain : to be sold by retail on the memantine hydrochloride ip 5mg prescription oda excipient q.s . registered medical practitioner only chlorpromazine and titanium dioxide ip dosage : as directed by the neurologist/ manufacture by : physician . stanford laboratories pvt.ltd . storage : store pretexted from light ( awho-gmp & iso9001certified co. ) and moisture , at a temperature not 8.industrialarea.mehatpur exceeding 30 ' c . distt.una , h.p-174315 keep out of reach of children india .\",\n",
              "   'entities': [(132, 141, 'COMPONENT'),\n",
              "    (294, 323, 'MANUFACTURER'),\n",
              "    (94, 114, 'COMPONENT')]},\n",
              "  {'text': 'each film coated tablet contain citicoline sodium if equivalent to cil.coline250 mg excipient qs colour : titanium dioxide dosage : as directed by the physician',\n",
              "   'entities': [(67, 83, 'COMPONENT'),\n",
              "    (32, 49, 'COMPONENT'),\n",
              "    (84, 93, 'COMPONENT')]},\n",
              "  {'text': \"2x7 tablets jean-christophe i.p.10mg ebixa10 mg composition : each film coated tablet contain : batch no . memantine hydrochloride1.p.10mg .. equivalent to 8.31mg memantine ) . mfg.date dosage directed by the physician . exp.date do not store above 30 ' c . m.r.p.rs . mfg.lic.no.ktk/25a/582/2005 lnc of t 7ab warning : to be sold by recall on the prescription of a registered medical practitioner only\",\n",
              "   'entities': [(107, 138, 'COMPONENT'), (37, 47, 'NAME')]},\n",
              "  {'text': \"aknerzi5 mo.l no.12a2010 ach film cheatable contain schelly pancration donepezil hydrochloride i.p 5 mg excipient q.s . coronillin blue lake mantled dy dosage : s direct the physician earthstar seirospore pretexted undarkened tambouret isonec temperature no : exceeding25 ' c no.ro barnburner keep out octachord children u-2470 almerzil altnerzil-5 almerzil-5 donepezil hydrochloride tablets1p5 mg almerzii-5\",\n",
              "   'entities': [(349, 359, 'NAME'),\n",
              "    (104, 113, 'COMPONENT'),\n",
              "    (0, 8, 'NAME'),\n",
              "    (71, 103, 'COMPONENT'),\n",
              "    (328, 336, 'NAME')]},\n",
              "  {'text': \"cu.tociucoiir sned excipient geocetam nondiphtheritic colors : lake brilliant blue.lake ophthalmencephalon quinoline yellow & titanium dioxide ip dosage : as directed by the phaselin . mfg.lic.no.mnb/09/763 & mb/09/764 storage : store in a coldly place marketer by- protect from direct sunlight . keep olof reach of children innovativepharmaceuticalsovt.ltd mig.in lydia by : admn.off:9,17th floor isis remedies pvt.ltd . lodha supreme , opp.mtnlvlr ( an 15o9001:2008certified co ) rapra road , village-khera nizla saiva road.powai.mumbai-72 tehsil-nalagarh , district-solan regd.off.wadi-440023 himachalpradesh-174101india registered tidemark geocetam-ct geocetam-ct geocetam-ct rivocet-m and citicoline tablets geocetam-ct geocetam-ct each film coated tablet contain : piracetam ip .. 400mg 8904298112495 > citicoline sodium ip eq.to citicoline .500mg sohiedule'hprescriptiondruocaution excipient .. ... 0 . nottoway sabretache telescriptor colors : lake brilliant blue , lake nonhereditary quinoline yellow & titanium dioxide ip dosage : as directed by the physician . mfg.lc.no.mn8/09/763 & mb/09/764 storage : store in a coldly place . protection arrect sunlight marketer by- keep out of reach of children innovativepharmaceuticaisrvt.ltd magi india by admn.off:9.17th floor iosisremediespvt.ltd lodha supreme , opp.mtnlvlr ( an1509001:2008certified co ) savitar road , podal , mumbai-72 rapra road , village-kheca nizla tehsil-nalagarh , distrikct-solan , regd.off . : wadi-440023 reascertainment\",\n",
              "   'entities': [(325, 350, 'MANUFACTURER'),\n",
              "    (889, 898, 'COMPONENT'),\n",
              "    (644, 655, 'NAME'),\n",
              "    (19, 28, 'COMPONENT'),\n",
              "    (809, 826, 'COMPONENT'),\n",
              "    (656, 667, 'NAME'),\n",
              "    (836, 853, 'COMPONENT'),\n",
              "    (668, 679, 'NAME')]},\n",
              "  {'text': \"cetist anticalligraphic citistar-pm 10 tablets each fam coated tablet contain citicoline sodium ip citistar-pm equivalent to citicoline 500mg piracetam 400mg excipient q.s . colored oxide ot iron titanifluoride ip dosage as directed by the neurologist store below 30c in a dry & dark place kinetochore citistar-pm mfg.lic.no.27/ua/ll/2015 schedule hug warning be sold by retail on the prescription of a registered medical practitioner only to report product complaint or adverse drug reaction calool free no.1800-209-2505 manufacture in india by synokem pharmaceuticals ltd citistar-pm atpltno56-57sect-6ae ( sicel ) ranipurbhelhandwar-249403.utarakhand marketer by lucinoid 159 , c.s.t.road.kalinasantacruz e ) . mumbai-400098.india citistar-pm colina picea taal citistar-pm 10 tablets each film coated tablet contain citicoline sodium ip citistar-pm equivalent to citicoline 500mg piracetam ip 400mg excipient q.s . colored oxide of iron & titanium dioxide ip - dosage directed bache neurologist chora bolowan'clnn.drurnhrknlac\",\n",
              "   'entities': [(764, 786, 'NAME'),\n",
              "    (902, 911, 'COMPONENT'),\n",
              "    (866, 882, 'COMPONENT'),\n",
              "    (142, 157, 'COMPONENT'),\n",
              "    (125, 141, 'COMPONENT'),\n",
              "    (24, 46, 'NAME'),\n",
              "    (158, 167, 'COMPONENT'),\n",
              "    (546, 573, 'MANUFACTURER'),\n",
              "    (883, 901, 'COMPONENT')]},\n",
              "  {'text': \"siocin cool & displace elaa.south sikkim-737132ndia keep alcedines out of teach ol children 9210209400002 alzil-sr 23 aurist rx schedule ' h'drug : dihydrochloride warning be sold by retail on sustained release tablets 23 mg the preoption of a neurologist only . alzilsr23 tablet tc bo swallower as a whole and each fm coattailed release table octans not to be chewer or crushed dooopezrhydrochlorideip23.mg miglcnom717/2016 chiquitan dioxide manufacture by cabas exampleless dose : as directed by the physician . intas pharmaceuticals.ltd salading road , kabel block.namthang store in a cool & dry place elaka.south sikkm-737132.india keep all medicines out of reach of children 9210209400002 alzil-sr 23 gene-onr alzilsr23 - rx schedule'hdrug dihydrochloride warning be sold by retail on otonecrectomy the obstriction of a neurologist\",\n",
              "   'entities': [(263, 279, 'NAME'),\n",
              "    (514, 535, 'MANUFACTURER'),\n",
              "    (694, 705, 'NAME'),\n",
              "    (379, 407, 'COMPONENT'),\n",
              "    (425, 442, 'COMPONENT'),\n",
              "    (715, 724, 'NAME')]},\n",
              "  {'text': 'naiveness', 'entities': []}]}"
            ]
          },
          "metadata": {},
          "execution_count": 17
        }
      ],
      "source": [
        "training_data"
      ]
    },
    {
      "cell_type": "code",
      "execution_count": 40,
      "metadata": {
        "id": "zphuOHS1_0OX"
      },
      "outputs": [],
      "source": [
        "import spacy\n",
        "from spacy.tokens import DocBin\n",
        "from tqdm import tqdm\n",
        "\n",
        "nlp = spacy.blank(\"en\") # load a new spacy model\n",
        "doc_bin = DocBin() # create a DocBin object"
      ]
    },
    {
      "cell_type": "code",
      "execution_count": null,
      "metadata": {
        "colab": {
          "base_uri": "https://localhost:8080/"
        },
        "id": "bEBpyXWT___G",
        "outputId": "690ed55e-3118-4270-c883-b2af4ce1cdd9"
      },
      "outputs": [
        {
          "output_type": "stream",
          "name": "stderr",
          "text": [
            "100%|██████████| 15/15 [00:00<00:00, 205.96it/s]"
          ]
        },
        {
          "output_type": "stream",
          "name": "stdout",
          "text": [
            "Skipping entity\n",
            "Skipping entity\n",
            "Skipping entity\n",
            "Skipping entity\n",
            "Skipping entity\n",
            "Skipping entity\n"
          ]
        },
        {
          "output_type": "stream",
          "name": "stderr",
          "text": [
            "\n"
          ]
        }
      ],
      "source": [
        "from spacy.util import filter_spans\n",
        "\n",
        "for training_example  in tqdm(training_data['annotations']): \n",
        "    text = training_example['text']\n",
        "    labels = training_example['entities']\n",
        "    doc = nlp.make_doc(text) \n",
        "    ents = []\n",
        "    for start, end, label in labels:\n",
        "        span = doc.char_span(start, end, label=label, alignment_mode=\"contract\")\n",
        "        if span is None:\n",
        "            print(\"Skipping entity\")\n",
        "        else:\n",
        "            ents.append(span)\n",
        "    filtered_ents = filter_spans(ents)\n",
        "    doc.ents = filtered_ents \n",
        "    doc_bin.add(doc)\n",
        "\n",
        "doc_bin.to_disk(\"training_data.spacy\")"
      ]
    },
    {
      "cell_type": "code",
      "source": [],
      "metadata": {
        "id": "dTpBO1eXrerH"
      },
      "execution_count": null,
      "outputs": []
    },
    {
      "cell_type": "code",
      "execution_count": 35,
      "metadata": {
        "colab": {
          "base_uri": "https://localhost:8080/"
        },
        "id": "mIy24WghAGKt",
        "outputId": "e281e927-fef4-4c89-8bd3-2b0e1408a58a"
      },
      "outputs": [
        {
          "output_type": "stream",
          "name": "stdout",
          "text": [
            "/usr/local/lib/python3.9/dist-packages/torch/cuda/__init__.py:497: UserWarning: Can't initialize NVML\n",
            "  warnings.warn(\"Can't initialize NVML\")\n",
            "2023-03-23 04:16:37.251790: W tensorflow/compiler/xla/stream_executor/platform/default/dso_loader.cc:64] Could not load dynamic library 'libnvinfer.so.7'; dlerror: libnvinfer.so.7: cannot open shared object file: No such file or directory; LD_LIBRARY_PATH: /usr/local/lib/python3.9/dist-packages/cv2/../../lib64:/usr/local/nvidia/lib:/usr/local/nvidia/lib64\n",
            "2023-03-23 04:16:37.251932: W tensorflow/compiler/xla/stream_executor/platform/default/dso_loader.cc:64] Could not load dynamic library 'libnvinfer_plugin.so.7'; dlerror: libnvinfer_plugin.so.7: cannot open shared object file: No such file or directory; LD_LIBRARY_PATH: /usr/local/lib/python3.9/dist-packages/cv2/../../lib64:/usr/local/nvidia/lib:/usr/local/nvidia/lib64\n",
            "2023-03-23 04:16:37.251980: W tensorflow/compiler/tf2tensorrt/utils/py_utils.cc:38] TF-TRT Warning: Cannot dlopen some TensorRT libraries. If you would like to use Nvidia GPU with TensorRT, please make sure the missing libraries mentioned above are installed properly.\n",
            "2023-03-23 04:16:39.270292: E tensorflow/compiler/xla/stream_executor/cuda/cuda_driver.cc:267] failed call to cuInit: CUDA_ERROR_NO_DEVICE: no CUDA-capable device is detected\n",
            "\u001b[38;5;2m✔ Auto-filled config with all values\u001b[0m\n",
            "\u001b[38;5;2m✔ Saved config\u001b[0m\n",
            "config.cfg\n",
            "You can now add your data and train your pipeline:\n",
            "python -m spacy train config.cfg --paths.train ./train.spacy --paths.dev ./dev.spacy\n"
          ]
        }
      ],
      "source": [
        "!python -m spacy init fill-config base_config.cfg config.cfg"
      ]
    },
    {
      "cell_type": "code",
      "execution_count": 36,
      "metadata": {
        "colab": {
          "base_uri": "https://localhost:8080/"
        },
        "id": "SGP75T2FAMOn",
        "outputId": "70392852-f287-47c7-cee7-3c8dcd3f9a6a"
      },
      "outputs": [
        {
          "output_type": "stream",
          "name": "stdout",
          "text": [
            "/usr/local/lib/python3.9/dist-packages/torch/cuda/__init__.py:497: UserWarning: Can't initialize NVML\n",
            "  warnings.warn(\"Can't initialize NVML\")\n",
            "2023-03-23 04:16:49.160832: W tensorflow/compiler/xla/stream_executor/platform/default/dso_loader.cc:64] Could not load dynamic library 'libnvinfer.so.7'; dlerror: libnvinfer.so.7: cannot open shared object file: No such file or directory; LD_LIBRARY_PATH: /usr/local/lib/python3.9/dist-packages/cv2/../../lib64:/usr/local/nvidia/lib:/usr/local/nvidia/lib64\n",
            "2023-03-23 04:16:49.161058: W tensorflow/compiler/xla/stream_executor/platform/default/dso_loader.cc:64] Could not load dynamic library 'libnvinfer_plugin.so.7'; dlerror: libnvinfer_plugin.so.7: cannot open shared object file: No such file or directory; LD_LIBRARY_PATH: /usr/local/lib/python3.9/dist-packages/cv2/../../lib64:/usr/local/nvidia/lib:/usr/local/nvidia/lib64\n",
            "2023-03-23 04:16:49.161095: W tensorflow/compiler/tf2tensorrt/utils/py_utils.cc:38] TF-TRT Warning: Cannot dlopen some TensorRT libraries. If you would like to use Nvidia GPU with TensorRT, please make sure the missing libraries mentioned above are installed properly.\n",
            "2023-03-23 04:16:51.955378: E tensorflow/compiler/xla/stream_executor/cuda/cuda_driver.cc:267] failed call to cuInit: CUDA_ERROR_NO_DEVICE: no CUDA-capable device is detected\n",
            "\u001b[38;5;4mℹ Saving to output directory: .\u001b[0m\n",
            "\u001b[38;5;4mℹ Using CPU\u001b[0m\n",
            "\u001b[1m\n",
            "=========================== Initializing pipeline ===========================\u001b[0m\n",
            "[2023-03-23 04:16:53,180] [INFO] Set up nlp object from config\n",
            "[2023-03-23 04:16:53,194] [INFO] Pipeline: ['tok2vec', 'ner']\n",
            "[2023-03-23 04:16:53,198] [INFO] Created vocabulary\n",
            "[2023-03-23 04:16:53,199] [INFO] Finished initializing nlp object\n",
            "[2023-03-23 04:16:53,585] [INFO] Initialized pipeline components: ['tok2vec', 'ner']\n",
            "\u001b[38;5;2m✔ Initialized pipeline\u001b[0m\n",
            "\u001b[1m\n",
            "============================= Training pipeline =============================\u001b[0m\n",
            "\u001b[38;5;4mℹ Pipeline: ['tok2vec', 'ner']\u001b[0m\n",
            "\u001b[38;5;4mℹ Initial learn rate: 0.001\u001b[0m\n",
            "E    #       LOSS TOK2VEC  LOSS NER  ENTS_F  ENTS_P  ENTS_R  SCORE \n",
            "---  ------  ------------  --------  ------  ------  ------  ------\n",
            "  0       0          0.00     61.64    0.00    0.00    0.00    0.00\n",
            " 15     200        265.26   2335.23   85.33   84.21   86.49    0.85\n",
            " 30     400         82.98    247.41   98.65   98.65   98.65    0.99\n",
            " 47     600         60.62     85.19   99.33   98.67  100.00    0.99\n",
            " 63     800         49.27     53.48   97.33   96.05   98.65    0.97\n",
            " 83    1000         29.97     22.20  100.00  100.00  100.00    1.00\n",
            "107    1200         46.09     15.71   99.33   98.67  100.00    0.99\n",
            "138    1400          6.27      2.18  100.00  100.00  100.00    1.00\n",
            "177    1600          6.21      1.47  100.00  100.00  100.00    1.00\n",
            "226    1800         76.10     16.66  100.00  100.00  100.00    1.00\n",
            "287    2000        174.04     25.82  100.00  100.00  100.00    1.00\n",
            "357    2200        168.44     17.93  100.00  100.00  100.00    1.00\n",
            "456    2400         84.22     12.89  100.00  100.00  100.00    1.00\n",
            "556    2600         18.21      1.74  100.00  100.00  100.00    1.00\n",
            "\u001b[38;5;2m✔ Saved pipeline to output directory\u001b[0m\n",
            "model-last\n"
          ]
        }
      ],
      "source": [
        "!python -m spacy train config.cfg --output ./ --paths.train ./training_data.spacy --paths.dev ./training_data.spacy "
      ]
    },
    {
      "cell_type": "code",
      "source": [
        "import spacy\n",
        "\n",
        "# Load the spaCy model\n",
        "nlp = spacy.load(\"en_core_web_sm\")\n",
        "\n",
        "# Load the test data\n",
        "test_sentences = ...\n",
        "test_tags = ...\n",
        "\n",
        "# Make predictions\n",
        "predicted_tags = []\n",
        "for sentence in test_sentences:\n",
        "    doc = nlp(sentence)\n",
        "    predicted_tags.append([ent.label_ for ent in doc.ents])\n",
        "\n",
        "# Compare predictions with actual tags\n",
        "correct = 0\n",
        "total = 0\n",
        "for predicted, actual in zip(predicted_tags, test_tags):\n",
        "    for pred, act in zip(predicted, actual):\n",
        "        if pred == act:\n",
        "            correct += 1\n",
        "        total += 1\n",
        "\n",
        "# Calculate accuracy\n",
        "accuracy = correct / total\n",
        "print(\"Accuracy:\", accuracy)\n"
      ],
      "metadata": {
        "id": "xhPg3b4Os1G4"
      },
      "execution_count": null,
      "outputs": []
    },
    {
      "cell_type": "code",
      "source": [
        " nlp = pd.read_pickle('/content/drive/MyDrive/Copy of spacy_model.pkl')"
      ],
      "metadata": {
        "id": "lg13W_a8d-NK"
      },
      "execution_count": null,
      "outputs": []
    },
    {
      "cell_type": "code",
      "source": [],
      "metadata": {
        "id": "mADpLiaKfTu0"
      },
      "execution_count": null,
      "outputs": []
    },
    {
      "cell_type": "code",
      "execution_count": null,
      "metadata": {
        "colab": {
          "base_uri": "https://localhost:8080/"
        },
        "id": "vTJ2dMLwJgc6",
        "outputId": "a5d6e81b-0faa-481c-aee0-78f19eb231c7"
      },
      "outputs": [
        {
          "name": "stdout",
          "output_type": "stream",
          "text": [
            "Looking in indexes: https://pypi.org/simple, https://us-python.pkg.dev/colab-wheels/public/simple/\n",
            "Collecting keras_ocr\n",
            "  Downloading keras_ocr-0.9.2-py3-none-any.whl (42 kB)\n",
            "\u001b[2K     \u001b[90m━━━━━━━━━━━━━━━━━━━━━━━━━━━━━━━━━━━━━━━━\u001b[0m \u001b[32m42.3/42.3 KB\u001b[0m \u001b[31m3.5 MB/s\u001b[0m eta \u001b[36m0:00:00\u001b[0m\n",
            "\u001b[?25hCollecting essential_generators\n",
            "  Downloading essential_generators-1.0-py3-none-any.whl (9.5 MB)\n",
            "\u001b[2K     \u001b[90m━━━━━━━━━━━━━━━━━━━━━━━━━━━━━━━━━━━━━━━━\u001b[0m \u001b[32m9.5/9.5 MB\u001b[0m \u001b[31m63.6 MB/s\u001b[0m eta \u001b[36m0:00:00\u001b[0m\n",
            "\u001b[?25hCollecting validators\n",
            "  Downloading validators-0.20.0.tar.gz (30 kB)\n",
            "  Preparing metadata (setup.py) ... \u001b[?25l\u001b[?25hdone\n",
            "Collecting efficientnet==1.0.0\n",
            "  Downloading efficientnet-1.0.0-py3-none-any.whl (17 kB)\n",
            "Requirement already satisfied: fonttools in /usr/local/lib/python3.8/dist-packages (from keras_ocr) (4.38.0)\n",
            "Requirement already satisfied: editdistance in /usr/local/lib/python3.8/dist-packages (from keras_ocr) (0.5.3)\n",
            "Requirement already satisfied: tqdm in /usr/local/lib/python3.8/dist-packages (from keras_ocr) (4.64.1)\n",
            "Requirement already satisfied: pyclipper in /usr/local/lib/python3.8/dist-packages (from keras_ocr) (1.3.0.post4)\n",
            "Requirement already satisfied: imgaug in /usr/local/lib/python3.8/dist-packages (from keras_ocr) (0.4.0)\n",
            "Requirement already satisfied: shapely in /usr/local/lib/python3.8/dist-packages (from keras_ocr) (2.0.1)\n",
            "Requirement already satisfied: scikit-image in /usr/local/lib/python3.8/dist-packages (from efficientnet==1.0.0->keras_ocr) (0.18.3)\n",
            "Collecting keras-applications<=1.0.8,>=1.0.7\n",
            "  Downloading Keras_Applications-1.0.8-py3-none-any.whl (50 kB)\n",
            "\u001b[2K     \u001b[90m━━━━━━━━━━━━━━━━━━━━━━━━━━━━━━━━━━━━━━━━\u001b[0m \u001b[32m50.7/50.7 KB\u001b[0m \u001b[31m7.2 MB/s\u001b[0m eta \u001b[36m0:00:00\u001b[0m\n",
            "\u001b[?25hRequirement already satisfied: opencv-python in /usr/local/lib/python3.8/dist-packages (from imgaug->keras_ocr) (4.6.0.66)\n",
            "Requirement already satisfied: six in /usr/local/lib/python3.8/dist-packages (from imgaug->keras_ocr) (1.15.0)\n",
            "Requirement already satisfied: matplotlib in /usr/local/lib/python3.8/dist-packages (from imgaug->keras_ocr) (3.2.2)\n",
            "Requirement already satisfied: scipy in /usr/local/lib/python3.8/dist-packages (from imgaug->keras_ocr) (1.7.3)\n",
            "Requirement already satisfied: imageio in /usr/local/lib/python3.8/dist-packages (from imgaug->keras_ocr) (2.9.0)\n",
            "Requirement already satisfied: numpy>=1.15 in /usr/local/lib/python3.8/dist-packages (from imgaug->keras_ocr) (1.21.6)\n",
            "Requirement already satisfied: Pillow in /usr/local/lib/python3.8/dist-packages (from imgaug->keras_ocr) (7.1.2)\n",
            "Requirement already satisfied: decorator>=3.4.0 in /usr/local/lib/python3.8/dist-packages (from validators->keras_ocr) (4.4.2)\n",
            "Requirement already satisfied: h5py in /usr/local/lib/python3.8/dist-packages (from keras-applications<=1.0.8,>=1.0.7->efficientnet==1.0.0->keras_ocr) (3.1.0)\n",
            "Requirement already satisfied: networkx>=2.0 in /usr/local/lib/python3.8/dist-packages (from scikit-image->efficientnet==1.0.0->keras_ocr) (3.0)\n",
            "Requirement already satisfied: tifffile>=2019.7.26 in /usr/local/lib/python3.8/dist-packages (from scikit-image->efficientnet==1.0.0->keras_ocr) (2023.2.3)\n",
            "Requirement already satisfied: PyWavelets>=1.1.1 in /usr/local/lib/python3.8/dist-packages (from scikit-image->efficientnet==1.0.0->keras_ocr) (1.4.1)\n",
            "Requirement already satisfied: pyparsing!=2.0.4,!=2.1.2,!=2.1.6,>=2.0.1 in /usr/local/lib/python3.8/dist-packages (from matplotlib->imgaug->keras_ocr) (3.0.9)\n",
            "Requirement already satisfied: python-dateutil>=2.1 in /usr/local/lib/python3.8/dist-packages (from matplotlib->imgaug->keras_ocr) (2.8.2)\n",
            "Requirement already satisfied: cycler>=0.10 in /usr/local/lib/python3.8/dist-packages (from matplotlib->imgaug->keras_ocr) (0.11.0)\n",
            "Requirement already satisfied: kiwisolver>=1.0.1 in /usr/local/lib/python3.8/dist-packages (from matplotlib->imgaug->keras_ocr) (1.4.4)\n",
            "Building wheels for collected packages: validators\n",
            "  Building wheel for validators (setup.py) ... \u001b[?25l\u001b[?25hdone\n",
            "  Created wheel for validators: filename=validators-0.20.0-py3-none-any.whl size=19581 sha256=47000078b752955336fd8d7c7242c04d429c36e615405aa2d8e7e740ecdbbac0\n",
            "  Stored in directory: /root/.cache/pip/wheels/19/09/72/3eb74d236bb48bd0f3c6c3c83e4e0c5bbfcbcad7c6c3539db8\n",
            "Successfully built validators\n",
            "Installing collected packages: essential_generators, validators, keras-applications, efficientnet, keras_ocr\n",
            "Successfully installed efficientnet-1.0.0 essential_generators-1.0 keras-applications-1.0.8 keras_ocr-0.9.2 validators-0.20.0\n"
          ]
        }
      ],
      "source": [
        "!pip install keras_ocr"
      ]
    },
    {
      "cell_type": "code",
      "execution_count": null,
      "metadata": {
        "colab": {
          "base_uri": "https://localhost:8080/"
        },
        "id": "tkFFr6OQE3z_",
        "outputId": "dc917466-18d3-4ae7-9e6d-5cab105b5b95"
      },
      "outputs": [
        {
          "output_type": "execute_result",
          "data": {
            "text/plain": [
              "5"
            ]
          },
          "metadata": {},
          "execution_count": 11
        }
      ],
      "source": [
        "len(test)"
      ]
    },
    {
      "cell_type": "code",
      "execution_count": null,
      "metadata": {
        "id": "XVTNQQFVCm6N"
      },
      "outputs": [],
      "source": [
        "import cv2"
      ]
    },
    {
      "cell_type": "code",
      "execution_count": null,
      "metadata": {
        "id": "2obqDcxEqn3R"
      },
      "outputs": [],
      "source": [
        "def img_processing(image):\n",
        "  img = cv2.resize(image, None, fx=2, fy=2, interpolation=cv2.INTER_CUBIC)\n",
        "  ## (1) Convert to gray, and threshold\n",
        "  gray = cv2.cvtColor(img, cv2.COLOR_BGR2GRAY)\n",
        "  # th, threshed = cv2.threshold(gray,0,255,cv2.THRESH_BINARY+cv2.THRESH_OTSU)\n",
        "  th, threshed = cv2.threshold(gray, 240, 255, cv2.THRESH_BINARY_INV)\n",
        "\n",
        "  ## (2) Morph-op to remove noise\n",
        "  kernel = cv2.getStructuringElement(cv2.MORPH_ELLIPSE, (11,11))\n",
        "  morphed = cv2.morphologyEx(threshed, cv2.MORPH_CLOSE, kernel)\n",
        "\n",
        "  ## (3) Find the max-area contour\n",
        "  cnts = cv2.findContours(morphed, cv2.RETR_EXTERNAL, cv2.CHAIN_APPROX_SIMPLE)[-2]\n",
        "  cnt = sorted(cnts, key=cv2.contourArea)[-1]\n",
        "\n",
        "  ## (4) Crop and save it\n",
        "  x,y,w,h = cv2.boundingRect(cnt)\n",
        "  dst = img[y:y+h, x:x+w]\n",
        "\n",
        "  dst = cv2.cvtColor(dst, cv2.COLOR_BGR2GRAY)\n",
        "  #dst = cv2.GaussianBlur(dst,(5,5),0)\n",
        "  #th, dst = cv2.threshold(dst,0,255,cv2.THRESH_BINARY+cv2.THRESH_OTSU)\n",
        "  kernel = np.ones((1, 1), np.uint8)\n",
        "  dst = cv2.dilate(dst, kernel, iterations=1)\n",
        "  dst = cv2.erode(dst, kernel, iterations=1)\n",
        "\n",
        "  # Create the sharpening kernel\n",
        "  kernel = np.array([[-1,-1,-1], [-1,9,-1], [-1,-1,-1]])\n",
        "  # Apply the sharpening kernel to the image using filter2D\n",
        "  # dst = cv2.filter2D(dst, -1, kernel)\n",
        "\n",
        "  return dst"
      ]
    },
    {
      "cell_type": "code",
      "execution_count": null,
      "metadata": {
        "colab": {
          "base_uri": "https://localhost:8080/"
        },
        "id": "1a8JqpdywCoc",
        "outputId": "c105634d-5b3b-464e-c1f0-86db8725cbc5"
      },
      "outputs": [
        {
          "output_type": "stream",
          "name": "stdout",
          "text": [
            "Looking in indexes: https://pypi.org/simple, https://us-python.pkg.dev/colab-wheels/public/simple/\n",
            "Collecting paddlepaddle\n",
            "  Downloading paddlepaddle-2.4.2-cp39-cp39-manylinux1_x86_64.whl (121.7 MB)\n",
            "\u001b[2K     \u001b[90m━━━━━━━━━━━━━━━━━━━━━━━━━━━━━━━━━━━━━━━\u001b[0m \u001b[32m121.7/121.7 MB\u001b[0m \u001b[31m7.6 MB/s\u001b[0m eta \u001b[36m0:00:00\u001b[0m\n",
            "\u001b[?25hRequirement already satisfied: opt-einsum==3.3.0 in /usr/local/lib/python3.9/dist-packages (from paddlepaddle) (3.3.0)\n",
            "Collecting astor\n",
            "  Downloading astor-0.8.1-py2.py3-none-any.whl (27 kB)\n",
            "Collecting paddle-bfloat==0.1.7\n",
            "  Downloading paddle_bfloat-0.1.7-cp39-cp39-manylinux_2_17_x86_64.manylinux2014_x86_64.whl (383 kB)\n",
            "\u001b[2K     \u001b[90m━━━━━━━━━━━━━━━━━━━━━━━━━━━━━━━━━━━━━━\u001b[0m \u001b[32m383.1/383.1 KB\u001b[0m \u001b[31m17.0 MB/s\u001b[0m eta \u001b[36m0:00:00\u001b[0m\n",
            "\u001b[?25hRequirement already satisfied: Pillow in /usr/local/lib/python3.9/dist-packages (from paddlepaddle) (8.4.0)\n",
            "Requirement already satisfied: decorator in /usr/local/lib/python3.9/dist-packages (from paddlepaddle) (4.4.2)\n",
            "Requirement already satisfied: six in /usr/local/lib/python3.9/dist-packages (from paddlepaddle) (1.16.0)\n",
            "Requirement already satisfied: numpy>=1.13 in /usr/local/lib/python3.9/dist-packages (from paddlepaddle) (1.22.4)\n",
            "Requirement already satisfied: requests>=2.20.0 in /usr/local/lib/python3.9/dist-packages (from paddlepaddle) (2.27.1)\n",
            "Requirement already satisfied: protobuf<=3.20.0,>=3.1.0 in /usr/local/lib/python3.9/dist-packages (from paddlepaddle) (3.19.6)\n",
            "Requirement already satisfied: idna<4,>=2.5 in /usr/local/lib/python3.9/dist-packages (from requests>=2.20.0->paddlepaddle) (3.4)\n",
            "Requirement already satisfied: urllib3<1.27,>=1.21.1 in /usr/local/lib/python3.9/dist-packages (from requests>=2.20.0->paddlepaddle) (1.26.15)\n",
            "Requirement already satisfied: charset-normalizer~=2.0.0 in /usr/local/lib/python3.9/dist-packages (from requests>=2.20.0->paddlepaddle) (2.0.12)\n",
            "Requirement already satisfied: certifi>=2017.4.17 in /usr/local/lib/python3.9/dist-packages (from requests>=2.20.0->paddlepaddle) (2022.12.7)\n",
            "Installing collected packages: paddle-bfloat, astor, paddlepaddle\n",
            "Successfully installed astor-0.8.1 paddle-bfloat-0.1.7 paddlepaddle-2.4.2\n",
            "Looking in indexes: https://pypi.org/simple, https://us-python.pkg.dev/colab-wheels/public/simple/\n",
            "Collecting paddleocr\n",
            "  Downloading paddleocr-2.6.1.3-py3-none-any.whl (445 kB)\n",
            "\u001b[2K     \u001b[90m━━━━━━━━━━━━━━━━━━━━━━━━━━━━━━━━━━━━━━\u001b[0m \u001b[32m445.9/445.9 KB\u001b[0m \u001b[31m19.0 MB/s\u001b[0m eta \u001b[36m0:00:00\u001b[0m\n",
            "\u001b[?25hRequirement already satisfied: shapely in /usr/local/lib/python3.9/dist-packages (from paddleocr) (2.0.1)\n",
            "Collecting rapidfuzz\n",
            "  Downloading rapidfuzz-2.13.7-cp39-cp39-manylinux_2_17_x86_64.manylinux2014_x86_64.whl (2.2 MB)\n",
            "\u001b[2K     \u001b[90m━━━━━━━━━━━━━━━━━━━━━━━━━━━━━━━━━━━━━━━━\u001b[0m \u001b[32m2.2/2.2 MB\u001b[0m \u001b[31m59.9 MB/s\u001b[0m eta \u001b[36m0:00:00\u001b[0m\n",
            "\u001b[?25hRequirement already satisfied: beautifulsoup4 in /usr/local/lib/python3.9/dist-packages (from paddleocr) (4.11.2)\n",
            "Requirement already satisfied: fonttools>=4.24.0 in /usr/local/lib/python3.9/dist-packages (from paddleocr) (4.39.2)\n",
            "Collecting lmdb\n",
            "  Downloading lmdb-1.4.0-cp39-cp39-manylinux_2_12_x86_64.manylinux2010_x86_64.whl (305 kB)\n",
            "\u001b[2K     \u001b[90m━━━━━━━━━━━━━━━━━━━━━━━━━━━━━━━━━━━━━━\u001b[0m \u001b[32m305.9/305.9 KB\u001b[0m \u001b[31m31.5 MB/s\u001b[0m eta \u001b[36m0:00:00\u001b[0m\n",
            "\u001b[?25hRequirement already satisfied: tqdm in /usr/local/lib/python3.9/dist-packages (from paddleocr) (4.65.0)\n",
            "Collecting visualdl\n",
            "  Downloading visualdl-2.5.1-py3-none-any.whl (6.3 MB)\n",
            "\u001b[2K     \u001b[90m━━━━━━━━━━━━━━━━━━━━━━━━━━━━━━━━━━━━━━━━\u001b[0m \u001b[32m6.3/6.3 MB\u001b[0m \u001b[31m63.4 MB/s\u001b[0m eta \u001b[36m0:00:00\u001b[0m\n",
            "\u001b[?25hCollecting pdf2docx\n",
            "  Downloading pdf2docx-0.5.6-py3-none-any.whl (148 kB)\n",
            "\u001b[2K     \u001b[90m━━━━━━━━━━━━━━━━━━━━━━━━━━━━━━━━━━━━━━\u001b[0m \u001b[32m148.4/148.4 KB\u001b[0m \u001b[31m19.7 MB/s\u001b[0m eta \u001b[36m0:00:00\u001b[0m\n",
            "\u001b[?25hRequirement already satisfied: cython in /usr/local/lib/python3.9/dist-packages (from paddleocr) (0.29.33)\n",
            "Requirement already satisfied: lxml in /usr/local/lib/python3.9/dist-packages (from paddleocr) (4.9.2)\n",
            "Collecting python-docx\n",
            "  Downloading python-docx-0.8.11.tar.gz (5.6 MB)\n",
            "\u001b[2K     \u001b[90m━━━━━━━━━━━━━━━━━━━━━━━━━━━━━━━━━━━━━━━━\u001b[0m \u001b[32m5.6/5.6 MB\u001b[0m \u001b[31m65.4 MB/s\u001b[0m eta \u001b[36m0:00:00\u001b[0m\n",
            "\u001b[?25h  Preparing metadata (setup.py) ... \u001b[?25l\u001b[?25hdone\n",
            "Requirement already satisfied: scikit-image in /usr/local/lib/python3.9/dist-packages (from paddleocr) (0.19.3)\n",
            "Collecting premailer\n",
            "  Downloading premailer-3.10.0-py2.py3-none-any.whl (19 kB)\n",
            "Collecting fire>=0.3.0\n",
            "  Downloading fire-0.5.0.tar.gz (88 kB)\n",
            "\u001b[2K     \u001b[90m━━━━━━━━━━━━━━━━━━━━━━━━━━━━━━━━━━━━━━━━\u001b[0m \u001b[32m88.3/88.3 KB\u001b[0m \u001b[31m10.5 MB/s\u001b[0m eta \u001b[36m0:00:00\u001b[0m\n",
            "\u001b[?25h  Preparing metadata (setup.py) ... \u001b[?25l\u001b[?25hdone\n",
            "Collecting opencv-contrib-python<=4.6.0.66\n",
            "  Downloading opencv_contrib_python-4.6.0.66-cp36-abi3-manylinux_2_17_x86_64.manylinux2014_x86_64.whl (67.1 MB)\n",
            "\u001b[2K     \u001b[90m━━━━━━━━━━━━━━━━━━━━━━━━━━━━━━━━━━━━━━━━\u001b[0m \u001b[32m67.1/67.1 MB\u001b[0m \u001b[31m9.6 MB/s\u001b[0m eta \u001b[36m0:00:00\u001b[0m\n",
            "\u001b[?25hCollecting attrdict\n",
            "  Downloading attrdict-2.0.1-py2.py3-none-any.whl (9.9 kB)\n",
            "Collecting PyMuPDF<1.21.0\n",
            "  Downloading PyMuPDF-1.20.2-cp39-cp39-manylinux_2_17_x86_64.manylinux2014_x86_64.whl (8.9 MB)\n",
            "\u001b[2K     \u001b[90m━━━━━━━━━━━━━━━━━━━━━━━━━━━━━━━━━━━━━━━━\u001b[0m \u001b[32m8.9/8.9 MB\u001b[0m \u001b[31m65.0 MB/s\u001b[0m eta \u001b[36m0:00:00\u001b[0m\n",
            "\u001b[?25hCollecting pyclipper\n",
            "  Downloading pyclipper-1.3.0.post4-cp39-cp39-manylinux_2_5_x86_64.manylinux1_x86_64.whl (608 kB)\n",
            "\u001b[2K     \u001b[90m━━━━━━━━━━━━━━━━━━━━━━━━━━━━━━━━━━━━━━\u001b[0m \u001b[32m608.2/608.2 KB\u001b[0m \u001b[31m39.2 MB/s\u001b[0m eta \u001b[36m0:00:00\u001b[0m\n",
            "\u001b[?25hRequirement already satisfied: imgaug in /usr/local/lib/python3.9/dist-packages (from paddleocr) (0.4.0)\n",
            "Requirement already satisfied: numpy in /usr/local/lib/python3.9/dist-packages (from paddleocr) (1.22.4)\n",
            "Requirement already satisfied: openpyxl in /usr/local/lib/python3.9/dist-packages (from paddleocr) (3.0.10)\n",
            "Collecting opencv-python<=4.6.0.66\n",
            "  Downloading opencv_python-4.6.0.66-cp36-abi3-manylinux_2_17_x86_64.manylinux2014_x86_64.whl (60.9 MB)\n",
            "\u001b[2K     \u001b[90m━━━━━━━━━━━━━━━━━━━━━━━━━━━━━━━━━━━━━━━━\u001b[0m \u001b[32m60.9/60.9 MB\u001b[0m \u001b[31m8.3 MB/s\u001b[0m eta \u001b[36m0:00:00\u001b[0m\n",
            "\u001b[?25hRequirement already satisfied: six in /usr/local/lib/python3.9/dist-packages (from fire>=0.3.0->paddleocr) (1.16.0)\n",
            "Requirement already satisfied: termcolor in /usr/local/lib/python3.9/dist-packages (from fire>=0.3.0->paddleocr) (2.2.0)\n",
            "Requirement already satisfied: soupsieve>1.2 in /usr/local/lib/python3.9/dist-packages (from beautifulsoup4->paddleocr) (2.4)\n",
            "Requirement already satisfied: Pillow in /usr/local/lib/python3.9/dist-packages (from imgaug->paddleocr) (8.4.0)\n",
            "Requirement already satisfied: scipy in /usr/local/lib/python3.9/dist-packages (from imgaug->paddleocr) (1.10.1)\n",
            "Requirement already satisfied: imageio in /usr/local/lib/python3.9/dist-packages (from imgaug->paddleocr) (2.25.1)\n",
            "Requirement already satisfied: matplotlib in /usr/local/lib/python3.9/dist-packages (from imgaug->paddleocr) (3.7.1)\n",
            "Requirement already satisfied: networkx>=2.2 in /usr/local/lib/python3.9/dist-packages (from scikit-image->paddleocr) (3.0)\n",
            "Requirement already satisfied: tifffile>=2019.7.26 in /usr/local/lib/python3.9/dist-packages (from scikit-image->paddleocr) (2023.3.15)\n",
            "Requirement already satisfied: PyWavelets>=1.1.1 in /usr/local/lib/python3.9/dist-packages (from scikit-image->paddleocr) (1.4.1)\n",
            "Requirement already satisfied: packaging>=20.0 in /usr/local/lib/python3.9/dist-packages (from scikit-image->paddleocr) (23.0)\n",
            "Requirement already satisfied: et-xmlfile in /usr/local/lib/python3.9/dist-packages (from openpyxl->paddleocr) (1.1.0)\n",
            "Requirement already satisfied: requests in /usr/local/lib/python3.9/dist-packages (from premailer->paddleocr) (2.27.1)\n",
            "Requirement already satisfied: cachetools in /usr/local/lib/python3.9/dist-packages (from premailer->paddleocr) (5.3.0)\n",
            "Collecting cssselect\n",
            "  Downloading cssselect-1.2.0-py2.py3-none-any.whl (18 kB)\n",
            "Collecting cssutils\n",
            "  Downloading cssutils-2.6.0-py3-none-any.whl (399 kB)\n",
            "\u001b[2K     \u001b[90m━━━━━━━━━━━━━━━━━━━━━━━━━━━━━━━━━━━━━━\u001b[0m \u001b[32m399.7/399.7 KB\u001b[0m \u001b[31m30.4 MB/s\u001b[0m eta \u001b[36m0:00:00\u001b[0m\n",
            "\u001b[?25hCollecting protobuf>=3.20.0\n",
            "  Downloading protobuf-4.22.1-cp37-abi3-manylinux2014_x86_64.whl (302 kB)\n",
            "\u001b[2K     \u001b[90m━━━━━━━━━━━━━━━━━━━━━━━━━━━━━━━━━━━━━━\u001b[0m \u001b[32m302.4/302.4 KB\u001b[0m \u001b[31m31.4 MB/s\u001b[0m eta \u001b[36m0:00:00\u001b[0m\n",
            "\u001b[?25hRequirement already satisfied: flask>=1.1.1 in /usr/local/lib/python3.9/dist-packages (from visualdl->paddleocr) (2.2.3)\n",
            "Collecting rarfile\n",
            "  Downloading rarfile-4.0-py3-none-any.whl (28 kB)\n",
            "Collecting tritonclient[all]\n",
            "  Downloading tritonclient-2.31.0-py3-none-manylinux1_x86_64.whl (11.7 MB)\n",
            "\u001b[2K     \u001b[90m━━━━━━━━━━━━━━━━━━━━━━━━━━━━━━━━━━━━━━━━\u001b[0m \u001b[32m11.7/11.7 MB\u001b[0m \u001b[31m85.7 MB/s\u001b[0m eta \u001b[36m0:00:00\u001b[0m\n",
            "\u001b[?25hRequirement already satisfied: psutil in /usr/local/lib/python3.9/dist-packages (from visualdl->paddleocr) (5.9.4)\n",
            "Collecting gradio\n",
            "  Downloading gradio-3.23.0-py3-none-any.whl (15.8 MB)\n",
            "\u001b[2K     \u001b[90m━━━━━━━━━━━━━━━━━━━━━━━━━━━━━━━━━━━━━━━━\u001b[0m \u001b[32m15.8/15.8 MB\u001b[0m \u001b[31m64.8 MB/s\u001b[0m eta \u001b[36m0:00:00\u001b[0m\n",
            "\u001b[?25hCollecting Flask-Babel>=3.0.0\n",
            "  Downloading flask_babel-3.0.1-py3-none-any.whl (11 kB)\n",
            "Collecting x2paddle\n",
            "  Downloading x2paddle-1.4.0-py3-none-any.whl (319 kB)\n",
            "\u001b[2K     \u001b[90m━━━━━━━━━━━━━━━━━━━━━━━━━━━━━━━━━━━━━━\u001b[0m \u001b[32m319.1/319.1 KB\u001b[0m \u001b[31m30.0 MB/s\u001b[0m eta \u001b[36m0:00:00\u001b[0m\n",
            "\u001b[?25hRequirement already satisfied: pandas in /usr/local/lib/python3.9/dist-packages (from visualdl->paddleocr) (1.4.4)\n",
            "Collecting onnx>=1.6.0\n",
            "  Downloading onnx-1.13.1-cp39-cp39-manylinux_2_17_x86_64.manylinux2014_x86_64.whl (13.5 MB)\n",
            "\u001b[2K     \u001b[90m━━━━━━━━━━━━━━━━━━━━━━━━━━━━━━━━━━━━━━━━\u001b[0m \u001b[32m13.5/13.5 MB\u001b[0m \u001b[31m43.9 MB/s\u001b[0m eta \u001b[36m0:00:00\u001b[0m\n",
            "\u001b[?25hCollecting bce-python-sdk\n",
            "  Downloading bce_python_sdk-0.8.79-py3-none-any.whl (207 kB)\n",
            "\u001b[2K     \u001b[90m━━━━━━━━━━━━━━━━━━━━━━━━━━━━━━━━━━━━━━\u001b[0m \u001b[32m207.8/207.8 KB\u001b[0m \u001b[31m22.9 MB/s\u001b[0m eta \u001b[36m0:00:00\u001b[0m\n",
            "\u001b[?25hRequirement already satisfied: Jinja2>=3.0 in /usr/local/lib/python3.9/dist-packages (from flask>=1.1.1->visualdl->paddleocr) (3.1.2)\n",
            "Requirement already satisfied: Werkzeug>=2.2.2 in /usr/local/lib/python3.9/dist-packages (from flask>=1.1.1->visualdl->paddleocr) (2.2.3)\n",
            "Requirement already satisfied: importlib-metadata>=3.6.0 in /usr/local/lib/python3.9/dist-packages (from flask>=1.1.1->visualdl->paddleocr) (6.1.0)\n",
            "Requirement already satisfied: itsdangerous>=2.0 in /usr/local/lib/python3.9/dist-packages (from flask>=1.1.1->visualdl->paddleocr) (2.1.2)\n",
            "Requirement already satisfied: click>=8.0 in /usr/local/lib/python3.9/dist-packages (from flask>=1.1.1->visualdl->paddleocr) (8.1.3)\n",
            "Requirement already satisfied: Babel<3.0.0,>=2.11.0 in /usr/local/lib/python3.9/dist-packages (from Flask-Babel>=3.0.0->visualdl->paddleocr) (2.12.1)\n",
            "Requirement already satisfied: pytz<2023.0,>=2022.7 in /usr/local/lib/python3.9/dist-packages (from Flask-Babel>=3.0.0->visualdl->paddleocr) (2022.7.1)\n",
            "Requirement already satisfied: typing-extensions>=3.6.2.1 in /usr/local/lib/python3.9/dist-packages (from onnx>=1.6.0->visualdl->paddleocr) (4.5.0)\n",
            "Collecting protobuf>=3.20.0\n",
            "  Downloading protobuf-3.20.3-cp39-cp39-manylinux_2_5_x86_64.manylinux1_x86_64.whl (1.0 MB)\n",
            "\u001b[2K     \u001b[90m━━━━━━━━━━━━━━━━━━━━━━━━━━━━━━━━━━━━━━━━\u001b[0m \u001b[32m1.0/1.0 MB\u001b[0m \u001b[31m53.8 MB/s\u001b[0m eta \u001b[36m0:00:00\u001b[0m\n",
            "\u001b[?25hCollecting pycryptodome>=3.8.0\n",
            "  Downloading pycryptodome-3.17-cp35-abi3-manylinux_2_17_x86_64.manylinux2014_x86_64.whl (2.1 MB)\n",
            "\u001b[2K     \u001b[90m━━━━━━━━━━━━━━━━━━━━━━━━━━━━━━━━━━━━━━━━\u001b[0m \u001b[32m2.1/2.1 MB\u001b[0m \u001b[31m65.0 MB/s\u001b[0m eta \u001b[36m0:00:00\u001b[0m\n",
            "\u001b[?25hRequirement already satisfied: future>=0.6.0 in /usr/local/lib/python3.9/dist-packages (from bce-python-sdk->visualdl->paddleocr) (0.18.3)\n",
            "Collecting pydub\n",
            "  Downloading pydub-0.25.1-py2.py3-none-any.whl (32 kB)\n",
            "Requirement already satisfied: pyyaml in /usr/local/lib/python3.9/dist-packages (from gradio->visualdl->paddleocr) (6.0)\n",
            "Collecting mdit-py-plugins<=0.3.3\n",
            "  Downloading mdit_py_plugins-0.3.3-py3-none-any.whl (50 kB)\n",
            "\u001b[2K     \u001b[90m━━━━━━━━━━━━━━━━━━━━━━━━━━━━━━━━━━━━━━━━\u001b[0m \u001b[32m50.5/50.5 KB\u001b[0m \u001b[31m5.9 MB/s\u001b[0m eta \u001b[36m0:00:00\u001b[0m\n",
            "\u001b[?25hCollecting semantic-version\n",
            "  Downloading semantic_version-2.10.0-py2.py3-none-any.whl (15 kB)\n",
            "Collecting orjson\n",
            "  Downloading orjson-3.8.8-cp39-cp39-manylinux_2_28_x86_64.whl (143 kB)\n",
            "\u001b[2K     \u001b[90m━━━━━━━━━━━━━━━━━━━━━━━━━━━━━━━━━━━━━━\u001b[0m \u001b[32m143.5/143.5 KB\u001b[0m \u001b[31m14.3 MB/s\u001b[0m eta \u001b[36m0:00:00\u001b[0m\n",
            "\u001b[?25hCollecting fastapi\n",
            "  Downloading fastapi-0.95.0-py3-none-any.whl (57 kB)\n",
            "\u001b[2K     \u001b[90m━━━━━━━━━━━━━━━━━━━━━━━━━━━━━━━━━━━━━━━━\u001b[0m \u001b[32m57.1/57.1 KB\u001b[0m \u001b[31m6.6 MB/s\u001b[0m eta \u001b[36m0:00:00\u001b[0m\n",
            "\u001b[?25hCollecting markdown-it-py[linkify]>=2.0.0\n",
            "  Downloading markdown_it_py-2.2.0-py3-none-any.whl (84 kB)\n",
            "\u001b[2K     \u001b[90m━━━━━━━━━━━━━━━━━━━━━━━━━━━━━━━━━━━━━━━━\u001b[0m \u001b[32m84.5/84.5 KB\u001b[0m \u001b[31m9.8 MB/s\u001b[0m eta \u001b[36m0:00:00\u001b[0m\n",
            "\u001b[?25hRequirement already satisfied: fsspec in /usr/local/lib/python3.9/dist-packages (from gradio->visualdl->paddleocr) (2023.3.0)\n",
            "Requirement already satisfied: pydantic in /usr/local/lib/python3.9/dist-packages (from gradio->visualdl->paddleocr) (1.10.6)\n",
            "Collecting websockets>=10.0\n",
            "  Downloading websockets-10.4-cp39-cp39-manylinux_2_5_x86_64.manylinux1_x86_64.manylinux_2_17_x86_64.manylinux2014_x86_64.whl (106 kB)\n",
            "\u001b[2K     \u001b[90m━━━━━━━━━━━━━━━━━━━━━━━━━━━━━━━━━━━━━━\u001b[0m \u001b[32m106.5/106.5 KB\u001b[0m \u001b[31m11.3 MB/s\u001b[0m eta \u001b[36m0:00:00\u001b[0m\n",
            "\u001b[?25hCollecting httpx\n",
            "  Downloading httpx-0.23.3-py3-none-any.whl (71 kB)\n",
            "\u001b[2K     \u001b[90m━━━━━━━━━━━━━━━━━━━━━━━━━━━━━━━━━━━━━━━━\u001b[0m \u001b[32m71.5/71.5 KB\u001b[0m \u001b[31m6.7 MB/s\u001b[0m eta \u001b[36m0:00:00\u001b[0m\n",
            "\u001b[?25hCollecting ffmpy\n",
            "  Downloading ffmpy-0.3.0.tar.gz (4.8 kB)\n",
            "  Preparing metadata (setup.py) ... \u001b[?25l\u001b[?25hdone\n",
            "Requirement already satisfied: altair>=4.2.0 in /usr/local/lib/python3.9/dist-packages (from gradio->visualdl->paddleocr) (4.2.2)\n",
            "Collecting aiohttp\n",
            "  Downloading aiohttp-3.8.4-cp39-cp39-manylinux_2_17_x86_64.manylinux2014_x86_64.whl (1.0 MB)\n",
            "\u001b[2K     \u001b[90m━━━━━━━━━━━━━━━━━━━━━━━━━━━━━━━━━━━━━━━━\u001b[0m \u001b[32m1.0/1.0 MB\u001b[0m \u001b[31m49.7 MB/s\u001b[0m eta \u001b[36m0:00:00\u001b[0m\n",
            "\u001b[?25hRequirement already satisfied: huggingface-hub>=0.13.0 in /usr/local/lib/python3.9/dist-packages (from gradio->visualdl->paddleocr) (0.13.3)\n",
            "Collecting uvicorn\n",
            "  Downloading uvicorn-0.21.1-py3-none-any.whl (57 kB)\n",
            "\u001b[2K     \u001b[90m━━━━━━━━━━━━━━━━━━━━━━━━━━━━━━━━━━━━━━━━\u001b[0m \u001b[32m57.8/57.8 KB\u001b[0m \u001b[31m6.9 MB/s\u001b[0m eta \u001b[36m0:00:00\u001b[0m\n",
            "\u001b[?25hRequirement already satisfied: markupsafe in /usr/local/lib/python3.9/dist-packages (from gradio->visualdl->paddleocr) (2.1.2)\n",
            "Collecting aiofiles\n",
            "  Downloading aiofiles-23.1.0-py3-none-any.whl (14 kB)\n",
            "Collecting python-multipart\n",
            "  Downloading python_multipart-0.0.6-py3-none-any.whl (45 kB)\n",
            "\u001b[2K     \u001b[90m━━━━━━━━━━━━━━━━━━━━━━━━━━━━━━━━━━━━━━━━\u001b[0m \u001b[32m45.7/45.7 KB\u001b[0m \u001b[31m5.3 MB/s\u001b[0m eta \u001b[36m0:00:00\u001b[0m\n",
            "\u001b[?25hRequirement already satisfied: python-dateutil>=2.7 in /usr/local/lib/python3.9/dist-packages (from matplotlib->imgaug->paddleocr) (2.8.2)\n",
            "Requirement already satisfied: cycler>=0.10 in /usr/local/lib/python3.9/dist-packages (from matplotlib->imgaug->paddleocr) (0.11.0)\n",
            "Requirement already satisfied: contourpy>=1.0.1 in /usr/local/lib/python3.9/dist-packages (from matplotlib->imgaug->paddleocr) (1.0.7)\n",
            "Requirement already satisfied: importlib-resources>=3.2.0 in /usr/local/lib/python3.9/dist-packages (from matplotlib->imgaug->paddleocr) (5.12.0)\n",
            "Requirement already satisfied: kiwisolver>=1.0.1 in /usr/local/lib/python3.9/dist-packages (from matplotlib->imgaug->paddleocr) (1.4.4)\n",
            "Requirement already satisfied: pyparsing>=2.3.1 in /usr/local/lib/python3.9/dist-packages (from matplotlib->imgaug->paddleocr) (3.0.9)\n",
            "Requirement already satisfied: charset-normalizer~=2.0.0 in /usr/local/lib/python3.9/dist-packages (from requests->premailer->paddleocr) (2.0.12)\n",
            "Requirement already satisfied: idna<4,>=2.5 in /usr/local/lib/python3.9/dist-packages (from requests->premailer->paddleocr) (3.4)\n",
            "Requirement already satisfied: urllib3<1.27,>=1.21.1 in /usr/local/lib/python3.9/dist-packages (from requests->premailer->paddleocr) (1.26.15)\n",
            "Requirement already satisfied: certifi>=2017.4.17 in /usr/local/lib/python3.9/dist-packages (from requests->premailer->paddleocr) (2022.12.7)\n",
            "Collecting python-rapidjson>=0.9.1\n",
            "  Downloading python_rapidjson-1.10-cp39-cp39-manylinux_2_17_x86_64.manylinux2014_x86_64.whl (1.7 MB)\n",
            "\u001b[2K     \u001b[90m━━━━━━━━━━━━━━━━━━━━━━━━━━━━━━━━━━━━━━━━\u001b[0m \u001b[32m1.7/1.7 MB\u001b[0m \u001b[31m32.6 MB/s\u001b[0m eta \u001b[36m0:00:00\u001b[0m\n",
            "\u001b[?25hCollecting geventhttpclient<=2.0.2,>=1.4.4\n",
            "  Downloading geventhttpclient-2.0.2-cp39-cp39-manylinux_2_5_x86_64.manylinux1_x86_64.manylinux_2_17_x86_64.manylinux2014_x86_64.whl (100 kB)\n",
            "\u001b[2K     \u001b[90m━━━━━━━━━━━━━━━━━━━━━━━━━━━━━━━━━━━━━━\u001b[0m \u001b[32m100.1/100.1 KB\u001b[0m \u001b[31m10.1 MB/s\u001b[0m eta \u001b[36m0:00:00\u001b[0m\n",
            "\u001b[?25hRequirement already satisfied: grpcio>=1.41.0 in /usr/local/lib/python3.9/dist-packages (from tritonclient[all]->visualdl->paddleocr) (1.51.3)\n",
            "Requirement already satisfied: sympy in /usr/local/lib/python3.9/dist-packages (from x2paddle->visualdl->paddleocr) (1.11.1)\n",
            "Collecting async-timeout<5.0,>=4.0.0a3\n",
            "  Downloading async_timeout-4.0.2-py3-none-any.whl (5.8 kB)\n",
            "Collecting multidict<7.0,>=4.5\n",
            "  Downloading multidict-6.0.4-cp39-cp39-manylinux_2_17_x86_64.manylinux2014_x86_64.whl (114 kB)\n",
            "\u001b[2K     \u001b[90m━━━━━━━━━━━━━━━━━━━━━━━━━━━━━━━━━━━━━━\u001b[0m \u001b[32m114.2/114.2 KB\u001b[0m \u001b[31m12.5 MB/s\u001b[0m eta \u001b[36m0:00:00\u001b[0m\n",
            "\u001b[?25hCollecting yarl<2.0,>=1.0\n",
            "  Downloading yarl-1.8.2-cp39-cp39-manylinux_2_17_x86_64.manylinux2014_x86_64.whl (264 kB)\n",
            "\u001b[2K     \u001b[90m━━━━━━━━━━━━━━━━━━━━━━━━━━━━━━━━━━━━━━\u001b[0m \u001b[32m264.6/264.6 KB\u001b[0m \u001b[31m23.1 MB/s\u001b[0m eta \u001b[36m0:00:00\u001b[0m\n",
            "\u001b[?25hCollecting frozenlist>=1.1.1\n",
            "  Downloading frozenlist-1.3.3-cp39-cp39-manylinux_2_5_x86_64.manylinux1_x86_64.manylinux_2_17_x86_64.manylinux2014_x86_64.whl (158 kB)\n",
            "\u001b[2K     \u001b[90m━━━━━━━━━━━━━━━━━━━━━━━━━━━━━━━━━━━━━\u001b[0m \u001b[32m158.8/158.8 KB\u001b[0m \u001b[31m906.7 kB/s\u001b[0m eta \u001b[36m0:00:00\u001b[0m\n",
            "\u001b[?25hCollecting aiosignal>=1.1.2\n",
            "  Downloading aiosignal-1.3.1-py3-none-any.whl (7.6 kB)\n",
            "Requirement already satisfied: attrs>=17.3.0 in /usr/local/lib/python3.9/dist-packages (from aiohttp->gradio->visualdl->paddleocr) (22.2.0)\n",
            "Requirement already satisfied: jsonschema>=3.0 in /usr/local/lib/python3.9/dist-packages (from altair>=4.2.0->gradio->visualdl->paddleocr) (4.3.3)\n",
            "Requirement already satisfied: entrypoints in /usr/local/lib/python3.9/dist-packages (from altair>=4.2.0->gradio->visualdl->paddleocr) (0.4)\n",
            "Requirement already satisfied: toolz in /usr/local/lib/python3.9/dist-packages (from altair>=4.2.0->gradio->visualdl->paddleocr) (0.12.0)\n",
            "Collecting gevent>=0.13\n",
            "  Downloading gevent-22.10.2-cp39-cp39-manylinux_2_17_x86_64.manylinux2014_x86_64.whl (6.4 MB)\n",
            "\u001b[2K     \u001b[90m━━━━━━━━━━━━━━━━━━━━━━━━━━━━━━━━━━━━━━━━\u001b[0m \u001b[32m6.4/6.4 MB\u001b[0m \u001b[31m22.5 MB/s\u001b[0m eta \u001b[36m0:00:00\u001b[0m\n",
            "\u001b[?25hCollecting brotli\n",
            "  Downloading Brotli-1.0.9-cp39-cp39-manylinux1_x86_64.whl (357 kB)\n",
            "\u001b[2K     \u001b[90m━━━━━━━━━━━━━━━━━━━━━━━━━━━━━━━━━━━━━━\u001b[0m \u001b[32m357.2/357.2 KB\u001b[0m \u001b[31m28.8 MB/s\u001b[0m eta \u001b[36m0:00:00\u001b[0m\n",
            "\u001b[?25hRequirement already satisfied: filelock in /usr/local/lib/python3.9/dist-packages (from huggingface-hub>=0.13.0->gradio->visualdl->paddleocr) (3.10.0)\n",
            "Requirement already satisfied: zipp>=0.5 in /usr/local/lib/python3.9/dist-packages (from importlib-metadata>=3.6.0->flask>=1.1.1->visualdl->paddleocr) (3.15.0)\n",
            "Collecting mdurl~=0.1\n",
            "  Downloading mdurl-0.1.2-py3-none-any.whl (10.0 kB)\n",
            "Collecting linkify-it-py<3,>=1\n",
            "  Downloading linkify_it_py-2.0.0-py3-none-any.whl (19 kB)\n",
            "Collecting starlette<0.27.0,>=0.26.1\n",
            "  Downloading starlette-0.26.1-py3-none-any.whl (66 kB)\n",
            "\u001b[2K     \u001b[90m━━━━━━━━━━━━━━━━━━━━━━━━━━━━━━━━━━━━━━━━\u001b[0m \u001b[32m66.9/66.9 KB\u001b[0m \u001b[31m8.8 MB/s\u001b[0m eta \u001b[36m0:00:00\u001b[0m\n",
            "\u001b[?25hCollecting httpcore<0.17.0,>=0.15.0\n",
            "  Downloading httpcore-0.16.3-py3-none-any.whl (69 kB)\n",
            "\u001b[2K     \u001b[90m━━━━━━━━━━━━━━━━━━━━━━━━━━━━━━━━━━━━━━━━\u001b[0m \u001b[32m69.6/69.6 KB\u001b[0m \u001b[31m8.0 MB/s\u001b[0m eta \u001b[36m0:00:00\u001b[0m\n",
            "\u001b[?25hCollecting rfc3986[idna2008]<2,>=1.3\n",
            "  Downloading rfc3986-1.5.0-py2.py3-none-any.whl (31 kB)\n",
            "Collecting sniffio\n",
            "  Downloading sniffio-1.3.0-py3-none-any.whl (10 kB)\n",
            "Requirement already satisfied: mpmath>=0.19 in /usr/local/lib/python3.9/dist-packages (from sympy->x2paddle->visualdl->paddleocr) (1.3.0)\n",
            "Collecting h11>=0.8\n",
            "  Downloading h11-0.14.0-py3-none-any.whl (58 kB)\n",
            "\u001b[2K     \u001b[90m━━━━━━━━━━━━━━━━━━━━━━━━━━━━━━━━━━━━━━━━\u001b[0m \u001b[32m58.3/58.3 KB\u001b[0m \u001b[31m6.7 MB/s\u001b[0m eta \u001b[36m0:00:00\u001b[0m\n",
            "\u001b[?25hCollecting zope.interface\n",
            "  Downloading zope.interface-6.0-cp39-cp39-manylinux_2_5_x86_64.manylinux1_x86_64.manylinux_2_17_x86_64.manylinux2014_x86_64.whl (246 kB)\n",
            "\u001b[2K     \u001b[90m━━━━━━━━━━━━━━━━━━━━━━━━━━━━━━━━━━━━━━\u001b[0m \u001b[32m246.1/246.1 KB\u001b[0m \u001b[31m20.6 MB/s\u001b[0m eta \u001b[36m0:00:00\u001b[0m\n",
            "\u001b[?25hCollecting zope.event\n",
            "  Downloading zope.event-4.6-py2.py3-none-any.whl (6.8 kB)\n",
            "Requirement already satisfied: greenlet>=2.0.0 in /usr/local/lib/python3.9/dist-packages (from gevent>=0.13->geventhttpclient<=2.0.2,>=1.4.4->tritonclient[all]->visualdl->paddleocr) (2.0.2)\n",
            "Requirement already satisfied: setuptools in /usr/local/lib/python3.9/dist-packages (from gevent>=0.13->geventhttpclient<=2.0.2,>=1.4.4->tritonclient[all]->visualdl->paddleocr) (67.6.0)\n",
            "Collecting anyio<5.0,>=3.0\n",
            "  Downloading anyio-3.6.2-py3-none-any.whl (80 kB)\n",
            "\u001b[2K     \u001b[90m━━━━━━━━━━━━━━━━━━━━━━━━━━━━━━━━━━━━━━━━\u001b[0m \u001b[32m80.6/80.6 KB\u001b[0m \u001b[31m9.3 MB/s\u001b[0m eta \u001b[36m0:00:00\u001b[0m\n",
            "\u001b[?25hRequirement already satisfied: pyrsistent!=0.17.0,!=0.17.1,!=0.17.2,>=0.14.0 in /usr/local/lib/python3.9/dist-packages (from jsonschema>=3.0->altair>=4.2.0->gradio->visualdl->paddleocr) (0.19.3)\n",
            "Collecting uc-micro-py\n",
            "  Downloading uc_micro_py-1.0.1-py3-none-any.whl (6.2 kB)\n",
            "Building wheels for collected packages: fire, python-docx, ffmpy\n",
            "  Building wheel for fire (setup.py) ... \u001b[?25l\u001b[?25hdone\n",
            "  Created wheel for fire: filename=fire-0.5.0-py2.py3-none-any.whl size=116952 sha256=c6d0151c435ac83c6782b3925bec316788940b326e166ee93c93ad11cd874b31\n",
            "  Stored in directory: /root/.cache/pip/wheels/f7/f1/89/b9ea2bf8f80ec027a88fef1d354b3816b4d3d29530988972f6\n",
            "  Building wheel for python-docx (setup.py) ... \u001b[?25l\u001b[?25hdone\n",
            "  Created wheel for python-docx: filename=python_docx-0.8.11-py3-none-any.whl size=184505 sha256=b7d3c90b546a555c2ccfa6b44d4cfbfc09dd2b287eabb43f27026a4f111fa721\n",
            "  Stored in directory: /root/.cache/pip/wheels/83/8b/7c/09ae60c42c7ba4ed2dddaf2b8b9186cb105255856d6ed3dba5\n",
            "  Building wheel for ffmpy (setup.py) ... \u001b[?25l\u001b[?25hdone\n",
            "  Created wheel for ffmpy: filename=ffmpy-0.3.0-py3-none-any.whl size=4707 sha256=6e2914613f960147f36efcabc75c477e456f951bb0cec250e2a710ab0ee8a023\n",
            "  Stored in directory: /root/.cache/pip/wheels/91/e2/96/f676aa08bfd789328c6576cd0f1fde4a3d686703bb0c247697\n",
            "Successfully built fire python-docx ffmpy\n",
            "Installing collected packages: rfc3986, rarfile, pydub, pyclipper, lmdb, ffmpy, brotli, zope.interface, zope.event, websockets, uc-micro-py, sniffio, semantic-version, rapidfuzz, python-rapidjson, python-multipart, python-docx, PyMuPDF, pycryptodome, protobuf, orjson, opencv-python, opencv-contrib-python, multidict, mdurl, h11, frozenlist, fire, cssutils, cssselect, attrdict, async-timeout, aiofiles, yarl, x2paddle, uvicorn, tritonclient, premailer, pdf2docx, onnx, markdown-it-py, linkify-it-py, gevent, bce-python-sdk, anyio, aiosignal, starlette, mdit-py-plugins, httpcore, geventhttpclient, Flask-Babel, aiohttp, httpx, fastapi, gradio, visualdl, paddleocr\n",
            "  Attempting uninstall: protobuf\n",
            "    Found existing installation: protobuf 3.19.6\n",
            "    Uninstalling protobuf-3.19.6:\n",
            "      Successfully uninstalled protobuf-3.19.6\n",
            "  Attempting uninstall: opencv-python\n",
            "    Found existing installation: opencv-python 4.7.0.72\n",
            "    Uninstalling opencv-python-4.7.0.72:\n",
            "      Successfully uninstalled opencv-python-4.7.0.72\n",
            "  Attempting uninstall: opencv-contrib-python\n",
            "    Found existing installation: opencv-contrib-python 4.7.0.72\n",
            "    Uninstalling opencv-contrib-python-4.7.0.72:\n",
            "      Successfully uninstalled opencv-contrib-python-4.7.0.72\n",
            "\u001b[31mERROR: pip's dependency resolver does not currently take into account all the packages that are installed. This behaviour is the source of the following dependency conflicts.\n",
            "tensorflow 2.11.0 requires protobuf<3.20,>=3.9.2, but you have protobuf 3.20.3 which is incompatible.\n",
            "paddlepaddle 2.4.2 requires protobuf<=3.20.0,>=3.1.0, but you have protobuf 3.20.3 which is incompatible.\u001b[0m\u001b[31m\n",
            "\u001b[0mSuccessfully installed Flask-Babel-3.0.1 PyMuPDF-1.20.2 aiofiles-23.1.0 aiohttp-3.8.4 aiosignal-1.3.1 anyio-3.6.2 async-timeout-4.0.2 attrdict-2.0.1 bce-python-sdk-0.8.79 brotli-1.0.9 cssselect-1.2.0 cssutils-2.6.0 fastapi-0.95.0 ffmpy-0.3.0 fire-0.5.0 frozenlist-1.3.3 gevent-22.10.2 geventhttpclient-2.0.2 gradio-3.23.0 h11-0.14.0 httpcore-0.16.3 httpx-0.23.3 linkify-it-py-2.0.0 lmdb-1.4.0 markdown-it-py-2.2.0 mdit-py-plugins-0.3.3 mdurl-0.1.2 multidict-6.0.4 onnx-1.13.1 opencv-contrib-python-4.6.0.66 opencv-python-4.6.0.66 orjson-3.8.8 paddleocr-2.6.1.3 pdf2docx-0.5.6 premailer-3.10.0 protobuf-3.20.3 pyclipper-1.3.0.post4 pycryptodome-3.17 pydub-0.25.1 python-docx-0.8.11 python-multipart-0.0.6 python-rapidjson-1.10 rapidfuzz-2.13.7 rarfile-4.0 rfc3986-1.5.0 semantic-version-2.10.0 sniffio-1.3.0 starlette-0.26.1 tritonclient-2.31.0 uc-micro-py-1.0.1 uvicorn-0.21.1 visualdl-2.5.1 websockets-10.4 x2paddle-1.4.0 yarl-1.8.2 zope.event-4.6 zope.interface-6.0\n"
          ]
        }
      ],
      "source": [
        "!pip install paddlepaddle\n",
        "!pip install paddleocr"
      ]
    },
    {
      "cell_type": "code",
      "execution_count": null,
      "metadata": {
        "id": "UFrUTvPBD0TS"
      },
      "outputs": [],
      "source": [
        "from paddleocr import PaddleOCR"
      ]
    },
    {
      "cell_type": "code",
      "execution_count": null,
      "metadata": {
        "id": "ZSLZTZ5rmHNe"
      },
      "outputs": [],
      "source": [
        "def takeText(img):\n",
        "  ocr = PaddleOCR(use_angle_cls=True, lang = 'en', use_gpu = False)\n",
        "  result = ocr.ocr(preprocessed_image, cls = True)[0]\n",
        "  boxes = [res[0] for res in result] \n",
        "  texts = [res[1][0] for res in result]\n",
        "  scores = [res[1][1] for res in result]\n",
        "  return ' '.join(texts)"
      ]
    },
    {
      "cell_type": "code",
      "execution_count": null,
      "metadata": {
        "id": "HbJ4feGsBpNx"
      },
      "outputs": [],
      "source": [
        "test=['https://www.netmeds.com/images/product-v1/600x600/889489/zit_20mg_capsule_10s_1_0.jpg' , 'https://www.netmeds.com/images/product-v1/600x600/923462/zitlite_20_capsule_10s_1_0.jpg' , 'https://www.netmeds.com/images/product-v1/600x600/854029/zitblow_20mg_capsule_10s_4_0.jpg','https://www.netmeds.com/images/product-v1/600x600/854029/zitblow_20mg_capsule_10s_1_0.jpg','https://www.netmeds.com/images/product-v1/600x600/344589/tretiva_40mg_capsule_10s_1_0.jpg']"
      ]
    },
    {
      "cell_type": "code",
      "source": [
        "testing_data=training_data"
      ],
      "metadata": {
        "id": "_TlXcpDsloFD"
      },
      "execution_count": null,
      "outputs": []
    },
    {
      "cell_type": "code",
      "source": [
        "training_data['annotations'].extend(testing_data['annotations'][:4])"
      ],
      "metadata": {
        "id": "xEjujRdtu8G4"
      },
      "execution_count": 58,
      "outputs": []
    },
    {
      "cell_type": "code",
      "source": [],
      "metadata": {
        "colab": {
          "base_uri": "https://localhost:8080/"
        },
        "id": "5--lDIvNuuoP",
        "outputId": "e6c8a228-bf0a-4c92-a13e-6098e18525ee"
      },
      "execution_count": 51,
      "outputs": [
        {
          "output_type": "execute_result",
          "data": {
            "text/plain": [
              "[{'text': 'OCANASH 5 contains Obeticholic acid which belongs to the group of medicines called Farnesoid X receptor agonists. It is used to treat primary biliary cholangitis (also known as primary biliary cirrhosis) in adults, either by itself or together with other medicine (called ursodeoxycholic acid).',\n",
              "  'entities': [(19, 35, 'COMPONENT'), (0, 9, 'NAME')]},\n",
              " {'text': 'ADEFRESH 400 TABLET contains S-Adenosyl-L-Methionine which belongs to the group of medicines called Amino acid derivatives. It is used to treat liver problems such as intrahepatic cholestasis (ICP; block in bile flow), liver cirrhosis, hepatitis and alcoholic liver disease in adults.',\n",
              "  'entities': [(29, 52, 'COMPONENT'), (0, 19, 'NAME')]},\n",
              " {'text': 'ADEMETH 400MG TABLET contains S-Adenosyl-L-Methionine which belongs to the group of medicines called Amino acid derivatives. It is used to treat liver problems such as intrahepatic cholestasis (ICP; block in bile flow), liver cirrhosis, hepatitis and alcoholic liver disease in adults.',\n",
              "  'entities': [(30, 53, 'COMPONENT'), (0, 20, 'NAME')]},\n",
              " {'text': 'SILYBON 70MG TABLET contains Silymarin which belongs to the group of medicines called Flavonoids. Silymarin is a flavonoid isolated from the plant species called Silybum marianum which is commonly known as milk thistle.',\n",
              "  'entities': [(0, 19, 'NAME'), (29, 38, 'COMPONENT')]}]"
            ]
          },
          "metadata": {},
          "execution_count": 51
        }
      ]
    },
    {
      "cell_type": "code",
      "source": [
        "training_data['annotations'] = training_data['annotations'][:-2]"
      ],
      "metadata": {
        "id": "JCpaKLfBvdlC"
      },
      "execution_count": 57,
      "outputs": []
    },
    {
      "cell_type": "code",
      "source": [
        "from spacy.util import filter_spans\n",
        "\n",
        "for training_example  in tqdm(testing_data['annotations']): \n",
        "    text = training_example['text']\n",
        "    labels = training_example['entities']\n",
        "    doc = nlp.make_doc(text) \n",
        "    ents = []\n",
        "    for start, end, label in labels:\n",
        "        span = doc.char_span(start, end, label=label, alignment_mode=\"contract\")\n",
        "        if span is None:\n",
        "            print(\"Skipping entity\")\n",
        "        else:\n",
        "            ents.append(span)\n",
        "    filtered_ents = filter_spans(ents)\n",
        "    doc.ents = filtered_ents \n",
        "    doc_bin.add(doc)\n",
        "\n",
        "doc_bin.to_disk(\"test.spacy\")"
      ],
      "metadata": {
        "colab": {
          "base_uri": "https://localhost:8080/"
        },
        "id": "tNrx2n_xlQg_",
        "outputId": "3aca4fce-f4d7-4587-a67f-394ad3ac43d1"
      },
      "execution_count": 60,
      "outputs": [
        {
          "output_type": "stream",
          "name": "stderr",
          "text": [
            "100%|██████████| 18/18 [00:00<00:00, 734.82it/s]"
          ]
        },
        {
          "output_type": "stream",
          "name": "stdout",
          "text": [
            "Skipping entity\n",
            "Skipping entity\n",
            "Skipping entity\n",
            "Skipping entity\n",
            "Skipping entity\n",
            "Skipping entity\n",
            "Skipping entity\n",
            "Skipping entity\n",
            "Skipping entity\n",
            "Skipping entity\n"
          ]
        },
        {
          "output_type": "stream",
          "name": "stderr",
          "text": [
            "\n"
          ]
        }
      ]
    },
    {
      "cell_type": "code",
      "source": [
        "!unzip '/content/drive/MyDrive/Copy of ner-20230212T144914Z-001.zip'"
      ],
      "metadata": {
        "colab": {
          "base_uri": "https://localhost:8080/"
        },
        "id": "vBAvU7pEm6Ig",
        "outputId": "ef9a0f59-072b-42d5-916c-19d00dacbc11"
      },
      "execution_count": 29,
      "outputs": [
        {
          "output_type": "stream",
          "name": "stdout",
          "text": [
            "Archive:  /content/drive/MyDrive/Copy of ner-20230212T144914Z-001.zip\n",
            "  inflating: ner/moves               \n",
            "  inflating: ner/model               \n",
            "  inflating: ner/cfg                 \n"
          ]
        }
      ]
    },
    {
      "cell_type": "code",
      "source": [],
      "metadata": {
        "id": "fHIzjsM5tP8g"
      },
      "execution_count": null,
      "outputs": []
    },
    {
      "cell_type": "code",
      "execution_count": 61,
      "metadata": {
        "id": "XbOMF-twCoDZ",
        "colab": {
          "base_uri": "https://localhost:8080/"
        },
        "outputId": "7ca659e8-3918-41a4-c9b8-8b9e0276ad84"
      },
      "outputs": [
        {
          "output_type": "stream",
          "name": "stdout",
          "text": [
            "/usr/local/lib/python3.9/dist-packages/torch/cuda/__init__.py:497: UserWarning: Can't initialize NVML\n",
            "  warnings.warn(\"Can't initialize NVML\")\n",
            "2023-03-23 04:35:24.490602: W tensorflow/compiler/xla/stream_executor/platform/default/dso_loader.cc:64] Could not load dynamic library 'libnvinfer.so.7'; dlerror: libnvinfer.so.7: cannot open shared object file: No such file or directory; LD_LIBRARY_PATH: /usr/local/lib/python3.9/dist-packages/cv2/../../lib64:/usr/local/nvidia/lib:/usr/local/nvidia/lib64\n",
            "2023-03-23 04:35:24.490785: W tensorflow/compiler/xla/stream_executor/platform/default/dso_loader.cc:64] Could not load dynamic library 'libnvinfer_plugin.so.7'; dlerror: libnvinfer_plugin.so.7: cannot open shared object file: No such file or directory; LD_LIBRARY_PATH: /usr/local/lib/python3.9/dist-packages/cv2/../../lib64:/usr/local/nvidia/lib:/usr/local/nvidia/lib64\n",
            "2023-03-23 04:35:24.490815: W tensorflow/compiler/tf2tensorrt/utils/py_utils.cc:38] TF-TRT Warning: Cannot dlopen some TensorRT libraries. If you would like to use Nvidia GPU with TensorRT, please make sure the missing libraries mentioned above are installed properly.\n",
            "2023-03-23 04:35:27.472324: E tensorflow/compiler/xla/stream_executor/cuda/cuda_driver.cc:267] failed call to cuInit: CUDA_ERROR_NO_DEVICE: no CUDA-capable device is detected\n",
            "\u001b[38;5;4mℹ Using CPU\u001b[0m\n",
            "\u001b[1m\n",
            "================================== Results ==================================\u001b[0m\n",
            "\n",
            "TOK     100.00\n",
            "NER P   98.84 \n",
            "NER R   60.93 \n",
            "NER F   75.39 \n",
            "SPEED   11901 \n",
            "\n",
            "\u001b[1m\n",
            "=============================== NER (per type) ===============================\u001b[0m\n",
            "\n",
            "                    P        R        F\n",
            "COMPONENT       97.94    62.09    76.00\n",
            "NAME           100.00    50.00    66.67\n",
            "MANUFACTURER   100.00   100.00   100.00\n",
            "\n"
          ]
        }
      ],
      "source": [
        "!python -m spacy evaluate model-best/ test.spacy"
      ]
    },
    {
      "cell_type": "code",
      "execution_count": null,
      "metadata": {
        "id": "vBk9C8IDrckc"
      },
      "outputs": [],
      "source": [
        "Texties = {'link' : [], 'text':[]}"
      ]
    },
    {
      "cell_type": "code",
      "execution_count": null,
      "metadata": {
        "colab": {
          "base_uri": "https://localhost:8080/"
        },
        "id": "_uuEMWJaCQLt",
        "outputId": "3435edbe-7c00-4a74-b130-af20de26c239"
      },
      "outputs": [
        {
          "name": "stdout",
          "output_type": "stream",
          "text": [
            "download https://paddleocr.bj.bcebos.com/PP-OCRv3/english/en_PP-OCRv3_det_infer.tar to /root/.paddleocr/whl/det/en/en_PP-OCRv3_det_infer/en_PP-OCRv3_det_infer.tar\n"
          ]
        },
        {
          "name": "stderr",
          "output_type": "stream",
          "text": [
            "100%|██████████| 4.00M/4.00M [00:16<00:00, 240kiB/s] \n"
          ]
        },
        {
          "name": "stdout",
          "output_type": "stream",
          "text": [
            "download https://paddleocr.bj.bcebos.com/PP-OCRv3/english/en_PP-OCRv3_rec_infer.tar to /root/.paddleocr/whl/rec/en/en_PP-OCRv3_rec_infer/en_PP-OCRv3_rec_infer.tar\n"
          ]
        },
        {
          "name": "stderr",
          "output_type": "stream",
          "text": [
            "100%|██████████| 9.96M/9.96M [00:13<00:00, 750kiB/s] \n"
          ]
        },
        {
          "name": "stdout",
          "output_type": "stream",
          "text": [
            "download https://paddleocr.bj.bcebos.com/dygraph_v2.0/ch/ch_ppocr_mobile_v2.0_cls_infer.tar to /root/.paddleocr/whl/cls/ch_ppocr_mobile_v2.0_cls_infer/ch_ppocr_mobile_v2.0_cls_infer.tar\n"
          ]
        },
        {
          "name": "stderr",
          "output_type": "stream",
          "text": [
            "100%|██████████| 2.19M/2.19M [00:14<00:00, 149kiB/s]"
          ]
        },
        {
          "name": "stdout",
          "output_type": "stream",
          "text": [
            "[2023/02/11 15:20:51] ppocr DEBUG: Namespace(alpha=1.0, benchmark=False, beta=1.0, cls_batch_num=6, cls_image_shape='3, 48, 192', cls_model_dir='/root/.paddleocr/whl/cls/ch_ppocr_mobile_v2.0_cls_infer', cls_thresh=0.9, cpu_threads=10, crop_res_save_dir='./output', det=True, det_algorithm='DB', det_box_type='quad', det_db_box_thresh=0.6, det_db_score_mode='fast', det_db_thresh=0.3, det_db_unclip_ratio=1.5, det_east_cover_thresh=0.1, det_east_nms_thresh=0.2, det_east_score_thresh=0.8, det_limit_side_len=960, det_limit_type='max', det_model_dir='/root/.paddleocr/whl/det/en/en_PP-OCRv3_det_infer', det_pse_box_thresh=0.85, det_pse_min_area=16, det_pse_scale=1, det_pse_thresh=0, det_sast_nms_thresh=0.2, det_sast_score_thresh=0.5, draw_img_save_dir='./inference_results', drop_score=0.5, e2e_algorithm='PGNet', e2e_char_dict_path='./ppocr/utils/ic15_dict.txt', e2e_limit_side_len=768, e2e_limit_type='max', e2e_model_dir=None, e2e_pgnet_mode='fast', e2e_pgnet_score_thresh=0.5, e2e_pgnet_valid_set='totaltext', enable_mkldnn=False, fourier_degree=5, gpu_mem=500, help='==SUPPRESS==', image_dir=None, image_orientation=False, ir_optim=True, kie_algorithm='LayoutXLM', label_list=['0', '180'], lang='en', layout=True, layout_dict_path=None, layout_model_dir=None, layout_nms_threshold=0.5, layout_score_threshold=0.5, max_batch_size=10, max_text_length=25, merge_no_span_structure=True, min_subgraph_size=15, mode='structure', ocr=True, ocr_order_method=None, ocr_version='PP-OCRv3', output='./output', page_num=0, precision='fp32', process_id=0, re_model_dir=None, rec=True, rec_algorithm='SVTR_LCNet', rec_batch_num=6, rec_char_dict_path='/usr/local/lib/python3.8/dist-packages/paddleocr/ppocr/utils/en_dict.txt', rec_image_inverse=True, rec_image_shape='3, 48, 320', rec_model_dir='/root/.paddleocr/whl/rec/en/en_PP-OCRv3_rec_infer', recovery=False, save_crop_res=False, save_log_path='./log_output/', scales=[8, 16, 32], ser_dict_path='../train_data/XFUND/class_list_xfun.txt', ser_model_dir=None, show_log=True, sr_batch_num=1, sr_image_shape='3, 32, 128', sr_model_dir=None, structure_version='PP-StructureV2', table=True, table_algorithm='TableAttn', table_char_dict_path=None, table_max_len=488, table_model_dir=None, total_process_num=1, type='ocr', use_angle_cls=True, use_dilation=False, use_gpu=False, use_mp=False, use_npu=False, use_onnx=False, use_pdf2docx_api=False, use_pdserving=False, use_space_char=True, use_tensorrt=False, use_visual_backbone=True, use_xpu=False, vis_font_path='./doc/fonts/simfang.ttf', warmup=False)\n"
          ]
        },
        {
          "name": "stderr",
          "output_type": "stream",
          "text": [
            "\n"
          ]
        },
        {
          "name": "stdout",
          "output_type": "stream",
          "text": [
            "[2023/02/11 15:20:52] ppocr DEBUG: dt_boxes num : 47, elapse : 0.5764875411987305\n",
            "[2023/02/11 15:20:52] ppocr DEBUG: cls num  : 47, elapse : 0.3238825798034668\n",
            "[2023/02/11 15:21:04] ppocr DEBUG: rec_res num  : 47, elapse : 11.8114595413208\n",
            "[2023/02/11 15:21:04] ppocr DEBUG: Namespace(alpha=1.0, benchmark=False, beta=1.0, cls_batch_num=6, cls_image_shape='3, 48, 192', cls_model_dir='/root/.paddleocr/whl/cls/ch_ppocr_mobile_v2.0_cls_infer', cls_thresh=0.9, cpu_threads=10, crop_res_save_dir='./output', det=True, det_algorithm='DB', det_box_type='quad', det_db_box_thresh=0.6, det_db_score_mode='fast', det_db_thresh=0.3, det_db_unclip_ratio=1.5, det_east_cover_thresh=0.1, det_east_nms_thresh=0.2, det_east_score_thresh=0.8, det_limit_side_len=960, det_limit_type='max', det_model_dir='/root/.paddleocr/whl/det/en/en_PP-OCRv3_det_infer', det_pse_box_thresh=0.85, det_pse_min_area=16, det_pse_scale=1, det_pse_thresh=0, det_sast_nms_thresh=0.2, det_sast_score_thresh=0.5, draw_img_save_dir='./inference_results', drop_score=0.5, e2e_algorithm='PGNet', e2e_char_dict_path='./ppocr/utils/ic15_dict.txt', e2e_limit_side_len=768, e2e_limit_type='max', e2e_model_dir=None, e2e_pgnet_mode='fast', e2e_pgnet_score_thresh=0.5, e2e_pgnet_valid_set='totaltext', enable_mkldnn=False, fourier_degree=5, gpu_mem=500, help='==SUPPRESS==', image_dir=None, image_orientation=False, ir_optim=True, kie_algorithm='LayoutXLM', label_list=['0', '180'], lang='en', layout=True, layout_dict_path=None, layout_model_dir=None, layout_nms_threshold=0.5, layout_score_threshold=0.5, max_batch_size=10, max_text_length=25, merge_no_span_structure=True, min_subgraph_size=15, mode='structure', ocr=True, ocr_order_method=None, ocr_version='PP-OCRv3', output='./output', page_num=0, precision='fp32', process_id=0, re_model_dir=None, rec=True, rec_algorithm='SVTR_LCNet', rec_batch_num=6, rec_char_dict_path='/usr/local/lib/python3.8/dist-packages/paddleocr/ppocr/utils/en_dict.txt', rec_image_inverse=True, rec_image_shape='3, 48, 320', rec_model_dir='/root/.paddleocr/whl/rec/en/en_PP-OCRv3_rec_infer', recovery=False, save_crop_res=False, save_log_path='./log_output/', scales=[8, 16, 32], ser_dict_path='../train_data/XFUND/class_list_xfun.txt', ser_model_dir=None, show_log=True, sr_batch_num=1, sr_image_shape='3, 32, 128', sr_model_dir=None, structure_version='PP-StructureV2', table=True, table_algorithm='TableAttn', table_char_dict_path=None, table_max_len=488, table_model_dir=None, total_process_num=1, type='ocr', use_angle_cls=True, use_dilation=False, use_gpu=False, use_mp=False, use_npu=False, use_onnx=False, use_pdf2docx_api=False, use_pdserving=False, use_space_char=True, use_tensorrt=False, use_visual_backbone=True, use_xpu=False, vis_font_path='./doc/fonts/simfang.ttf', warmup=False)\n",
            "[2023/02/11 15:21:05] ppocr DEBUG: dt_boxes num : 39, elapse : 0.4736177921295166\n",
            "[2023/02/11 15:21:06] ppocr DEBUG: cls num  : 39, elapse : 0.2647562026977539\n",
            "[2023/02/11 15:21:16] ppocr DEBUG: rec_res num  : 39, elapse : 10.206867218017578\n",
            "[2023/02/11 15:21:16] ppocr DEBUG: Namespace(alpha=1.0, benchmark=False, beta=1.0, cls_batch_num=6, cls_image_shape='3, 48, 192', cls_model_dir='/root/.paddleocr/whl/cls/ch_ppocr_mobile_v2.0_cls_infer', cls_thresh=0.9, cpu_threads=10, crop_res_save_dir='./output', det=True, det_algorithm='DB', det_box_type='quad', det_db_box_thresh=0.6, det_db_score_mode='fast', det_db_thresh=0.3, det_db_unclip_ratio=1.5, det_east_cover_thresh=0.1, det_east_nms_thresh=0.2, det_east_score_thresh=0.8, det_limit_side_len=960, det_limit_type='max', det_model_dir='/root/.paddleocr/whl/det/en/en_PP-OCRv3_det_infer', det_pse_box_thresh=0.85, det_pse_min_area=16, det_pse_scale=1, det_pse_thresh=0, det_sast_nms_thresh=0.2, det_sast_score_thresh=0.5, draw_img_save_dir='./inference_results', drop_score=0.5, e2e_algorithm='PGNet', e2e_char_dict_path='./ppocr/utils/ic15_dict.txt', e2e_limit_side_len=768, e2e_limit_type='max', e2e_model_dir=None, e2e_pgnet_mode='fast', e2e_pgnet_score_thresh=0.5, e2e_pgnet_valid_set='totaltext', enable_mkldnn=False, fourier_degree=5, gpu_mem=500, help='==SUPPRESS==', image_dir=None, image_orientation=False, ir_optim=True, kie_algorithm='LayoutXLM', label_list=['0', '180'], lang='en', layout=True, layout_dict_path=None, layout_model_dir=None, layout_nms_threshold=0.5, layout_score_threshold=0.5, max_batch_size=10, max_text_length=25, merge_no_span_structure=True, min_subgraph_size=15, mode='structure', ocr=True, ocr_order_method=None, ocr_version='PP-OCRv3', output='./output', page_num=0, precision='fp32', process_id=0, re_model_dir=None, rec=True, rec_algorithm='SVTR_LCNet', rec_batch_num=6, rec_char_dict_path='/usr/local/lib/python3.8/dist-packages/paddleocr/ppocr/utils/en_dict.txt', rec_image_inverse=True, rec_image_shape='3, 48, 320', rec_model_dir='/root/.paddleocr/whl/rec/en/en_PP-OCRv3_rec_infer', recovery=False, save_crop_res=False, save_log_path='./log_output/', scales=[8, 16, 32], ser_dict_path='../train_data/XFUND/class_list_xfun.txt', ser_model_dir=None, show_log=True, sr_batch_num=1, sr_image_shape='3, 32, 128', sr_model_dir=None, structure_version='PP-StructureV2', table=True, table_algorithm='TableAttn', table_char_dict_path=None, table_max_len=488, table_model_dir=None, total_process_num=1, type='ocr', use_angle_cls=True, use_dilation=False, use_gpu=False, use_mp=False, use_npu=False, use_onnx=False, use_pdf2docx_api=False, use_pdserving=False, use_space_char=True, use_tensorrt=False, use_visual_backbone=True, use_xpu=False, vis_font_path='./doc/fonts/simfang.ttf', warmup=False)\n",
            "[2023/02/11 15:21:17] ppocr DEBUG: dt_boxes num : 50, elapse : 0.5826206207275391\n",
            "[2023/02/11 15:21:17] ppocr DEBUG: cls num  : 50, elapse : 0.32950544357299805\n",
            "[2023/02/11 15:21:25] ppocr DEBUG: rec_res num  : 50, elapse : 7.873967409133911\n",
            "[2023/02/11 15:21:27] ppocr DEBUG: Namespace(alpha=1.0, benchmark=False, beta=1.0, cls_batch_num=6, cls_image_shape='3, 48, 192', cls_model_dir='/root/.paddleocr/whl/cls/ch_ppocr_mobile_v2.0_cls_infer', cls_thresh=0.9, cpu_threads=10, crop_res_save_dir='./output', det=True, det_algorithm='DB', det_box_type='quad', det_db_box_thresh=0.6, det_db_score_mode='fast', det_db_thresh=0.3, det_db_unclip_ratio=1.5, det_east_cover_thresh=0.1, det_east_nms_thresh=0.2, det_east_score_thresh=0.8, det_limit_side_len=960, det_limit_type='max', det_model_dir='/root/.paddleocr/whl/det/en/en_PP-OCRv3_det_infer', det_pse_box_thresh=0.85, det_pse_min_area=16, det_pse_scale=1, det_pse_thresh=0, det_sast_nms_thresh=0.2, det_sast_score_thresh=0.5, draw_img_save_dir='./inference_results', drop_score=0.5, e2e_algorithm='PGNet', e2e_char_dict_path='./ppocr/utils/ic15_dict.txt', e2e_limit_side_len=768, e2e_limit_type='max', e2e_model_dir=None, e2e_pgnet_mode='fast', e2e_pgnet_score_thresh=0.5, e2e_pgnet_valid_set='totaltext', enable_mkldnn=False, fourier_degree=5, gpu_mem=500, help='==SUPPRESS==', image_dir=None, image_orientation=False, ir_optim=True, kie_algorithm='LayoutXLM', label_list=['0', '180'], lang='en', layout=True, layout_dict_path=None, layout_model_dir=None, layout_nms_threshold=0.5, layout_score_threshold=0.5, max_batch_size=10, max_text_length=25, merge_no_span_structure=True, min_subgraph_size=15, mode='structure', ocr=True, ocr_order_method=None, ocr_version='PP-OCRv3', output='./output', page_num=0, precision='fp32', process_id=0, re_model_dir=None, rec=True, rec_algorithm='SVTR_LCNet', rec_batch_num=6, rec_char_dict_path='/usr/local/lib/python3.8/dist-packages/paddleocr/ppocr/utils/en_dict.txt', rec_image_inverse=True, rec_image_shape='3, 48, 320', rec_model_dir='/root/.paddleocr/whl/rec/en/en_PP-OCRv3_rec_infer', recovery=False, save_crop_res=False, save_log_path='./log_output/', scales=[8, 16, 32], ser_dict_path='../train_data/XFUND/class_list_xfun.txt', ser_model_dir=None, show_log=True, sr_batch_num=1, sr_image_shape='3, 32, 128', sr_model_dir=None, structure_version='PP-StructureV2', table=True, table_algorithm='TableAttn', table_char_dict_path=None, table_max_len=488, table_model_dir=None, total_process_num=1, type='ocr', use_angle_cls=True, use_dilation=False, use_gpu=False, use_mp=False, use_npu=False, use_onnx=False, use_pdf2docx_api=False, use_pdserving=False, use_space_char=True, use_tensorrt=False, use_visual_backbone=True, use_xpu=False, vis_font_path='./doc/fonts/simfang.ttf', warmup=False)\n",
            "[2023/02/11 15:21:29] ppocr DEBUG: dt_boxes num : 53, elapse : 0.8932006359100342\n",
            "[2023/02/11 15:21:29] ppocr DEBUG: cls num  : 53, elapse : 0.7105598449707031\n",
            "[2023/02/11 15:21:39] ppocr DEBUG: rec_res num  : 53, elapse : 10.081824779510498\n",
            "[2023/02/11 15:21:40] ppocr DEBUG: Namespace(alpha=1.0, benchmark=False, beta=1.0, cls_batch_num=6, cls_image_shape='3, 48, 192', cls_model_dir='/root/.paddleocr/whl/cls/ch_ppocr_mobile_v2.0_cls_infer', cls_thresh=0.9, cpu_threads=10, crop_res_save_dir='./output', det=True, det_algorithm='DB', det_box_type='quad', det_db_box_thresh=0.6, det_db_score_mode='fast', det_db_thresh=0.3, det_db_unclip_ratio=1.5, det_east_cover_thresh=0.1, det_east_nms_thresh=0.2, det_east_score_thresh=0.8, det_limit_side_len=960, det_limit_type='max', det_model_dir='/root/.paddleocr/whl/det/en/en_PP-OCRv3_det_infer', det_pse_box_thresh=0.85, det_pse_min_area=16, det_pse_scale=1, det_pse_thresh=0, det_sast_nms_thresh=0.2, det_sast_score_thresh=0.5, draw_img_save_dir='./inference_results', drop_score=0.5, e2e_algorithm='PGNet', e2e_char_dict_path='./ppocr/utils/ic15_dict.txt', e2e_limit_side_len=768, e2e_limit_type='max', e2e_model_dir=None, e2e_pgnet_mode='fast', e2e_pgnet_score_thresh=0.5, e2e_pgnet_valid_set='totaltext', enable_mkldnn=False, fourier_degree=5, gpu_mem=500, help='==SUPPRESS==', image_dir=None, image_orientation=False, ir_optim=True, kie_algorithm='LayoutXLM', label_list=['0', '180'], lang='en', layout=True, layout_dict_path=None, layout_model_dir=None, layout_nms_threshold=0.5, layout_score_threshold=0.5, max_batch_size=10, max_text_length=25, merge_no_span_structure=True, min_subgraph_size=15, mode='structure', ocr=True, ocr_order_method=None, ocr_version='PP-OCRv3', output='./output', page_num=0, precision='fp32', process_id=0, re_model_dir=None, rec=True, rec_algorithm='SVTR_LCNet', rec_batch_num=6, rec_char_dict_path='/usr/local/lib/python3.8/dist-packages/paddleocr/ppocr/utils/en_dict.txt', rec_image_inverse=True, rec_image_shape='3, 48, 320', rec_model_dir='/root/.paddleocr/whl/rec/en/en_PP-OCRv3_rec_infer', recovery=False, save_crop_res=False, save_log_path='./log_output/', scales=[8, 16, 32], ser_dict_path='../train_data/XFUND/class_list_xfun.txt', ser_model_dir=None, show_log=True, sr_batch_num=1, sr_image_shape='3, 32, 128', sr_model_dir=None, structure_version='PP-StructureV2', table=True, table_algorithm='TableAttn', table_char_dict_path=None, table_max_len=488, table_model_dir=None, total_process_num=1, type='ocr', use_angle_cls=True, use_dilation=False, use_gpu=False, use_mp=False, use_npu=False, use_onnx=False, use_pdf2docx_api=False, use_pdserving=False, use_space_char=True, use_tensorrt=False, use_visual_backbone=True, use_xpu=False, vis_font_path='./doc/fonts/simfang.ttf', warmup=False)\n",
            "[2023/02/11 15:21:41] ppocr DEBUG: dt_boxes num : 26, elapse : 0.6109113693237305\n",
            "[2023/02/11 15:21:42] ppocr DEBUG: cls num  : 26, elapse : 0.33397364616394043\n",
            "[2023/02/11 15:21:48] ppocr DEBUG: rec_res num  : 26, elapse : 6.252658367156982\n"
          ]
        }
      ],
      "source": [
        "for img_link in test:\n",
        "  resp = urllib.request.urlopen(img_link)\n",
        "  image = np.asarray(bytearray(resp.read()), dtype=\"uint8\")\n",
        "  image = cv2.imdecode(image, cv2.IMREAD_COLOR)\n",
        "  preprocessed_image = img_processing(image)\n",
        "  Texties['link'].append(img_link)\n",
        "  Texties['text'].append(takeText(preprocessed_image))"
      ]
    },
    {
      "cell_type": "code",
      "execution_count": null,
      "metadata": {
        "colab": {
          "base_uri": "https://localhost:8080/"
        },
        "id": "eQL04sbZEZwa",
        "outputId": "178e93e6-8ae3-432a-d332-62f57b5fc003"
      },
      "outputs": [
        {
          "data": {
            "text/plain": [
              "{'link': ['https://www.netmeds.com/images/product-v1/600x600/889489/zit_20mg_capsule_10s_1_0.jpg',\n",
              "  'https://www.netmeds.com/images/product-v1/600x600/889489/zit_20mg_capsule_10s_1_0.jpg',\n",
              "  'https://www.netmeds.com/images/product-v1/600x600/923462/zitlite_20_capsule_10s_1_0.jpg',\n",
              "  'https://www.netmeds.com/images/product-v1/600x600/854029/zitblow_20mg_capsule_10s_4_0.jpg',\n",
              "  'https://www.netmeds.com/images/product-v1/600x600/854029/zitblow_20mg_capsule_10s_1_0.jpg',\n",
              "  'https://www.netmeds.com/images/product-v1/600x600/344589/tretiva_40mg_capsule_10s_1_0.jpg'],\n",
              " 'text': ['Composition: WarninoThe dru should bo sold by retall on Each solt gelatin capsule contains the Prescniodon ot Dermatoloaists Omy Isotretinoin (MicronizedUSP20 mg Excipients q.s. MgNoMNB/201108MB/20/1109 DosageAs a directed by the Physician Botch No.O021 Storage:Store in a cool,dry & dark place g Date.2021 Storage above 25C & 40% RH may give undesirableresult. Exp.DtFE2023 WARNING TO FEMALE PATIENTS MRPRs. Thi Medicie may caue evero bth lecsYo Fow toSg Capl ci f Ts t not tako s meocine i you ave resoot e may kybcome oregoant aning treateeot. Yo odto avold pregcy lor &mt  sogping  trt Avoid Pregnncy Mg.byCapsoft Healthcare PvLtd Shod No.6.Khasra No.760-761.Khalsa Complex Vage KarunaSai RoadBaddi Solan-17320S H.P Do Notdonate blood during and one month alter treatment with thes druo Keepallmedicinesout olreach oi children. SCHEDULE H PRESCRIPTION DRUG Meted bys CAUTIONNot to be sold by retail ADONIS PHYTOCEUTICALS PVT.LTD PtNo1281st Road.CD.MangMumbai00052 without the prescription of a Registered COULCI439.GeFMeUAEDb Medical Practitioner EmalID.odoohyto.com ComY Care No0111328370',\n",
              "  \"Each soft golatin capsule contains Isotretinoin IP 20mg Do not donate blood during and one Excipients q.s. month after treatment with this drug ColoursTartrazine.Ponceau4R& Mfg.Lic.No.:51/UA/SC/P-2013 Titanium Dioxide IP (Methyiparaben IP&Propylparaben IP The drug should be sold by retall on the usedas preservatives.) prescription of Dermatologist only. Dosage :As directed by the Dermatologist Manufactured by: Storage: Pure &Cure Healthcare Pvt.Ltd Store protected from light&molsture. (Asubsldiary of ata temperaturo not exceeding 25'C Akums Drues&Pharmaceuticals Ltd.) Keep all medicines out of reach of children Plot No.26A.27-30.Sector-8A.I.I.E. SIDCUL.Haridwar-249403.Uttarakhand NOTDURINGPREGNANCY Marketedby: SCHEDULEHPRESCRIPTION DRUG-CAUTION Not to be sold by relail without the prescription ofa Registered Medical Practitionor DERMACURE This medicine may cause severe birth defects you must not take this medicine if you are pregnant or may kely become PHARMACEUTICALSPVTLTD preonant dunng treatment E-309.CrystalPlaza.3rdFloor You should also avoid pregnancy tor 6 months after stopping the treatment Andheriwest.mumbai-400053\",\n",
              "  \"Isotretinoin Capsules IP 20 mg ZITBLOW 20 R ZITBLOW'20 SCHEOULEHRRESO ORUGOAUTION Not to besoldByretaiWthout the Micronized CAPSULES proscniptionofaRegiatered Medical Practitionep? foreat-20 Each soft gelatin capsule contains: WARNING FOR FEMALE PATIENTS This modane may cauce evero blth Isotretinoin IP 20 mg eloc.You nuat t take tis medidne Approved colours used in capsule shell. M you are pnegnant or mey ay bocome (Feric Oxide Red USP-NF &Titanium pregnant during trealment You shood oodnncy  mts Dioxide IP) toppngtheUeaoment Storage:Store in a dry place at a Warning-The drug should be sold temperature not excoeding 30'C. by retail on the proscription of Protect from light. Dermatologists only Dosage:As directed by the Physician Marketed by: 3D Keep out of reach of children. foTct-20 MfgLic.No.:137 Mankindillk Manufactured in india by: Division of Mankind Pharma Ltd. MDA1TFOIYIY878000 208.Okhla Industrial Estate-3 Softesule Pvt.Lta. New Delhi-110020 Plot No.86/A.L.B.S.Marg.Nr.Nirmal Registerod Trade Mark Lifestyle.Mulunc W).Mumbai-400080 TMowners Lifestar Pharma Pvt.Lto ZITBLOW 20 fercaatt-20\",\n",
              "  \"Composition: WARNING FOR FEMALE PATIENTS Each soft gelatin capsule contains This medicine may cause severe birth IsotretinoinIP 20 mg defects.You must not take this medicine if you are pregnant or may likely become Approved colours used in capsule shell pregnant during treatment. You should (Ferric Oxide Red USP-NF & Titanium also avoid pregnancy for 6 months after DioxideIP) stopping the treatment. Storage : Mfg Lic.No.:137 Store in a dry place at a temperature Batch No.: not exceeding 30'C.Protect from light DosageAs directed by the Physician Mfg.Date: 3gfaf SCHEDULEHPRESCRIPTION Expiry Date: DRUG-CAUTION Huif fafa Not to be sold by retail without the M.R.P.R: prescription of a Registered Medica per stripof10Capsules MDA1TCAIYIY877900 Practitioner (Inclusive of all taxes) Keep out of reach of children For more information,refer package insert. Marketed by: Warning-The drug should be sold by retail 3D on the prescription of Dermatologists oniy. Mankindlll 8904103318814 Manufactured in India by: Division of Mankind Phama Ltd Softesule Pvt.Ltd. 208.Okhla Industrial Estate-3 New Delhi-110020 Plot No.86/A.L.B.S.Marg.Nr.Nirmal @-Registered Trade Mark Lifestyle,Mulund(W).Mumbai-400080 TM owners Lifestar Pharma Pvt.Ltd\",\n",
              "  'Each soft gelatin capsute contains: MIg.Lic.No.:UD289 IsotretinoinIP .40 mg Batch No.: Excipients q.s Mfg.Date Approved colours used in capsule shell Dose:As directed by the Physician Exp.Date: Store below 25C.Protect from light. Maximum Retail PriceZ: Keep medicine out of reach of children Per strip of 10 capsules Please carefully read the patient information leaflet (Inclusive of all taxes) provided inside the pack Manufactured by.Olive Healthctre 197/2.Athiyawad.Dabhol Villaoe.Nani Daman(U.T. Daman-396210 Marketed by INTAS PHARMACEUTICALSLTD, Matoda-382210.DistAhmodabad.INDIA INTAS']}"
            ]
          },
          "execution_count": 41,
          "metadata": {},
          "output_type": "execute_result"
        }
      ],
      "source": [
        "Texties"
      ]
    },
    {
      "cell_type": "code",
      "execution_count": null,
      "metadata": {
        "id": "s3RYmC2WFEao"
      },
      "outputs": [],
      "source": [
        "doc=nlp_ner(\"Each film coated tablet contains you must not take this medicine if you are preonant or may likely become pregnant during treatment. Isotretinoin IP (micronized 10 mg Excipients q.s. anixa Colour:Ponceau 4R Lake Dosage: LifoScionces As directed by the Physician A WHO GMP Certified Company Storage:Store below 25C Manufactured by Protect from sunlight and moisture Canixa Life Sciences Pvt.Ltd KEEP OUT OF REACH OF CHILDREN K.No.313.Raipur Industrial Area.Bhagwanpur See pack insert before use Roorkee,Dist. Haridwar.Uarakhand-247667 Email:info@canixalife.com Mfg.Lic.No.:3/UA/SC/P-2016 TM-Trademark Under RegistraSon Saferet-10 Saferet-10 Saferet-10 sotretinin (micronied)Tablets 10mg A Saferet-10 TM SCHEOULE H PRESCRIPTION DRUG-CAUTION Not to be sold by retail without the prescription of a egitered Medical Practitioner 14-10 WARNING TO FEMALE PATIENTS Composition : This medicine may cause severe birth dedects you must not take this medicine if y ou are pregnant Each film coated tablet contains or may likely become pregnant during treatmant Isotretinoin IP (micronized10 mg Excipients q.s. anixa ColourPonceau 4R Lake Dosage: Lile Scioncos As directed by the Physician (A WHO GMP Certified Company) Storage:Store below 25C Manufactured by: Drntant trom cunlinht and mnichara Canixa Life Sciences Pvt.Ltd\")"
      ]
    },
    {
      "cell_type": "code",
      "execution_count": null,
      "metadata": {
        "colab": {
          "base_uri": "https://localhost:8080/",
          "height": 262
        },
        "id": "x3rgYzIQEsGy",
        "outputId": "4c3fd4b6-5077-4c25-b759-a88c8bd4ca84"
      },
      "outputs": [
        {
          "data": {
            "text/html": [
              "<span class=\"tex2jax_ignore\"><div class=\"entities\" style=\"line-height: 2.5; direction: ltr\">Each film coated tablet contains you must not take this medicine if you are preonant or may likely become pregnant during treatment. \n",
              "<mark class=\"entity\" style=\"background: #F67DE3; padding: 0.45em 0.6em; margin: 0 0.25em; line-height: 1; border-radius: 0.35em;\">\n",
              "    Isotretinoin IP\n",
              "    <span style=\"font-size: 0.8em; font-weight: bold; line-height: 1; border-radius: 0.35em; vertical-align: middle; margin-left: 0.5rem\">COMPONENT</span>\n",
              "</mark>\n",
              " (micronized 10 mg \n",
              "<mark class=\"entity\" style=\"background: #F67DE3; padding: 0.45em 0.6em; margin: 0 0.25em; line-height: 1; border-radius: 0.35em;\">\n",
              "    Excipients\n",
              "    <span style=\"font-size: 0.8em; font-weight: bold; line-height: 1; border-radius: 0.35em; vertical-align: middle; margin-left: 0.5rem\">COMPONENT</span>\n",
              "</mark>\n",
              " q.s. anixa Colour:Ponceau 4R Lake Dosage: LifoScionces As directed by the Physician A WHO GMP Certified Company Storage:Store below 25C Manufactured by Protect from sunlight and moisture Canixa Life Sciences Pvt.Ltd KEEP OUT OF REACH OF CHILDREN K.No.313.Raipur Industrial Area.Bhagwanpur See pack insert before use Roorkee,Dist. Haridwar.Uarakhand-247667 Email:info@canixalife.com Mfg.Lic.No.:3/UA/SC/P-2016 TM-Trademark Under RegistraSon Saferet-10 Saferet-10 Saferet-10 sotretinin (micronied)Tablets 10mg A Saferet-10 TM SCHEOULE H PRESCRIPTION DRUG-CAUTION Not to be sold by retail without the prescription of a egitered Medical Practitioner 14-10 WARNING TO FEMALE PATIENTS Composition : This medicine may cause severe birth dedects you must not take this medicine if y ou are pregnant Each film coated tablet contains or may likely become pregnant during treatmant Isotretinoin IP (\n",
              "<mark class=\"entity\" style=\"background: #F67DE3; padding: 0.45em 0.6em; margin: 0 0.25em; line-height: 1; border-radius: 0.35em;\">\n",
              "    micronized10 mg\n",
              "    <span style=\"font-size: 0.8em; font-weight: bold; line-height: 1; border-radius: 0.35em; vertical-align: middle; margin-left: 0.5rem\">COMPONENT</span>\n",
              "</mark>\n",
              " \n",
              "<mark class=\"entity\" style=\"background: #F67DE3; padding: 0.45em 0.6em; margin: 0 0.25em; line-height: 1; border-radius: 0.35em;\">\n",
              "    Excipients\n",
              "    <span style=\"font-size: 0.8em; font-weight: bold; line-height: 1; border-radius: 0.35em; vertical-align: middle; margin-left: 0.5rem\">COMPONENT</span>\n",
              "</mark>\n",
              " q.s. anixa ColourPonceau 4R Lake Dosage: Lile Scioncos As directed by the Physician (A WHO GMP Certified Company) Storage:Store below 25C Manufactured by: Drntant trom cunlinht and mnichara Canixa Life Sciences Pvt.Ltd</div></span>"
            ],
            "text/plain": [
              "<IPython.core.display.HTML object>"
            ]
          },
          "metadata": {},
          "output_type": "display_data"
        }
      ],
      "source": [
        "colors = {\"COMPONENT\": \"#F67DE3\", \"NAME\": \"#7DF6D9\", \"MANUFACTURER\":\"#FFFFFF\"}\n",
        "options = {\"colors\": colors} \n",
        "\n",
        "spacy.displacy.render(doc, style=\"ent\", options= options, jupyter=True)"
      ]
    }
  ],
  "metadata": {
    "colab": {
      "provenance": [],
      "mount_file_id": "1Tl8_c1ubJgWi_rMeEgyfNwxLsUQDecbO",
      "authorship_tag": "ABX9TyPFMSOiv2aeMwg3lm+tBg5v",
      "include_colab_link": true
    },
    "kernelspec": {
      "display_name": "Python 3",
      "name": "python3"
    },
    "language_info": {
      "name": "python"
    }
  },
  "nbformat": 4,
  "nbformat_minor": 0
}