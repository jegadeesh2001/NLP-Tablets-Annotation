{
  "nbformat": 4,
  "nbformat_minor": 0,
  "metadata": {
    "colab": {
      "provenance": []
    },
    "kernelspec": {
      "name": "python3",
      "display_name": "Python 3"
    },
    "language_info": {
      "name": "python"
    }
  },
  "cells": [
    {
      "cell_type": "code",
      "source": [
        "import pandas as pd\n",
        "import nltk\n",
        "nltk.download('punkt')\n",
        "nltk.download('stopwords')\n",
        "\n",
        "from nltk.corpus import stopwords\n",
        "from nltk.tokenize import word_tokenize"
      ],
      "metadata": {
        "id": "CFA4Xh_PZqTe",
        "colab": {
          "base_uri": "https://localhost:8080/"
        },
        "outputId": "c2012bf5-b09d-4cd6-b2ea-f61c6f13c25f"
      },
      "execution_count": 42,
      "outputs": [
        {
          "output_type": "stream",
          "name": "stderr",
          "text": [
            "[nltk_data] Downloading package punkt to /root/nltk_data...\n",
            "[nltk_data]   Package punkt is already up-to-date!\n",
            "[nltk_data] Downloading package stopwords to /root/nltk_data...\n",
            "[nltk_data]   Unzipping corpora/stopwords.zip.\n"
          ]
        }
      ]
    },
    {
      "cell_type": "code",
      "source": [
        "df = pd.read_csv('/content/drive/MyDrive/NLP DATA/liver_text_data.csv')\n",
        "df.head()"
      ],
      "metadata": {
        "colab": {
          "base_uri": "https://localhost:8080/",
          "height": 206
        },
        "id": "YLdt_mkeZmBF",
        "outputId": "49f3e1df-7453-48fa-825e-1a08298d7e96"
      },
      "execution_count": 57,
      "outputs": [
        {
          "output_type": "execute_result",
          "data": {
            "text/plain": [
              "   Unnamed: 0                                               link  \\\n",
              "0           0  https://www.netmeds.com/images/product-v1/600x...   \n",
              "1           1  https://www.netmeds.com/images/product-v1/600x...   \n",
              "2           2  https://www.netmeds.com/images/product-v1/600x...   \n",
              "3           3  https://www.netmeds.com/images/product-v1/600x...   \n",
              "4           4  https://www.netmeds.com/images/product-v1/600x...   \n",
              "\n",
              "                                                text  \n",
              "0  Ademetionine Tablets 400 mg Adefresh-400 T-400...  \n",
              "1  Composition: MfgLic.No.110/UA/SC/P-2006&110/UA...  \n",
              "2  Marketednce ASCENTRA Di   Ascentra 8/4Frnds Co...  \n",
              "3  SHNOWOE starta R0o Adenomnac 121% Manotactured...  \n",
              "4  Metadoxine Tablets ALCOLIV each uncoataotablet...  "
            ],
            "text/html": [
              "\n",
              "  <div id=\"df-872a8115-1a7e-4355-ad59-1ce28b3d5c58\">\n",
              "    <div class=\"colab-df-container\">\n",
              "      <div>\n",
              "<style scoped>\n",
              "    .dataframe tbody tr th:only-of-type {\n",
              "        vertical-align: middle;\n",
              "    }\n",
              "\n",
              "    .dataframe tbody tr th {\n",
              "        vertical-align: top;\n",
              "    }\n",
              "\n",
              "    .dataframe thead th {\n",
              "        text-align: right;\n",
              "    }\n",
              "</style>\n",
              "<table border=\"1\" class=\"dataframe\">\n",
              "  <thead>\n",
              "    <tr style=\"text-align: right;\">\n",
              "      <th></th>\n",
              "      <th>Unnamed: 0</th>\n",
              "      <th>link</th>\n",
              "      <th>text</th>\n",
              "    </tr>\n",
              "  </thead>\n",
              "  <tbody>\n",
              "    <tr>\n",
              "      <th>0</th>\n",
              "      <td>0</td>\n",
              "      <td>https://www.netmeds.com/images/product-v1/600x...</td>\n",
              "      <td>Ademetionine Tablets 400 mg Adefresh-400 T-400...</td>\n",
              "    </tr>\n",
              "    <tr>\n",
              "      <th>1</th>\n",
              "      <td>1</td>\n",
              "      <td>https://www.netmeds.com/images/product-v1/600x...</td>\n",
              "      <td>Composition: MfgLic.No.110/UA/SC/P-2006&amp;110/UA...</td>\n",
              "    </tr>\n",
              "    <tr>\n",
              "      <th>2</th>\n",
              "      <td>2</td>\n",
              "      <td>https://www.netmeds.com/images/product-v1/600x...</td>\n",
              "      <td>Marketednce ASCENTRA Di   Ascentra 8/4Frnds Co...</td>\n",
              "    </tr>\n",
              "    <tr>\n",
              "      <th>3</th>\n",
              "      <td>3</td>\n",
              "      <td>https://www.netmeds.com/images/product-v1/600x...</td>\n",
              "      <td>SHNOWOE starta R0o Adenomnac 121% Manotactured...</td>\n",
              "    </tr>\n",
              "    <tr>\n",
              "      <th>4</th>\n",
              "      <td>4</td>\n",
              "      <td>https://www.netmeds.com/images/product-v1/600x...</td>\n",
              "      <td>Metadoxine Tablets ALCOLIV each uncoataotablet...</td>\n",
              "    </tr>\n",
              "  </tbody>\n",
              "</table>\n",
              "</div>\n",
              "      <button class=\"colab-df-convert\" onclick=\"convertToInteractive('df-872a8115-1a7e-4355-ad59-1ce28b3d5c58')\"\n",
              "              title=\"Convert this dataframe to an interactive table.\"\n",
              "              style=\"display:none;\">\n",
              "        \n",
              "  <svg xmlns=\"http://www.w3.org/2000/svg\" height=\"24px\"viewBox=\"0 0 24 24\"\n",
              "       width=\"24px\">\n",
              "    <path d=\"M0 0h24v24H0V0z\" fill=\"none\"/>\n",
              "    <path d=\"M18.56 5.44l.94 2.06.94-2.06 2.06-.94-2.06-.94-.94-2.06-.94 2.06-2.06.94zm-11 1L8.5 8.5l.94-2.06 2.06-.94-2.06-.94L8.5 2.5l-.94 2.06-2.06.94zm10 10l.94 2.06.94-2.06 2.06-.94-2.06-.94-.94-2.06-.94 2.06-2.06.94z\"/><path d=\"M17.41 7.96l-1.37-1.37c-.4-.4-.92-.59-1.43-.59-.52 0-1.04.2-1.43.59L10.3 9.45l-7.72 7.72c-.78.78-.78 2.05 0 2.83L4 21.41c.39.39.9.59 1.41.59.51 0 1.02-.2 1.41-.59l7.78-7.78 2.81-2.81c.8-.78.8-2.07 0-2.86zM5.41 20L4 18.59l7.72-7.72 1.47 1.35L5.41 20z\"/>\n",
              "  </svg>\n",
              "      </button>\n",
              "      \n",
              "  <style>\n",
              "    .colab-df-container {\n",
              "      display:flex;\n",
              "      flex-wrap:wrap;\n",
              "      gap: 12px;\n",
              "    }\n",
              "\n",
              "    .colab-df-convert {\n",
              "      background-color: #E8F0FE;\n",
              "      border: none;\n",
              "      border-radius: 50%;\n",
              "      cursor: pointer;\n",
              "      display: none;\n",
              "      fill: #1967D2;\n",
              "      height: 32px;\n",
              "      padding: 0 0 0 0;\n",
              "      width: 32px;\n",
              "    }\n",
              "\n",
              "    .colab-df-convert:hover {\n",
              "      background-color: #E2EBFA;\n",
              "      box-shadow: 0px 1px 2px rgba(60, 64, 67, 0.3), 0px 1px 3px 1px rgba(60, 64, 67, 0.15);\n",
              "      fill: #174EA6;\n",
              "    }\n",
              "\n",
              "    [theme=dark] .colab-df-convert {\n",
              "      background-color: #3B4455;\n",
              "      fill: #D2E3FC;\n",
              "    }\n",
              "\n",
              "    [theme=dark] .colab-df-convert:hover {\n",
              "      background-color: #434B5C;\n",
              "      box-shadow: 0px 1px 3px 1px rgba(0, 0, 0, 0.15);\n",
              "      filter: drop-shadow(0px 1px 2px rgba(0, 0, 0, 0.3));\n",
              "      fill: #FFFFFF;\n",
              "    }\n",
              "  </style>\n",
              "\n",
              "      <script>\n",
              "        const buttonEl =\n",
              "          document.querySelector('#df-872a8115-1a7e-4355-ad59-1ce28b3d5c58 button.colab-df-convert');\n",
              "        buttonEl.style.display =\n",
              "          google.colab.kernel.accessAllowed ? 'block' : 'none';\n",
              "\n",
              "        async function convertToInteractive(key) {\n",
              "          const element = document.querySelector('#df-872a8115-1a7e-4355-ad59-1ce28b3d5c58');\n",
              "          const dataTable =\n",
              "            await google.colab.kernel.invokeFunction('convertToInteractive',\n",
              "                                                     [key], {});\n",
              "          if (!dataTable) return;\n",
              "\n",
              "          const docLinkHtml = 'Like what you see? Visit the ' +\n",
              "            '<a target=\"_blank\" href=https://colab.research.google.com/notebooks/data_table.ipynb>data table notebook</a>'\n",
              "            + ' to learn more about interactive tables.';\n",
              "          element.innerHTML = '';\n",
              "          dataTable['output_type'] = 'display_data';\n",
              "          await google.colab.output.renderOutput(dataTable, element);\n",
              "          const docLink = document.createElement('div');\n",
              "          docLink.innerHTML = docLinkHtml;\n",
              "          element.appendChild(docLink);\n",
              "        }\n",
              "      </script>\n",
              "    </div>\n",
              "  </div>\n",
              "  "
            ]
          },
          "metadata": {},
          "execution_count": 57
        }
      ]
    },
    {
      "cell_type": "code",
      "source": [
        "df.info()"
      ],
      "metadata": {
        "colab": {
          "base_uri": "https://localhost:8080/"
        },
        "id": "92ylYf-LZ3Sf",
        "outputId": "2b218b18-bb09-4005-829b-eec4ca958244"
      },
      "execution_count": 58,
      "outputs": [
        {
          "output_type": "stream",
          "name": "stdout",
          "text": [
            "<class 'pandas.core.frame.DataFrame'>\n",
            "RangeIndex: 91 entries, 0 to 90\n",
            "Data columns (total 3 columns):\n",
            " #   Column      Non-Null Count  Dtype \n",
            "---  ------      --------------  ----- \n",
            " 0   Unnamed: 0  91 non-null     int64 \n",
            " 1   link        91 non-null     object\n",
            " 2   text        91 non-null     object\n",
            "dtypes: int64(1), object(2)\n",
            "memory usage: 2.3+ KB\n"
          ]
        }
      ]
    },
    {
      "cell_type": "code",
      "source": [
        "df.drop(columns=['Unnamed: 0'],inplace=True)"
      ],
      "metadata": {
        "id": "ggNXFuM5Z6py"
      },
      "execution_count": 59,
      "outputs": []
    },
    {
      "cell_type": "code",
      "source": [
        "# Define a function to perform NLP preprocessing on a sentence\n",
        "def preprocess(sentence):\n",
        "    # Tokenize the sentence\n",
        "    tokens = word_tokenize(sentence)\n",
        "    \n",
        "    # Convert all tokens to lowercase\n",
        "    tokens = [token.lower() for token in tokens]\n",
        "    \n",
        "    # Remove stop words\n",
        "    stop_words = set(stopwords.words('english'))\n",
        "    tokens = [token for token in tokens if token not in stop_words]\n",
        "    \n",
        "    # Join the tokens back into a sentence\n",
        "    preprocessed_sentence = ' '.join(tokens)\n",
        "    \n",
        "    return preprocessed_sentence\n",
        "\n",
        "# Apply the preprocessing function to each sentence in the data frame\n",
        "df['preprocessed_text'] = df['text'].apply(preprocess)\n",
        "\n",
        "# Show the first 5 rows of the data frame\n",
        "df.head()\n"
      ],
      "metadata": {
        "colab": {
          "base_uri": "https://localhost:8080/",
          "height": 206
        },
        "id": "JWlBPJm8877c",
        "outputId": "d952cf24-ec6b-48d4-c693-d0daa13bb373"
      },
      "execution_count": 60,
      "outputs": [
        {
          "output_type": "execute_result",
          "data": {
            "text/plain": [
              "                                                link  \\\n",
              "0  https://www.netmeds.com/images/product-v1/600x...   \n",
              "1  https://www.netmeds.com/images/product-v1/600x...   \n",
              "2  https://www.netmeds.com/images/product-v1/600x...   \n",
              "3  https://www.netmeds.com/images/product-v1/600x...   \n",
              "4  https://www.netmeds.com/images/product-v1/600x...   \n",
              "\n",
              "                                                text  \\\n",
              "0  Ademetionine Tablets 400 mg Adefresh-400 T-400...   \n",
              "1  Composition: MfgLic.No.110/UA/SC/P-2006&110/UA...   \n",
              "2  Marketednce ASCENTRA Di   Ascentra 8/4Frnds Co...   \n",
              "3  SHNOWOE starta R0o Adenomnac 121% Manotactured...   \n",
              "4  Metadoxine Tablets ALCOLIV each uncoataotablet...   \n",
              "\n",
              "                                   preprocessed_text  \n",
              "0  ademetionine tablets 400 mg adefresh-400 t-400...  \n",
              "1  composition : mfglic.no.110/ua/sc/p-2006 & 110...  \n",
              "2  marketednce ascentra di ascentra 8/4frnds coln...  \n",
              "3  shnowoe starta r0o adenomnac 121 % manotacture...  \n",
              "4  metadoxine tablets alcoliv uncoataotablet cont...  "
            ],
            "text/html": [
              "\n",
              "  <div id=\"df-2343e88d-b128-47cd-9956-50fbac480044\">\n",
              "    <div class=\"colab-df-container\">\n",
              "      <div>\n",
              "<style scoped>\n",
              "    .dataframe tbody tr th:only-of-type {\n",
              "        vertical-align: middle;\n",
              "    }\n",
              "\n",
              "    .dataframe tbody tr th {\n",
              "        vertical-align: top;\n",
              "    }\n",
              "\n",
              "    .dataframe thead th {\n",
              "        text-align: right;\n",
              "    }\n",
              "</style>\n",
              "<table border=\"1\" class=\"dataframe\">\n",
              "  <thead>\n",
              "    <tr style=\"text-align: right;\">\n",
              "      <th></th>\n",
              "      <th>link</th>\n",
              "      <th>text</th>\n",
              "      <th>preprocessed_text</th>\n",
              "    </tr>\n",
              "  </thead>\n",
              "  <tbody>\n",
              "    <tr>\n",
              "      <th>0</th>\n",
              "      <td>https://www.netmeds.com/images/product-v1/600x...</td>\n",
              "      <td>Ademetionine Tablets 400 mg Adefresh-400 T-400...</td>\n",
              "      <td>ademetionine tablets 400 mg adefresh-400 t-400...</td>\n",
              "    </tr>\n",
              "    <tr>\n",
              "      <th>1</th>\n",
              "      <td>https://www.netmeds.com/images/product-v1/600x...</td>\n",
              "      <td>Composition: MfgLic.No.110/UA/SC/P-2006&amp;110/UA...</td>\n",
              "      <td>composition : mfglic.no.110/ua/sc/p-2006 &amp; 110...</td>\n",
              "    </tr>\n",
              "    <tr>\n",
              "      <th>2</th>\n",
              "      <td>https://www.netmeds.com/images/product-v1/600x...</td>\n",
              "      <td>Marketednce ASCENTRA Di   Ascentra 8/4Frnds Co...</td>\n",
              "      <td>marketednce ascentra di ascentra 8/4frnds coln...</td>\n",
              "    </tr>\n",
              "    <tr>\n",
              "      <th>3</th>\n",
              "      <td>https://www.netmeds.com/images/product-v1/600x...</td>\n",
              "      <td>SHNOWOE starta R0o Adenomnac 121% Manotactured...</td>\n",
              "      <td>shnowoe starta r0o adenomnac 121 % manotacture...</td>\n",
              "    </tr>\n",
              "    <tr>\n",
              "      <th>4</th>\n",
              "      <td>https://www.netmeds.com/images/product-v1/600x...</td>\n",
              "      <td>Metadoxine Tablets ALCOLIV each uncoataotablet...</td>\n",
              "      <td>metadoxine tablets alcoliv uncoataotablet cont...</td>\n",
              "    </tr>\n",
              "  </tbody>\n",
              "</table>\n",
              "</div>\n",
              "      <button class=\"colab-df-convert\" onclick=\"convertToInteractive('df-2343e88d-b128-47cd-9956-50fbac480044')\"\n",
              "              title=\"Convert this dataframe to an interactive table.\"\n",
              "              style=\"display:none;\">\n",
              "        \n",
              "  <svg xmlns=\"http://www.w3.org/2000/svg\" height=\"24px\"viewBox=\"0 0 24 24\"\n",
              "       width=\"24px\">\n",
              "    <path d=\"M0 0h24v24H0V0z\" fill=\"none\"/>\n",
              "    <path d=\"M18.56 5.44l.94 2.06.94-2.06 2.06-.94-2.06-.94-.94-2.06-.94 2.06-2.06.94zm-11 1L8.5 8.5l.94-2.06 2.06-.94-2.06-.94L8.5 2.5l-.94 2.06-2.06.94zm10 10l.94 2.06.94-2.06 2.06-.94-2.06-.94-.94-2.06-.94 2.06-2.06.94z\"/><path d=\"M17.41 7.96l-1.37-1.37c-.4-.4-.92-.59-1.43-.59-.52 0-1.04.2-1.43.59L10.3 9.45l-7.72 7.72c-.78.78-.78 2.05 0 2.83L4 21.41c.39.39.9.59 1.41.59.51 0 1.02-.2 1.41-.59l7.78-7.78 2.81-2.81c.8-.78.8-2.07 0-2.86zM5.41 20L4 18.59l7.72-7.72 1.47 1.35L5.41 20z\"/>\n",
              "  </svg>\n",
              "      </button>\n",
              "      \n",
              "  <style>\n",
              "    .colab-df-container {\n",
              "      display:flex;\n",
              "      flex-wrap:wrap;\n",
              "      gap: 12px;\n",
              "    }\n",
              "\n",
              "    .colab-df-convert {\n",
              "      background-color: #E8F0FE;\n",
              "      border: none;\n",
              "      border-radius: 50%;\n",
              "      cursor: pointer;\n",
              "      display: none;\n",
              "      fill: #1967D2;\n",
              "      height: 32px;\n",
              "      padding: 0 0 0 0;\n",
              "      width: 32px;\n",
              "    }\n",
              "\n",
              "    .colab-df-convert:hover {\n",
              "      background-color: #E2EBFA;\n",
              "      box-shadow: 0px 1px 2px rgba(60, 64, 67, 0.3), 0px 1px 3px 1px rgba(60, 64, 67, 0.15);\n",
              "      fill: #174EA6;\n",
              "    }\n",
              "\n",
              "    [theme=dark] .colab-df-convert {\n",
              "      background-color: #3B4455;\n",
              "      fill: #D2E3FC;\n",
              "    }\n",
              "\n",
              "    [theme=dark] .colab-df-convert:hover {\n",
              "      background-color: #434B5C;\n",
              "      box-shadow: 0px 1px 3px 1px rgba(0, 0, 0, 0.15);\n",
              "      filter: drop-shadow(0px 1px 2px rgba(0, 0, 0, 0.3));\n",
              "      fill: #FFFFFF;\n",
              "    }\n",
              "  </style>\n",
              "\n",
              "      <script>\n",
              "        const buttonEl =\n",
              "          document.querySelector('#df-2343e88d-b128-47cd-9956-50fbac480044 button.colab-df-convert');\n",
              "        buttonEl.style.display =\n",
              "          google.colab.kernel.accessAllowed ? 'block' : 'none';\n",
              "\n",
              "        async function convertToInteractive(key) {\n",
              "          const element = document.querySelector('#df-2343e88d-b128-47cd-9956-50fbac480044');\n",
              "          const dataTable =\n",
              "            await google.colab.kernel.invokeFunction('convertToInteractive',\n",
              "                                                     [key], {});\n",
              "          if (!dataTable) return;\n",
              "\n",
              "          const docLinkHtml = 'Like what you see? Visit the ' +\n",
              "            '<a target=\"_blank\" href=https://colab.research.google.com/notebooks/data_table.ipynb>data table notebook</a>'\n",
              "            + ' to learn more about interactive tables.';\n",
              "          element.innerHTML = '';\n",
              "          dataTable['output_type'] = 'display_data';\n",
              "          await google.colab.output.renderOutput(dataTable, element);\n",
              "          const docLink = document.createElement('div');\n",
              "          docLink.innerHTML = docLinkHtml;\n",
              "          element.appendChild(docLink);\n",
              "        }\n",
              "      </script>\n",
              "    </div>\n",
              "  </div>\n",
              "  "
            ]
          },
          "metadata": {},
          "execution_count": 60
        }
      ]
    },
    {
      "cell_type": "code",
      "source": [
        "sample_df = df.iloc[0:5 , ]\n",
        "sample_df"
      ],
      "metadata": {
        "colab": {
          "base_uri": "https://localhost:8080/",
          "height": 206
        },
        "id": "bTa0BDfRBI0B",
        "outputId": "00c5d27d-8f0b-4ac9-c0f5-d8d1dcf511ff"
      },
      "execution_count": 61,
      "outputs": [
        {
          "output_type": "execute_result",
          "data": {
            "text/plain": [
              "                                                link  \\\n",
              "0  https://www.netmeds.com/images/product-v1/600x...   \n",
              "1  https://www.netmeds.com/images/product-v1/600x...   \n",
              "2  https://www.netmeds.com/images/product-v1/600x...   \n",
              "3  https://www.netmeds.com/images/product-v1/600x...   \n",
              "4  https://www.netmeds.com/images/product-v1/600x...   \n",
              "\n",
              "                                                text  \\\n",
              "0  Ademetionine Tablets 400 mg Adefresh-400 T-400...   \n",
              "1  Composition: MfgLic.No.110/UA/SC/P-2006&110/UA...   \n",
              "2  Marketednce ASCENTRA Di   Ascentra 8/4Frnds Co...   \n",
              "3  SHNOWOE starta R0o Adenomnac 121% Manotactured...   \n",
              "4  Metadoxine Tablets ALCOLIV each uncoataotablet...   \n",
              "\n",
              "                                   preprocessed_text  \n",
              "0  ademetionine tablets 400 mg adefresh-400 t-400...  \n",
              "1  composition : mfglic.no.110/ua/sc/p-2006 & 110...  \n",
              "2  marketednce ascentra di ascentra 8/4frnds coln...  \n",
              "3  shnowoe starta r0o adenomnac 121 % manotacture...  \n",
              "4  metadoxine tablets alcoliv uncoataotablet cont...  "
            ],
            "text/html": [
              "\n",
              "  <div id=\"df-c3ce2470-a9ba-44e9-b15e-1e7aa50a9571\">\n",
              "    <div class=\"colab-df-container\">\n",
              "      <div>\n",
              "<style scoped>\n",
              "    .dataframe tbody tr th:only-of-type {\n",
              "        vertical-align: middle;\n",
              "    }\n",
              "\n",
              "    .dataframe tbody tr th {\n",
              "        vertical-align: top;\n",
              "    }\n",
              "\n",
              "    .dataframe thead th {\n",
              "        text-align: right;\n",
              "    }\n",
              "</style>\n",
              "<table border=\"1\" class=\"dataframe\">\n",
              "  <thead>\n",
              "    <tr style=\"text-align: right;\">\n",
              "      <th></th>\n",
              "      <th>link</th>\n",
              "      <th>text</th>\n",
              "      <th>preprocessed_text</th>\n",
              "    </tr>\n",
              "  </thead>\n",
              "  <tbody>\n",
              "    <tr>\n",
              "      <th>0</th>\n",
              "      <td>https://www.netmeds.com/images/product-v1/600x...</td>\n",
              "      <td>Ademetionine Tablets 400 mg Adefresh-400 T-400...</td>\n",
              "      <td>ademetionine tablets 400 mg adefresh-400 t-400...</td>\n",
              "    </tr>\n",
              "    <tr>\n",
              "      <th>1</th>\n",
              "      <td>https://www.netmeds.com/images/product-v1/600x...</td>\n",
              "      <td>Composition: MfgLic.No.110/UA/SC/P-2006&amp;110/UA...</td>\n",
              "      <td>composition : mfglic.no.110/ua/sc/p-2006 &amp; 110...</td>\n",
              "    </tr>\n",
              "    <tr>\n",
              "      <th>2</th>\n",
              "      <td>https://www.netmeds.com/images/product-v1/600x...</td>\n",
              "      <td>Marketednce ASCENTRA Di   Ascentra 8/4Frnds Co...</td>\n",
              "      <td>marketednce ascentra di ascentra 8/4frnds coln...</td>\n",
              "    </tr>\n",
              "    <tr>\n",
              "      <th>3</th>\n",
              "      <td>https://www.netmeds.com/images/product-v1/600x...</td>\n",
              "      <td>SHNOWOE starta R0o Adenomnac 121% Manotactured...</td>\n",
              "      <td>shnowoe starta r0o adenomnac 121 % manotacture...</td>\n",
              "    </tr>\n",
              "    <tr>\n",
              "      <th>4</th>\n",
              "      <td>https://www.netmeds.com/images/product-v1/600x...</td>\n",
              "      <td>Metadoxine Tablets ALCOLIV each uncoataotablet...</td>\n",
              "      <td>metadoxine tablets alcoliv uncoataotablet cont...</td>\n",
              "    </tr>\n",
              "  </tbody>\n",
              "</table>\n",
              "</div>\n",
              "      <button class=\"colab-df-convert\" onclick=\"convertToInteractive('df-c3ce2470-a9ba-44e9-b15e-1e7aa50a9571')\"\n",
              "              title=\"Convert this dataframe to an interactive table.\"\n",
              "              style=\"display:none;\">\n",
              "        \n",
              "  <svg xmlns=\"http://www.w3.org/2000/svg\" height=\"24px\"viewBox=\"0 0 24 24\"\n",
              "       width=\"24px\">\n",
              "    <path d=\"M0 0h24v24H0V0z\" fill=\"none\"/>\n",
              "    <path d=\"M18.56 5.44l.94 2.06.94-2.06 2.06-.94-2.06-.94-.94-2.06-.94 2.06-2.06.94zm-11 1L8.5 8.5l.94-2.06 2.06-.94-2.06-.94L8.5 2.5l-.94 2.06-2.06.94zm10 10l.94 2.06.94-2.06 2.06-.94-2.06-.94-.94-2.06-.94 2.06-2.06.94z\"/><path d=\"M17.41 7.96l-1.37-1.37c-.4-.4-.92-.59-1.43-.59-.52 0-1.04.2-1.43.59L10.3 9.45l-7.72 7.72c-.78.78-.78 2.05 0 2.83L4 21.41c.39.39.9.59 1.41.59.51 0 1.02-.2 1.41-.59l7.78-7.78 2.81-2.81c.8-.78.8-2.07 0-2.86zM5.41 20L4 18.59l7.72-7.72 1.47 1.35L5.41 20z\"/>\n",
              "  </svg>\n",
              "      </button>\n",
              "      \n",
              "  <style>\n",
              "    .colab-df-container {\n",
              "      display:flex;\n",
              "      flex-wrap:wrap;\n",
              "      gap: 12px;\n",
              "    }\n",
              "\n",
              "    .colab-df-convert {\n",
              "      background-color: #E8F0FE;\n",
              "      border: none;\n",
              "      border-radius: 50%;\n",
              "      cursor: pointer;\n",
              "      display: none;\n",
              "      fill: #1967D2;\n",
              "      height: 32px;\n",
              "      padding: 0 0 0 0;\n",
              "      width: 32px;\n",
              "    }\n",
              "\n",
              "    .colab-df-convert:hover {\n",
              "      background-color: #E2EBFA;\n",
              "      box-shadow: 0px 1px 2px rgba(60, 64, 67, 0.3), 0px 1px 3px 1px rgba(60, 64, 67, 0.15);\n",
              "      fill: #174EA6;\n",
              "    }\n",
              "\n",
              "    [theme=dark] .colab-df-convert {\n",
              "      background-color: #3B4455;\n",
              "      fill: #D2E3FC;\n",
              "    }\n",
              "\n",
              "    [theme=dark] .colab-df-convert:hover {\n",
              "      background-color: #434B5C;\n",
              "      box-shadow: 0px 1px 3px 1px rgba(0, 0, 0, 0.15);\n",
              "      filter: drop-shadow(0px 1px 2px rgba(0, 0, 0, 0.3));\n",
              "      fill: #FFFFFF;\n",
              "    }\n",
              "  </style>\n",
              "\n",
              "      <script>\n",
              "        const buttonEl =\n",
              "          document.querySelector('#df-c3ce2470-a9ba-44e9-b15e-1e7aa50a9571 button.colab-df-convert');\n",
              "        buttonEl.style.display =\n",
              "          google.colab.kernel.accessAllowed ? 'block' : 'none';\n",
              "\n",
              "        async function convertToInteractive(key) {\n",
              "          const element = document.querySelector('#df-c3ce2470-a9ba-44e9-b15e-1e7aa50a9571');\n",
              "          const dataTable =\n",
              "            await google.colab.kernel.invokeFunction('convertToInteractive',\n",
              "                                                     [key], {});\n",
              "          if (!dataTable) return;\n",
              "\n",
              "          const docLinkHtml = 'Like what you see? Visit the ' +\n",
              "            '<a target=\"_blank\" href=https://colab.research.google.com/notebooks/data_table.ipynb>data table notebook</a>'\n",
              "            + ' to learn more about interactive tables.';\n",
              "          element.innerHTML = '';\n",
              "          dataTable['output_type'] = 'display_data';\n",
              "          await google.colab.output.renderOutput(dataTable, element);\n",
              "          const docLink = document.createElement('div');\n",
              "          docLink.innerHTML = docLinkHtml;\n",
              "          element.appendChild(docLink);\n",
              "        }\n",
              "      </script>\n",
              "    </div>\n",
              "  </div>\n",
              "  "
            ]
          },
          "metadata": {},
          "execution_count": 61
        }
      ]
    },
    {
      "cell_type": "code",
      "source": [
        "sample_text = df.iloc[0:5 , 2].to_list()\n",
        "sample_text"
      ],
      "metadata": {
        "colab": {
          "base_uri": "https://localhost:8080/"
        },
        "id": "mcPc7lfeZ-54",
        "outputId": "08e584a4-943d-4f0e-843c-ea1ce0b6b386"
      },
      "execution_count": 50,
      "outputs": [
        {
          "output_type": "execute_result",
          "data": {
            "text/plain": [
              "['ademetionine tablets 400 mg adefresh-400 t-400 1x10 tablets ascentra',\n",
              " 'composition : mfglic.no.110/ua/sc/p-2006 & 110/ua/2006 enteric coated tablet contains batch . ademetionine 1.4 butane disulfonate ( sd4 eq.to ademetionine lon 400mg . mfg.date jfa excipients q.s . exp.date : colour : red oxide iron f m.r.p .. dosage : directed physician store cool & dry place per 10tablets 1 protect light . incl.of taxes keep medicine reach children caution : sold retail without prescription registered medical practitioner marketed indi ascentra manufactured : sufford laboratories pvt.ltd iso 9001:2015.14001:2015.ohsas 18001:2007 gmp ascentra 83/4 , friends colony.balluput 143.raipur ind.areabhagwanpurrooree , uk dehrad : n-248001uk email : ho.stafford2016 @ gmail.com',\n",
              " 'marketednce ascentra di ascentra 8/4frnds colnupr ddun-2480k ademetionine tablets.400 mg adefresh400 composition : enteric coated tablet contains a-40 ademetionine 1.4 butane disulfonate ( sd4 eq ademetionine lon 400mg excipients s-b colourred oxide ot iron dosage : directed physician -400 store cool & dry place.protect light keep medicine reach children cautonnot soby rotw prescnpbon ot rgisterec medieapraot resh-400 mfg.lic.no . :110/uasc/p-2006 & 110ua2006 vanecureo by.syorol2boces p s090012015.1400120150sas1800120 gmp 43rind.ra.bhro o.52016 @ ot.com markeed ingi ascentra ascentra 834.friends cobaupr . dehra0n-2180k ademetionine tablets 400 mg adefresh-400 composition : enteric coated tablet contains : ademetionine 1.4 butane disuifonate ( sd4 eo ademetionine lon 400m0',\n",
              " 'shnowoe starta r0o adenomnac 121 % manotactured india ro ( 105c3rs 1246 % macleodspharmaceuticalslid 13.48 % vilage theda polodhimalra.tehul badd 45.85 % distsolan , hmachaipradesh.india-174101 cfibre 1063 % ofatlanta arcademarol church roao arborydrate 24.25 andherie.mumbal-400059 . lerbtoy ecablet focquery & complaints dietary supplement e-mall : customorcareomacleodspharma.com s-adenosyl methionine tablets ingredents.methacrylic aod-copolymer sodium starch - glycotate.permed anticaking agonts ( e551 e553b.e570 2 adenomac 2oo e572 ) .permited emulserse460.e462.e464e468 permed foam stabiizer e1505permitted glazing agenis r00 ( e901ande903 ) .perttedaadrecatox ( e50 ) contains permitted syntheticfood colour sn enteric coated iabe conans usage recommended heathoare prolessionas s-adahosy-l-methionine cisulfate p-ioiene sulfonare storeinacooland dryplace phm01194903 equiva s-adosylon0o200mg protectfromlight denomaczoo nutritional information macleods portablet manufactured todia fats 3.93 % wor105c3hs 52.46 % macleodspharmaceuticalslto ags 13.48 % pvoteins 45.88 % crudofibre 0.83 % andhenemumbai -400059 500 cartohyorote 24.259 ery forquory & complalnts : dietary supplement e-mall.customercare @ macleodspharma.com s-adenosvl methinnine tahlets ingrediennethacryic acidcopoymer.sodm starch',\n",
              " \"metadoxine tablets alcoliv uncoataotablet contains pexpfoo76 metadoxice 600.mg excipiants qs dosageasdirected the'specialist storeatroomtemperature protectea light & moisture warningto be'sold retail ontheprescription specialistonly sun phafima alcoliv alcoliv alcoliv\"]"
            ]
          },
          "metadata": {},
          "execution_count": 50
        }
      ]
    },
    {
      "cell_type": "code",
      "source": [
        "# import nltk\n",
        "# nltk.download('punkt')\n",
        "# nltk.download('averaged_perceptron_tagger')\n",
        "# from nltk import word_tokenize, pos_tag"
      ],
      "metadata": {
        "colab": {
          "base_uri": "https://localhost:8080/"
        },
        "id": "nMalje-dbB5F",
        "outputId": "bc5afae9-f5a7-4c72-ea69-b96d7c84fe53"
      },
      "execution_count": 33,
      "outputs": [
        {
          "output_type": "stream",
          "name": "stderr",
          "text": [
            "[nltk_data] Downloading package punkt to /root/nltk_data...\n",
            "[nltk_data]   Package punkt is already up-to-date!\n",
            "[nltk_data] Downloading package averaged_perceptron_tagger to\n",
            "[nltk_data]     /root/nltk_data...\n",
            "[nltk_data]   Package averaged_perceptron_tagger is already up-to-\n",
            "[nltk_data]       date!\n"
          ]
        },
        {
          "output_type": "execute_result",
          "data": {
            "text/plain": [
              "True"
            ]
          },
          "metadata": {},
          "execution_count": 33
        }
      ]
    },
    {
      "cell_type": "code",
      "source": [
        "# for i in range(0,len(sample_text)):\n",
        "#     print(pos_tag(word_tokenize(sample_text[i])))\n",
        "#     print('n')"
      ],
      "metadata": {
        "colab": {
          "base_uri": "https://localhost:8080/"
        },
        "id": "wUrirGFQai51",
        "outputId": "5712ba33-27ca-4c0b-bd4c-a218c433cf0c"
      },
      "execution_count": 35,
      "outputs": [
        {
          "output_type": "stream",
          "name": "stdout",
          "text": [
            "[('Ademetionine', 'NNP'), ('Tablets', 'VBZ'), ('400', 'CD'), ('mg', 'JJ'), ('Adefresh-400', 'JJ'), ('T-400', 'JJ'), ('1x10', 'CD'), ('Tablets', 'NNS'), ('Ascentra', 'NNP')]\n",
            "n\n",
            "[('Composition', 'NN'), (':', ':'), ('MfgLic.No.110/UA/SC/P-2006', 'NNP'), ('&', 'CC'), ('110/UA/2006', 'CD'), ('Each', 'DT'), ('Enteric', 'NNP'), ('coated', 'VBD'), ('tablet', 'NN'), ('contains', 'NNS'), ('Batch', 'NNP'), ('No', 'NNP'), ('.', '.'), ('Ademetionine', 'VB'), ('1.4', 'CD'), ('butane', 'NN'), ('disulfonate', 'NN'), ('(', '('), ('SD4', 'NNP'), ('Eq.to', 'NNP'), ('Ademetionine', 'NNP'), ('lon', 'NN'), ('400mg', 'CD'), ('.', '.'), ('Mfg.Date', 'NNP'), ('Jfa', 'NNP'), ('Excipients', 'NNP'), ('q.s', 'NN'), ('.', '.'), ('Exp.Date', 'NN'), (':', ':'), ('Colour', 'NN'), (':', ':'), ('Red', 'JJ'), ('Oxide', 'NNP'), ('of', 'IN'), ('Iron', 'NNP'), ('f', 'NN'), ('M.R.P', 'NNP'), ('..', 'NNP'), ('Dosage', 'NN'), (':', ':'), ('As', 'IN'), ('directed', 'VBN'), ('by', 'IN'), ('the', 'DT'), ('Physician', 'JJ'), ('Store', 'NN'), ('in', 'IN'), ('a', 'DT'), ('cool', 'JJ'), ('&', 'CC'), ('dry', 'JJ'), ('place', 'NN'), ('Per', 'NNP'), ('10Tablets', 'CD'), ('1', 'CD'), ('Protect', 'NN'), ('from', 'IN'), ('light', 'NN'), ('.', '.'), ('Incl.of', 'NNP'), ('all', 'DT'), ('taxes', 'NNS'), ('Keep', 'VBP'), ('the', 'DT'), ('medicine', 'NN'), ('out', 'IN'), ('of', 'IN'), ('reach', 'NN'), ('of', 'IN'), ('children', 'NNS'), ('CAUTION', 'NNP'), (':', ':'), ('Not', 'RB'), ('to', 'TO'), ('be', 'VB'), ('sold', 'VBN'), ('by', 'IN'), ('retail', 'JJ'), ('without', 'IN'), ('the', 'DT'), ('prescription', 'NN'), ('of', 'IN'), ('a', 'DT'), ('Registered', 'NNP'), ('Medical', 'NNP'), ('Practitioner', 'NNP'), ('Marketed', 'NNP'), ('in', 'IN'), ('Indi', 'NNP'), ('by', 'IN'), ('ASCENTRA', 'NNP'), ('Manufactured', 'NNP'), ('by', 'IN'), (':', ':'), ('Sufford', 'NNP'), ('Laboratories', 'NNPS'), ('Pvt.Ltd', 'NNP'), ('A', 'NNP'), ('An', 'DT'), ('ISO', 'NNP'), ('9001:2015.14001:2015.OHSAS', 'CD'), ('18001:2007', 'CD'), ('GMP', 'NNP'), ('Ascentra', 'NNP'), ('83/4', 'CD'), (',', ','), ('Friends', 'NNPS'), ('Colony.Balluput', 'NNP'), ('143.Raipur', 'CD'), ('Ind.AreaBhagwanpurRooree', 'NNP'), (',', ','), ('UK', 'NNP'), ('Dehrad', 'NNP'), (':', ':'), ('n-248001UK', 'JJ'), ('Email', 'NN'), (':', ':'), ('ho.stafford2016', 'NN'), ('@', 'NN'), ('gmail.com', 'NN')]\n",
            "n\n",
            "[('Marketednce', 'NNP'), ('ASCENTRA', 'NNP'), ('Di', 'NNP'), ('Ascentra', 'NNP'), ('8/4Frnds', 'CD'), ('Colnupr', 'NNP'), ('Ddun-2480K', 'NNP'), ('Ademetionine', 'NNP'), ('Tablets.400', 'NNP'), ('mg', 'NN'), ('Adefresh400', 'NNP'), ('Composition', 'NNP'), (':', ':'), ('Each', 'DT'), ('Enteric', 'NNP'), ('coated', 'VBD'), ('tablet', 'NN'), ('contains', 'NNS'), ('A-40', 'NNP'), ('Ademetionine', 'NNP'), ('1.4', 'CD'), ('butane', 'NN'), ('disulfonate', 'NN'), ('(', '('), ('SD4', 'NNP'), ('Eq', 'NNP'), ('to', 'TO'), ('Ademetionine', 'NNP'), ('lon', 'NN'), ('400mg', 'CD'), ('Excipients', 'NNS'), ('s-b', 'JJ'), ('ColourRed', 'NNP'), ('Oxide', 'NNP'), ('ot', 'NNP'), ('iron', 'NN'), ('Dosage', 'NN'), (':', ':'), ('As', 'IN'), ('directed', 'VBN'), ('by', 'IN'), ('the', 'DT'), ('Physician', 'JJ'), ('-400', 'NN'), ('Store', 'NN'), ('in', 'IN'), ('a', 'DT'), ('cool', 'JJ'), ('&', 'CC'), ('dry', 'JJ'), ('place.Protect', 'NN'), ('from', 'IN'), ('light', 'JJ'), ('Keep', 'NNP'), ('the', 'DT'), ('medicine', 'NN'), ('out', 'IN'), ('of', 'IN'), ('reach', 'NN'), ('of', 'IN'), ('children', 'NNS'), ('CAUTONNot', 'NNP'), ('soby', 'NN'), ('rotw', 'NN'), ('prescnpbon', 'NN'), ('ot', 'IN'), ('a', 'DT'), ('Rgisterec', 'NNP'), ('MedieaPraot', 'NNP'), ('resh-400', 'JJ'), ('Mfg.Lic.No', 'NNP'), ('.', '.'), (':110/UASC/P-2006', 'NNP'), ('&', 'CC'), ('110UA2006', 'CD'), ('Vanecureo', 'NNP'), ('by.SYoroL2boces', 'NNS'), ('P', 'NNP'), ('S090012015.1400120150SAS1800120', 'NNP'), ('GMP', 'NNP'), ('43Rind.ra.BhRo', 'CD'), ('o.52016', 'NN'), ('@', 'NNP'), ('oT.com', 'MD'), ('Markeed', 'NNP'), ('in', 'IN'), ('Ingi', 'NNP'), ('y', 'NNP'), ('ASCENTRA', 'NNP'), ('Ascentra', 'NNP'), ('834.Friends', 'CD'), ('CoBaupr', 'NNP'), ('.', '.'), ('Dehra0n-2180K', 'NNP'), ('Ademetionine', 'NNP'), ('Tablets', 'VBZ'), ('400', 'CD'), ('mg', 'NN'), ('Adefresh-400', 'JJ'), ('Composition', 'NN'), (':', ':'), ('Each', 'DT'), ('Enteric', 'NNP'), ('coated', 'VBD'), ('tablet', 'NN'), ('contains', 'NNS'), (':', ':'), ('Ademetionine', 'NNP'), ('1.4', 'CD'), ('butane', 'NN'), ('disuifonate', 'NN'), ('(', '('), ('SD4', 'NNP'), ('Eo', 'NNP'), ('to', 'TO'), ('Ademetionine', 'NNP'), ('lon', 'NN'), ('400m0', 'CD')]\n",
            "n\n",
            "[('SHNOWOE', 'NNP'), ('starta', 'NN'), ('R0o', 'NNP'), ('Adenomnac', 'NNP'), ('121', 'CD'), ('%', 'NN'), ('Manotactured', 'NNP'), ('in', 'IN'), ('india', 'NN'), ('by', 'IN'), ('ro', 'NN'), ('(', '('), ('105C3rs', 'CD'), ('1246', 'CD'), ('%', 'NN'), ('MACLEODSPHARMACEUTICALSLID', 'NNP'), ('13.48', 'CD'), ('%', 'NN'), ('Vilage', 'NNP'), ('Theda', 'NNP'), ('POLodhimalra.Tehul', 'NNP'), ('Badd', 'NNP'), ('45.85', 'CD'), ('%', 'NN'), ('DistSolan', 'NNP'), (',', ','), ('HmachaiPradesh.india-174101', 'NNP'), ('CFibre', 'NNP'), ('1063', 'CD'), ('%', 'NN'), ('OfAtlanta', 'NNP'), ('ArcadeMarol', 'NNP'), ('Church', 'NNP'), ('Roao', 'NNP'), ('arborydrate', 'VBP'), ('24.25', 'CD'), ('AndheriE.Mumbal-400059', 'NNP'), ('.', '.'), ('LERBTOY', 'NNP'), ('ecablet', 'NN'), ('Focquery', 'NNP'), ('&', 'CC'), ('complaints', 'NNS'), ('DIETARY', 'NNP'), ('SUPPLEMENT', 'NNP'), ('E-mall', 'NN'), (':', ':'), ('customorcareomacleodspharma.com', 'NN'), ('S-Adenosyl', 'NNP'), ('Methionine', 'NNP'), ('Tablets', 'NNP'), ('Other', 'JJ'), ('ingredents.Methacrylic', 'JJ'), ('aod-copolymer', 'JJ'), ('Sodium', 'NNP'), ('Starch', 'NNP'), ('-', ':'), ('Glycotate.Permed', 'VBD'), ('Anticaking', 'JJ'), ('agonts', 'NNS'), ('(', '('), ('E551', 'NNP'), ('E553b.E570', 'NNP'), ('2', 'CD'), ('Adenomac', 'NNP'), ('2oo', 'CD'), ('E572', 'NNP'), (')', ')'), ('.Permited', 'VBD'), ('emulsersE460.E462.E464E468', 'NN'), ('Permed', 'NNP'), ('Foam', 'NNP'), ('Stabiizer', 'NNP'), ('E1505Permitted', 'NNP'), ('Glazing', 'NNP'), ('agenis', 'NN'), ('R00', 'NNP'), ('(', '('), ('E901andE903', 'NNP'), (')', ')'), ('.PerttedAadRecatox', 'NNP'), ('(', '('), ('E50', 'NNP'), (')', ')'), ('CONTAINS', 'NNP'), ('PERMITTED', 'NNP'), ('SYNTHETICFOOD', 'NNP'), ('COLOUR', 'NNP'), ('sn', 'VBZ'), ('Each', 'DT'), ('enteric', 'NN'), ('coated', 'VBD'), ('iabe', 'JJ'), ('conans', 'NNS'), ('Usage', 'VBP'), ('As', 'IN'), ('recommended', 'VBN'), ('by', 'IN'), ('Heathoare', 'NNP'), ('Prolessionas', 'NNP'), ('S-Adahosy-L-Methionine', 'NNP'), ('cisulfate', 'NN'), ('p-ioiene', 'NN'), ('sulfonare', 'NN'), ('STOREINACOOLAND', 'NNP'), ('DRYPLACE', 'NNP'), ('PHM01194903', 'NNP'), ('equiva', 'VBZ'), ('to', 'TO'), ('S-AdosyLon0o200mg', 'NNP'), ('PROTECTFROMLIGHT', 'NNP'), ('denomaczoo', 'VBZ'), ('Nutritional', 'NNP'), ('Information', 'NNP'), ('MACLEODS', 'NNP'), ('Portablet', 'NNP'), ('Manufactured', 'NNP'), ('in', 'IN'), ('todia', 'NN'), ('by', 'IN'), ('Fats', 'NNP'), ('3.93', 'CD'), ('%', 'NN'), ('Wor105C3hs', 'NNP'), ('52.46', 'CD'), ('%', 'NN'), ('MACLEODSPHARMACEUTICALSLTO', 'NNP'), ('AGS', 'NNP'), ('13.48', 'CD'), ('%', 'NN'), ('Pvoteins', 'VBZ'), ('45.88', 'CD'), ('%', 'NN'), ('CrUdoFibre', 'NNP'), ('0.83', 'CD'), ('%', 'NN'), ('AndhenEMumbai', 'NNP'), ('-400059', 'NNP'), ('500', 'CD'), ('Cartohyorote', 'NNP'), ('24.259', 'CD'), ('Ery', 'NNP'), ('Forquory', 'NNP'), ('&', 'CC'), ('complalnts', 'NNS'), (':', ':'), ('DIETARY', 'NNP'), ('SUPPLEMENT', 'NNP'), ('E-mall.customercare', 'NNP'), ('@', 'NNP'), ('macleodspharma.com', 'POS'), ('S-Adenosvl', 'NNP'), ('Methinnine', 'NNP'), ('Tahlets', 'NNP'), ('Other', 'JJ'), ('ingredienNethacryic', 'NN'), ('acidcopoymer.Sodm', 'IN'), ('Starch', 'NNP')]\n",
            "n\n",
            "[('Metadoxine', 'NNP'), ('Tablets', 'NNP'), ('ALCOLIV', 'NNP'), ('each', 'DT'), ('uncoataotablet', 'NN'), ('contains', 'VBZ'), ('PEXPFOO76', 'NNP'), ('metadoxice', 'NN'), ('600.mg', 'CD'), ('excipiants', 'NNS'), ('QS', 'NNP'), ('dosageasdirected', 'VBN'), ('by', 'IN'), (\"the'specialist\", 'JJ'), ('storeatroomtemperature', 'NN'), ('protectea', 'NN'), ('from', 'IN'), ('light', 'JJ'), ('&', 'CC'), ('moisture', 'NN'), ('warningto', 'NN'), (\"be'sold\", 'VBN'), ('by', 'IN'), ('retail', 'JJ'), ('ontheprescription', 'NN'), ('of', 'IN'), ('a', 'DT'), ('specialistonly', 'JJ'), ('SUN', 'NNP'), ('PHAFIMA', 'NNP'), ('ALCOLIV', 'NNP'), ('ALCOLIV', 'NNP'), ('ALCOLIV', 'NNP')]\n",
            "n\n"
          ]
        }
      ]
    },
    {
      "cell_type": "code",
      "source": [
        "import plotly.express as px\n",
        "from wordcloud import WordCloud\n",
        "\n",
        "word_cloud_text = ' '.join(sample_text)\n",
        "\n",
        "wordcloud = WordCloud().generate(word_cloud_text)\n",
        "\n",
        "fig = px.imshow(wordcloud, color_continuous_scale='gray')\n",
        "fig.show()"
      ],
      "metadata": {
        "colab": {
          "base_uri": "https://localhost:8080/",
          "height": 542
        },
        "id": "lqShb_K98e6W",
        "outputId": "62f39441-2fc9-4abd-fbc4-f459f8d53a8d"
      },
      "execution_count": 52,
      "outputs": [
        {
          "output_type": "display_data",
          "data": {
            "text/html": [
              "<html>\n",
              "<head><meta charset=\"utf-8\" /></head>\n",
              "<body>\n",
              "    <div>            <script src=\"https://cdnjs.cloudflare.com/ajax/libs/mathjax/2.7.5/MathJax.js?config=TeX-AMS-MML_SVG\"></script><script type=\"text/javascript\">if (window.MathJax) {MathJax.Hub.Config({SVG: {font: \"STIX-Web\"}});}</script>                <script type=\"text/javascript\">window.PlotlyConfig = {MathJaxConfig: 'local'};</script>\n",
              "        <script src=\"https://cdn.plot.ly/plotly-2.8.3.min.js\"></script>                <div id=\"cd832c65-f5ba-4f95-a507-436bdc522ab9\" class=\"plotly-graph-div\" style=\"height:525px; width:100%;\"></div>            <script type=\"text/javascript\">                                    window.PLOTLYENV=window.PLOTLYENV || {};                                    if (document.getElementById(\"cd832c65-f5ba-4f95-a507-436bdc522ab9\")) {                    Plotly.newPlot(                        \"cd832c65-f5ba-4f95-a507-436bdc522ab9\",                        [{\"name\":\"0\",\"source\":\"data:image/png;base64,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\",\"type\":\"image\",\"xaxis\":\"x\",\"yaxis\":\"y\",\"hovertemplate\":\"x: %{x}<br>y: %{y}<br>color: [%{z[0]}, %{z[1]}, %{z[2]}]<extra></extra>\"}],                        {\"template\":{\"data\":{\"bar\":[{\"error_x\":{\"color\":\"#2a3f5f\"},\"error_y\":{\"color\":\"#2a3f5f\"},\"marker\":{\"line\":{\"color\":\"#E5ECF6\",\"width\":0.5},\"pattern\":{\"fillmode\":\"overlay\",\"size\":10,\"solidity\":0.2}},\"type\":\"bar\"}],\"barpolar\":[{\"marker\":{\"line\":{\"color\":\"#E5ECF6\",\"width\":0.5},\"pattern\":{\"fillmode\":\"overlay\",\"size\":10,\"solidity\":0.2}},\"type\":\"barpolar\"}],\"carpet\":[{\"aaxis\":{\"endlinecolor\":\"#2a3f5f\",\"gridcolor\":\"white\",\"linecolor\":\"white\",\"minorgridcolor\":\"white\",\"startlinecolor\":\"#2a3f5f\"},\"baxis\":{\"endlinecolor\":\"#2a3f5f\",\"gridcolor\":\"white\",\"linecolor\":\"white\",\"minorgridcolor\":\"white\",\"startlinecolor\":\"#2a3f5f\"},\"type\":\"carpet\"}],\"choropleth\":[{\"colorbar\":{\"outlinewidth\":0,\"ticks\":\"\"},\"type\":\"choropleth\"}],\"contour\":[{\"colorbar\":{\"outlinewidth\":0,\"ticks\":\"\"},\"colorscale\":[[0.0,\"#0d0887\"],[0.1111111111111111,\"#46039f\"],[0.2222222222222222,\"#7201a8\"],[0.3333333333333333,\"#9c179e\"],[0.4444444444444444,\"#bd3786\"],[0.5555555555555556,\"#d8576b\"],[0.6666666666666666,\"#ed7953\"],[0.7777777777777778,\"#fb9f3a\"],[0.8888888888888888,\"#fdca26\"],[1.0,\"#f0f921\"]],\"type\":\"contour\"}],\"contourcarpet\":[{\"colorbar\":{\"outlinewidth\":0,\"ticks\":\"\"},\"type\":\"contourcarpet\"}],\"heatmap\":[{\"colorbar\":{\"outlinewidth\":0,\"ticks\":\"\"},\"colorscale\":[[0.0,\"#0d0887\"],[0.1111111111111111,\"#46039f\"],[0.2222222222222222,\"#7201a8\"],[0.3333333333333333,\"#9c179e\"],[0.4444444444444444,\"#bd3786\"],[0.5555555555555556,\"#d8576b\"],[0.6666666666666666,\"#ed7953\"],[0.7777777777777778,\"#fb9f3a\"],[0.8888888888888888,\"#fdca26\"],[1.0,\"#f0f921\"]],\"type\":\"heatmap\"}],\"heatmapgl\":[{\"colorbar\":{\"outlinewidth\":0,\"ticks\":\"\"},\"colorscale\":[[0.0,\"#0d0887\"],[0.1111111111111111,\"#46039f\"],[0.2222222222222222,\"#7201a8\"],[0.3333333333333333,\"#9c179e\"],[0.4444444444444444,\"#bd3786\"],[0.5555555555555556,\"#d8576b\"],[0.6666666666666666,\"#ed7953\"],[0.7777777777777778,\"#fb9f3a\"],[0.8888888888888888,\"#fdca26\"],[1.0,\"#f0f921\"]],\"type\":\"heatmapgl\"}],\"histogram\":[{\"marker\":{\"pattern\":{\"fillmode\":\"overlay\",\"size\":10,\"solidity\":0.2}},\"type\":\"histogram\"}],\"histogram2d\":[{\"colorbar\":{\"outlinewidth\":0,\"ticks\":\"\"},\"colorscale\":[[0.0,\"#0d0887\"],[0.1111111111111111,\"#46039f\"],[0.2222222222222222,\"#7201a8\"],[0.3333333333333333,\"#9c179e\"],[0.4444444444444444,\"#bd3786\"],[0.5555555555555556,\"#d8576b\"],[0.6666666666666666,\"#ed7953\"],[0.7777777777777778,\"#fb9f3a\"],[0.8888888888888888,\"#fdca26\"],[1.0,\"#f0f921\"]],\"type\":\"histogram2d\"}],\"histogram2dcontour\":[{\"colorbar\":{\"outlinewidth\":0,\"ticks\":\"\"},\"colorscale\":[[0.0,\"#0d0887\"],[0.1111111111111111,\"#46039f\"],[0.2222222222222222,\"#7201a8\"],[0.3333333333333333,\"#9c179e\"],[0.4444444444444444,\"#bd3786\"],[0.5555555555555556,\"#d8576b\"],[0.6666666666666666,\"#ed7953\"],[0.7777777777777778,\"#fb9f3a\"],[0.8888888888888888,\"#fdca26\"],[1.0,\"#f0f921\"]],\"type\":\"histogram2dcontour\"}],\"mesh3d\":[{\"colorbar\":{\"outlinewidth\":0,\"ticks\":\"\"},\"type\":\"mesh3d\"}],\"parcoords\":[{\"line\":{\"colorbar\":{\"outlinewidth\":0,\"ticks\":\"\"}},\"type\":\"parcoords\"}],\"pie\":[{\"automargin\":true,\"type\":\"pie\"}],\"scatter\":[{\"marker\":{\"colorbar\":{\"outlinewidth\":0,\"ticks\":\"\"}},\"type\":\"scatter\"}],\"scatter3d\":[{\"line\":{\"colorbar\":{\"outlinewidth\":0,\"ticks\":\"\"}},\"marker\":{\"colorbar\":{\"outlinewidth\":0,\"ticks\":\"\"}},\"type\":\"scatter3d\"}],\"scattercarpet\":[{\"marker\":{\"colorbar\":{\"outlinewidth\":0,\"ticks\":\"\"}},\"type\":\"scattercarpet\"}],\"scattergeo\":[{\"marker\":{\"colorbar\":{\"outlinewidth\":0,\"ticks\":\"\"}},\"type\":\"scattergeo\"}],\"scattergl\":[{\"marker\":{\"colorbar\":{\"outlinewidth\":0,\"ticks\":\"\"}},\"type\":\"scattergl\"}],\"scattermapbox\":[{\"marker\":{\"colorbar\":{\"outlinewidth\":0,\"ticks\":\"\"}},\"type\":\"scattermapbox\"}],\"scatterpolar\":[{\"marker\":{\"colorbar\":{\"outlinewidth\":0,\"ticks\":\"\"}},\"type\":\"scatterpolar\"}],\"scatterpolargl\":[{\"marker\":{\"colorbar\":{\"outlinewidth\":0,\"ticks\":\"\"}},\"type\":\"scatterpolargl\"}],\"scatterternary\":[{\"marker\":{\"colorbar\":{\"outlinewidth\":0,\"ticks\":\"\"}},\"type\":\"scatterternary\"}],\"surface\":[{\"colorbar\":{\"outlinewidth\":0,\"ticks\":\"\"},\"colorscale\":[[0.0,\"#0d0887\"],[0.1111111111111111,\"#46039f\"],[0.2222222222222222,\"#7201a8\"],[0.3333333333333333,\"#9c179e\"],[0.4444444444444444,\"#bd3786\"],[0.5555555555555556,\"#d8576b\"],[0.6666666666666666,\"#ed7953\"],[0.7777777777777778,\"#fb9f3a\"],[0.8888888888888888,\"#fdca26\"],[1.0,\"#f0f921\"]],\"type\":\"surface\"}],\"table\":[{\"cells\":{\"fill\":{\"color\":\"#EBF0F8\"},\"line\":{\"color\":\"white\"}},\"header\":{\"fill\":{\"color\":\"#C8D4E3\"},\"line\":{\"color\":\"white\"}},\"type\":\"table\"}]},\"layout\":{\"annotationdefaults\":{\"arrowcolor\":\"#2a3f5f\",\"arrowhead\":0,\"arrowwidth\":1},\"autotypenumbers\":\"strict\",\"coloraxis\":{\"colorbar\":{\"outlinewidth\":0,\"ticks\":\"\"}},\"colorscale\":{\"diverging\":[[0,\"#8e0152\"],[0.1,\"#c51b7d\"],[0.2,\"#de77ae\"],[0.3,\"#f1b6da\"],[0.4,\"#fde0ef\"],[0.5,\"#f7f7f7\"],[0.6,\"#e6f5d0\"],[0.7,\"#b8e186\"],[0.8,\"#7fbc41\"],[0.9,\"#4d9221\"],[1,\"#276419\"]],\"sequential\":[[0.0,\"#0d0887\"],[0.1111111111111111,\"#46039f\"],[0.2222222222222222,\"#7201a8\"],[0.3333333333333333,\"#9c179e\"],[0.4444444444444444,\"#bd3786\"],[0.5555555555555556,\"#d8576b\"],[0.6666666666666666,\"#ed7953\"],[0.7777777777777778,\"#fb9f3a\"],[0.8888888888888888,\"#fdca26\"],[1.0,\"#f0f921\"]],\"sequentialminus\":[[0.0,\"#0d0887\"],[0.1111111111111111,\"#46039f\"],[0.2222222222222222,\"#7201a8\"],[0.3333333333333333,\"#9c179e\"],[0.4444444444444444,\"#bd3786\"],[0.5555555555555556,\"#d8576b\"],[0.6666666666666666,\"#ed7953\"],[0.7777777777777778,\"#fb9f3a\"],[0.8888888888888888,\"#fdca26\"],[1.0,\"#f0f921\"]]},\"colorway\":[\"#636efa\",\"#EF553B\",\"#00cc96\",\"#ab63fa\",\"#FFA15A\",\"#19d3f3\",\"#FF6692\",\"#B6E880\",\"#FF97FF\",\"#FECB52\"],\"font\":{\"color\":\"#2a3f5f\"},\"geo\":{\"bgcolor\":\"white\",\"lakecolor\":\"white\",\"landcolor\":\"#E5ECF6\",\"showlakes\":true,\"showland\":true,\"subunitcolor\":\"white\"},\"hoverlabel\":{\"align\":\"left\"},\"hovermode\":\"closest\",\"mapbox\":{\"style\":\"light\"},\"paper_bgcolor\":\"white\",\"plot_bgcolor\":\"#E5ECF6\",\"polar\":{\"angularaxis\":{\"gridcolor\":\"white\",\"linecolor\":\"white\",\"ticks\":\"\"},\"bgcolor\":\"#E5ECF6\",\"radialaxis\":{\"gridcolor\":\"white\",\"linecolor\":\"white\",\"ticks\":\"\"}},\"scene\":{\"xaxis\":{\"backgroundcolor\":\"#E5ECF6\",\"gridcolor\":\"white\",\"gridwidth\":2,\"linecolor\":\"white\",\"showbackground\":true,\"ticks\":\"\",\"zerolinecolor\":\"white\"},\"yaxis\":{\"backgroundcolor\":\"#E5ECF6\",\"gridcolor\":\"white\",\"gridwidth\":2,\"linecolor\":\"white\",\"showbackground\":true,\"ticks\":\"\",\"zerolinecolor\":\"white\"},\"zaxis\":{\"backgroundcolor\":\"#E5ECF6\",\"gridcolor\":\"white\",\"gridwidth\":2,\"linecolor\":\"white\",\"showbackground\":true,\"ticks\":\"\",\"zerolinecolor\":\"white\"}},\"shapedefaults\":{\"line\":{\"color\":\"#2a3f5f\"}},\"ternary\":{\"aaxis\":{\"gridcolor\":\"white\",\"linecolor\":\"white\",\"ticks\":\"\"},\"baxis\":{\"gridcolor\":\"white\",\"linecolor\":\"white\",\"ticks\":\"\"},\"bgcolor\":\"#E5ECF6\",\"caxis\":{\"gridcolor\":\"white\",\"linecolor\":\"white\",\"ticks\":\"\"}},\"title\":{\"x\":0.05},\"xaxis\":{\"automargin\":true,\"gridcolor\":\"white\",\"linecolor\":\"white\",\"ticks\":\"\",\"title\":{\"standoff\":15},\"zerolinecolor\":\"white\",\"zerolinewidth\":2},\"yaxis\":{\"automargin\":true,\"gridcolor\":\"white\",\"linecolor\":\"white\",\"ticks\":\"\",\"title\":{\"standoff\":15},\"zerolinecolor\":\"white\",\"zerolinewidth\":2}}},\"xaxis\":{\"anchor\":\"y\",\"domain\":[0.0,1.0]},\"yaxis\":{\"anchor\":\"x\",\"domain\":[0.0,1.0]},\"margin\":{\"t\":60}},                        {\"responsive\": true}                    ).then(function(){\n",
              "                            \n",
              "var gd = document.getElementById('cd832c65-f5ba-4f95-a507-436bdc522ab9');\n",
              "var x = new MutationObserver(function (mutations, observer) {{\n",
              "        var display = window.getComputedStyle(gd).display;\n",
              "        if (!display || display === 'none') {{\n",
              "            console.log([gd, 'removed!']);\n",
              "            Plotly.purge(gd);\n",
              "            observer.disconnect();\n",
              "        }}\n",
              "}});\n",
              "\n",
              "// Listen for the removal of the full notebook cells\n",
              "var notebookContainer = gd.closest('#notebook-container');\n",
              "if (notebookContainer) {{\n",
              "    x.observe(notebookContainer, {childList: true});\n",
              "}}\n",
              "\n",
              "// Listen for the clearing of the current output cell\n",
              "var outputEl = gd.closest('.output');\n",
              "if (outputEl) {{\n",
              "    x.observe(outputEl, {childList: true});\n",
              "}}\n",
              "\n",
              "                        })                };                            </script>        </div>\n",
              "</body>\n",
              "</html>"
            ]
          },
          "metadata": {}
        }
      ]
    },
    {
      "cell_type": "code",
      "source": [
        "from nltk.tokenize import word_tokenize\n",
        "\n",
        "# Tokenize the text data\n",
        "sample_df['tokens'] = sample_df['preprocessed_text'].apply(word_tokenize)\n",
        "\n",
        "# Create a new data frame that contains the frequency of each token in each document\n",
        "token_frequency = pd.DataFrame(columns=['token', 'frequency'])\n",
        "\n",
        "for index, row in sample_df.iterrows():\n",
        "    for token in set(row['tokens']):\n",
        "        token_frequency = token_frequency.append({\n",
        "            'token': token,\n",
        "            'frequency': row['tokens'].count(token)\n",
        "        }, ignore_index=True)\n",
        "\n",
        "# Group the data frame by token and sum the frequency across all documents\n",
        "token_frequency = token_frequency.groupby('token').sum().reset_index()\n",
        "\n",
        "# Show the first 5 rows of the token frequency data frame\n",
        "token_frequency.head()"
      ],
      "metadata": {
        "colab": {
          "base_uri": "https://localhost:8080/",
          "height": 345
        },
        "id": "M03QgEFTAtiE",
        "outputId": "958bc54b-5921-43c6-8742-2fef58008f75"
      },
      "execution_count": 63,
      "outputs": [
        {
          "output_type": "stream",
          "name": "stderr",
          "text": [
            "<ipython-input-63-69a506252fa9>:4: SettingWithCopyWarning:\n",
            "\n",
            "\n",
            "A value is trying to be set on a copy of a slice from a DataFrame.\n",
            "Try using .loc[row_indexer,col_indexer] = value instead\n",
            "\n",
            "See the caveats in the documentation: https://pandas.pydata.org/pandas-docs/stable/user_guide/indexing.html#returning-a-view-versus-a-copy\n",
            "\n"
          ]
        },
        {
          "output_type": "execute_result",
          "data": {
            "text/plain": [
              "          token  frequency\n",
              "257   vanecureo          1\n",
              "258      vilage          1\n",
              "259   warningto          1\n",
              "260     without          1\n",
              "261  wor105c3hs          1"
            ],
            "text/html": [
              "\n",
              "  <div id=\"df-4087c9df-c41f-4b68-ad11-1719a899cab8\">\n",
              "    <div class=\"colab-df-container\">\n",
              "      <div>\n",
              "<style scoped>\n",
              "    .dataframe tbody tr th:only-of-type {\n",
              "        vertical-align: middle;\n",
              "    }\n",
              "\n",
              "    .dataframe tbody tr th {\n",
              "        vertical-align: top;\n",
              "    }\n",
              "\n",
              "    .dataframe thead th {\n",
              "        text-align: right;\n",
              "    }\n",
              "</style>\n",
              "<table border=\"1\" class=\"dataframe\">\n",
              "  <thead>\n",
              "    <tr style=\"text-align: right;\">\n",
              "      <th></th>\n",
              "      <th>token</th>\n",
              "      <th>frequency</th>\n",
              "    </tr>\n",
              "  </thead>\n",
              "  <tbody>\n",
              "    <tr>\n",
              "      <th>257</th>\n",
              "      <td>vanecureo</td>\n",
              "      <td>1</td>\n",
              "    </tr>\n",
              "    <tr>\n",
              "      <th>258</th>\n",
              "      <td>vilage</td>\n",
              "      <td>1</td>\n",
              "    </tr>\n",
              "    <tr>\n",
              "      <th>259</th>\n",
              "      <td>warningto</td>\n",
              "      <td>1</td>\n",
              "    </tr>\n",
              "    <tr>\n",
              "      <th>260</th>\n",
              "      <td>without</td>\n",
              "      <td>1</td>\n",
              "    </tr>\n",
              "    <tr>\n",
              "      <th>261</th>\n",
              "      <td>wor105c3hs</td>\n",
              "      <td>1</td>\n",
              "    </tr>\n",
              "  </tbody>\n",
              "</table>\n",
              "</div>\n",
              "      <button class=\"colab-df-convert\" onclick=\"convertToInteractive('df-4087c9df-c41f-4b68-ad11-1719a899cab8')\"\n",
              "              title=\"Convert this dataframe to an interactive table.\"\n",
              "              style=\"display:none;\">\n",
              "        \n",
              "  <svg xmlns=\"http://www.w3.org/2000/svg\" height=\"24px\"viewBox=\"0 0 24 24\"\n",
              "       width=\"24px\">\n",
              "    <path d=\"M0 0h24v24H0V0z\" fill=\"none\"/>\n",
              "    <path d=\"M18.56 5.44l.94 2.06.94-2.06 2.06-.94-2.06-.94-.94-2.06-.94 2.06-2.06.94zm-11 1L8.5 8.5l.94-2.06 2.06-.94-2.06-.94L8.5 2.5l-.94 2.06-2.06.94zm10 10l.94 2.06.94-2.06 2.06-.94-2.06-.94-.94-2.06-.94 2.06-2.06.94z\"/><path d=\"M17.41 7.96l-1.37-1.37c-.4-.4-.92-.59-1.43-.59-.52 0-1.04.2-1.43.59L10.3 9.45l-7.72 7.72c-.78.78-.78 2.05 0 2.83L4 21.41c.39.39.9.59 1.41.59.51 0 1.02-.2 1.41-.59l7.78-7.78 2.81-2.81c.8-.78.8-2.07 0-2.86zM5.41 20L4 18.59l7.72-7.72 1.47 1.35L5.41 20z\"/>\n",
              "  </svg>\n",
              "      </button>\n",
              "      \n",
              "  <style>\n",
              "    .colab-df-container {\n",
              "      display:flex;\n",
              "      flex-wrap:wrap;\n",
              "      gap: 12px;\n",
              "    }\n",
              "\n",
              "    .colab-df-convert {\n",
              "      background-color: #E8F0FE;\n",
              "      border: none;\n",
              "      border-radius: 50%;\n",
              "      cursor: pointer;\n",
              "      display: none;\n",
              "      fill: #1967D2;\n",
              "      height: 32px;\n",
              "      padding: 0 0 0 0;\n",
              "      width: 32px;\n",
              "    }\n",
              "\n",
              "    .colab-df-convert:hover {\n",
              "      background-color: #E2EBFA;\n",
              "      box-shadow: 0px 1px 2px rgba(60, 64, 67, 0.3), 0px 1px 3px 1px rgba(60, 64, 67, 0.15);\n",
              "      fill: #174EA6;\n",
              "    }\n",
              "\n",
              "    [theme=dark] .colab-df-convert {\n",
              "      background-color: #3B4455;\n",
              "      fill: #D2E3FC;\n",
              "    }\n",
              "\n",
              "    [theme=dark] .colab-df-convert:hover {\n",
              "      background-color: #434B5C;\n",
              "      box-shadow: 0px 1px 3px 1px rgba(0, 0, 0, 0.15);\n",
              "      filter: drop-shadow(0px 1px 2px rgba(0, 0, 0, 0.3));\n",
              "      fill: #FFFFFF;\n",
              "    }\n",
              "  </style>\n",
              "\n",
              "      <script>\n",
              "        const buttonEl =\n",
              "          document.querySelector('#df-4087c9df-c41f-4b68-ad11-1719a899cab8 button.colab-df-convert');\n",
              "        buttonEl.style.display =\n",
              "          google.colab.kernel.accessAllowed ? 'block' : 'none';\n",
              "\n",
              "        async function convertToInteractive(key) {\n",
              "          const element = document.querySelector('#df-4087c9df-c41f-4b68-ad11-1719a899cab8');\n",
              "          const dataTable =\n",
              "            await google.colab.kernel.invokeFunction('convertToInteractive',\n",
              "                                                     [key], {});\n",
              "          if (!dataTable) return;\n",
              "\n",
              "          const docLinkHtml = 'Like what you see? Visit the ' +\n",
              "            '<a target=\"_blank\" href=https://colab.research.google.com/notebooks/data_table.ipynb>data table notebook</a>'\n",
              "            + ' to learn more about interactive tables.';\n",
              "          element.innerHTML = '';\n",
              "          dataTable['output_type'] = 'display_data';\n",
              "          await google.colab.output.renderOutput(dataTable, element);\n",
              "          const docLink = document.createElement('div');\n",
              "          docLink.innerHTML = docLinkHtml;\n",
              "          element.appendChild(docLink);\n",
              "        }\n",
              "      </script>\n",
              "    </div>\n",
              "  </div>\n",
              "  "
            ]
          },
          "metadata": {},
          "execution_count": 63
        }
      ]
    },
    {
      "cell_type": "code",
      "source": [
        "token_frequency.frequency.value_counts()"
      ],
      "metadata": {
        "colab": {
          "base_uri": "https://localhost:8080/"
        },
        "id": "ifWuaXcHBv6M",
        "outputId": "929fcb55-6c1b-4fca-9f24-e75fce7d85c3"
      },
      "execution_count": 68,
      "outputs": [
        {
          "output_type": "execute_result",
          "data": {
            "text/plain": [
              "1     213\n",
              "2      26\n",
              "3      11\n",
              "7       4\n",
              "4       3\n",
              "5       2\n",
              "10      1\n",
              "14      1\n",
              "9       1\n",
              "Name: frequency, dtype: int64"
            ]
          },
          "metadata": {},
          "execution_count": 68
        }
      ]
    },
    {
      "cell_type": "code",
      "source": [
        "token_frequency.sort_values(by=['frequency'],ascending=False,inplace=True)"
      ],
      "metadata": {
        "id": "Ka8ZPGF1B-JU"
      },
      "execution_count": 71,
      "outputs": []
    },
    {
      "cell_type": "code",
      "source": [
        "import seaborn as sns\n",
        "import matplotlib.pyplot as plt\n",
        "\n",
        "\n",
        "sns.set(rc={'figure.figsize':(15,6)})\n",
        "sns.barplot(x=token_frequency['token'][:15], y=token_frequency['frequency'][:15])\n",
        "plt.xlabel(\"Words\")\n",
        "plt.ylabel(\"Frequency\")\n",
        "plt.title(\"Word Frequency Plot\")\n",
        "plt.xticks(rotation=90)\n",
        "plt.show()"
      ],
      "metadata": {
        "colab": {
          "base_uri": "https://localhost:8080/",
          "height": 476
        },
        "id": "Or2Zd8o69pKn",
        "outputId": "02b03f69-777d-4391-abab-820af9b5af30"
      },
      "execution_count": 78,
      "outputs": [
        {
          "output_type": "display_data",
          "data": {
            "text/plain": [
              "<Figure size 1080x432 with 1 Axes>"
            ],
            "image/png": "[encoded data removed]"
          },
          "metadata": {}
        }
      ]
    },
    {
      "cell_type": "code",
      "source": [],
      "metadata": {
        "id": "D8GysBQF9yeI"
      },
      "execution_count": null,
      "outputs": []
    }
  ]
}